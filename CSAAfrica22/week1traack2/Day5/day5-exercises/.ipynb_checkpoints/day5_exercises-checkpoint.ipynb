{
 "cells": [
  {
   "cell_type": "markdown",
   "id": "b22aba81",
   "metadata": {},
   "source": [
    "## 1. Did you manage yesterday's problems?\n",
    "\n",
    "If you haven't yet done so, please spend some time working on yesterday's problems, including the optional problems at the end."
   ]
  },
  {
   "cell_type": "code",
   "execution_count": 1,
   "id": "8a8a8c31",
   "metadata": {},
   "outputs": [],
   "source": [
    "# nothing to do here"
   ]
  },
  {
   "cell_type": "markdown",
   "id": "faa0dc67",
   "metadata": {},
   "source": [
    "## 2. Python Presto Pizza Co.\n",
    "\n",
    "![Python Presto Pizza Co.](data/yes_the_name_is_trademarked_thanks_for_asking.png \"Python Presto Pizza Co.\")\n",
    "\n",
    "You've decided to open a pizza restaurant. To help manage your kitchen, you've decided to implement an order management system. Each order will be contained in an individual file that looks like this:\n",
    "\n",
    "```\n",
    "1 margherita\n",
    "3 pepperoni\n",
    "1 tuna\n",
    "1 mushroom\n",
    "2 four cheese\n",
    "```\n",
    "\n",
    "Each line contains the number of that pizza that the order contains. You need to write a function that will read in an order file, and produce a list of the ingredients that are needed to make the pizzas that have been ordered. To allow you to calculate this, `recipes.txt` has been provided (in the `data` directory). This file contains the recipes for the pizzas that your restaurant sells. It is structured like this:\n",
    "\n",
    "```\n",
    "margherita:tomato mozzarella garlic basil\n",
    "tuna:tomato mozzarella tuna onion\n",
    "pepperoni:tomato mozzarella pepperoni\n",
    "mushroom:tomato mozzarella garlic mushrooms\n",
    "four cheese:tomato mozzarella cheddar parmesan gorgonzola\n",
    "hawaiian:tomato mozzarella ham pineapple\n",
    "```\n",
    "\n",
    "Each recipe requires 1 unit of each ingredient listed. **Your solution must read in the recipes.txt file, rather than using hard-coded values.**\n",
    "\n",
    "Your program should output a list of the needed ingredients for a given order file. The list should be ordered by the number of each ingredient needed, with the ingredient that we need most of listed first. So, based on the example order above, your program would output:\n",
    "\n",
    "```\n",
    "8 x tomato \n",
    "8 x mozzarella\n",
    "3 x pepperoni\n",
    "1 x garlic\n",
    "1 x basil\n",
    "1 x tuna\n",
    "1 x onion\n",
    "1 x mushrooms\n",
    "1 x cheddar\n",
    "1 x parmesan\n",
    "1 x gorgonzola\n",
    "```\n",
    "\n",
    "You should begin by writing a plan for how you'll structure your program. In particular, think about the inputs to your program, what the program needs to do, and what your program needs to produce. Consider the data structures that you require to help you."
   ]
  },
  {
   "cell_type": "markdown",
   "id": "31cd2961",
   "metadata": {},
   "source": [
    "# write your plan here\n",
    "a function that gets the recipe as a dictionary\n",
    "get your order from the order file and return it as a dictionary\n",
    "a fuction that takes a dictionary of the order and return a dictionary of all the ingridents and their\n",
    "number\n",
    "an helper function which takes of an item and adds the ingrident to the particular key "
   ]
  },
  {
   "cell_type": "markdown",
   "id": "c9f5f918",
   "metadata": {},
   "source": [
    "Now, you can implement your plan. We've provided three order files in the `data` directory to allow you to test your program."
   ]
  },
  {
   "cell_type": "code",
   "execution_count": 2,
   "id": "37003a08",
   "metadata": {},
   "outputs": [],
   "source": [
    "# write your solution here"
   ]
  },
  {
   "cell_type": "code",
   "execution_count": 3,
   "id": "5ca87f39",
   "metadata": {},
   "outputs": [],
   "source": [
    "def get_recipe_dict():\n",
    "    recipe_dict = {}\n",
    "    with open(\"data/recipes.txt\", 'r') as recipe_file:\n",
    "        for line in recipe_file:\n",
    "            line_list = line.strip().split(\":\")\n",
    "            pizza_order = line_list[0]\n",
    "            ingredient_list = line_list[1].split(\" \")\n",
    "            recipe_dict[pizza_order] = ingredient_list\n",
    "            \n",
    "    return recipe_dict"
   ]
  },
  {
   "cell_type": "code",
   "execution_count": 4,
   "id": "04bd2bc3",
   "metadata": {},
   "outputs": [],
   "source": [
    "def read_order(order_file_name):\n",
    "    order_dict = {}\n",
    "    with open(order_file_name, 'r') as order_file:\n",
    "        for line in order_file:\n",
    "            line_list = line.strip().split(\" \")\n",
    "            quantity = int(line_list[0])\n",
    "            pizza = \" \".join(line_list[1:])\n",
    "            order_dict[pizza] = quantity\n",
    "    \n",
    "    return order_dict"
   ]
  },
  {
   "cell_type": "code",
   "execution_count": 5,
   "id": "be2e5bcd",
   "metadata": {},
   "outputs": [],
   "source": [
    "def get_pizza_ingredient_helper(quantity, ingredient_list, ingredient_dict):\n",
    "    for ingredient in ingredient_list:\n",
    "        ingredient_dict[ingredient] = ingredient_dict.get(ingredient, 0) + quantity"
   ]
  },
  {
   "cell_type": "code",
   "execution_count": 6,
   "id": "626befac",
   "metadata": {},
   "outputs": [],
   "source": [
    "def get_pizza_order_ingredients(pizza_dict, recipe_dict):\n",
    "    ingredient_dict = {}\n",
    "    \n",
    "    for pizza, quantity in pizza_dict.items():\n",
    "        ingredient_list = recipe_dict[pizza]\n",
    "        get_pizza_ingredient_helper(quantity, ingredient_list, ingredient_dict)\n",
    "\n",
    "    return ingredient_dict"
   ]
  },
  {
   "cell_type": "code",
   "execution_count": 7,
   "id": "46082ae6",
   "metadata": {},
   "outputs": [],
   "source": [
    "def print_order_ingredients_printer(ingredient_dict):\n",
    "    sorted_ingredient_list = (sorted(ingredient_dict.items(), key = lambda tup : tup[1], \n",
    "                                        reverse=True))\n",
    "    list(map(lambda tup : print(f\"{tup[1]} x {tup[0]}\"), sorted_ingredient_list))"
   ]
  },
  {
   "cell_type": "code",
   "execution_count": 8,
   "id": "748143b7",
   "metadata": {},
   "outputs": [],
   "source": [
    "recipe_dict = get_recipe_dict()\n",
    "    \n",
    "def print_order_ingredients(order_file):\n",
    "    order_dict = read_order(order_file)\n",
    "    order_ingredients = get_pizza_order_ingredients(order_dict, recipe_dict)\n",
    "    print_order_ingredients_printer(order_ingredients)"
   ]
  },
  {
   "cell_type": "code",
   "execution_count": 9,
   "id": "c02d810b",
   "metadata": {},
   "outputs": [
    {
     "name": "stdout",
     "output_type": "stream",
     "text": [
      "Enter the path to the order file: data/order_test.txt\n",
      "8 x tomato\n",
      "8 x mozzarella\n",
      "3 x pepperoni\n",
      "2 x garlic\n",
      "2 x cheddar\n",
      "2 x parmesan\n",
      "2 x gorgonzola\n",
      "1 x basil\n",
      "1 x tuna\n",
      "1 x onion\n",
      "1 x mushrooms\n"
     ]
    }
   ],
   "source": [
    "file_path = input(\"Enter the path to the order file: \")\n",
    "print_order_ingredients(file_path)"
   ]
  },
  {
   "cell_type": "code",
   "execution_count": 10,
   "id": "04b240f9",
   "metadata": {},
   "outputs": [
    {
     "name": "stdout",
     "output_type": "stream",
     "text": [
      "8 x tomato\n",
      "8 x mozzarella\n",
      "3 x pepperoni\n",
      "2 x garlic\n",
      "2 x cheddar\n",
      "2 x parmesan\n",
      "2 x gorgonzola\n",
      "1 x basil\n",
      "1 x tuna\n",
      "1 x onion\n",
      "1 x mushrooms\n",
      "\n",
      "7 x tomato\n",
      "7 x mozzarella\n",
      "3 x ham\n",
      "3 x pineapple\n",
      "2 x tuna\n",
      "2 x onion\n",
      "1 x garlic\n",
      "1 x basil\n",
      "1 x pepperoni\n",
      "\n",
      "10 x tomato\n",
      "10 x mozzarella\n",
      "4 x garlic\n",
      "4 x mushrooms\n",
      "4 x cheddar\n",
      "4 x parmesan\n",
      "4 x gorgonzola\n",
      "1 x tuna\n",
      "1 x onion\n",
      "1 x pepperoni\n",
      "\n",
      "10 x tomato\n",
      "10 x mozzarella\n",
      "4 x garlic\n",
      "3 x ham\n",
      "3 x pineapple\n",
      "2 x tuna\n",
      "2 x onion\n",
      "2 x basil\n",
      "2 x mushrooms\n",
      "1 x cheddar\n",
      "1 x parmesan\n",
      "1 x gorgonzola\n"
     ]
    }
   ],
   "source": [
    "print_order_ingredients(\"data/order_test.txt\")\n",
    "print()\n",
    "print_order_ingredients(\"data/order1.txt\")\n",
    "print()\n",
    "print_order_ingredients(\"data/order2.txt\")\n",
    "print()\n",
    "print_order_ingredients(\"data/order3.txt\")"
   ]
  },
  {
   "cell_type": "markdown",
   "id": "8d706aa9",
   "metadata": {},
   "source": [
    "## 2.1. Adding robustness\n",
    "\n",
    "You should make your pizza ordering program more robust, by detecting and/or handling various errors that might occur. There are lots of things that can go wrong:\n",
    "- the order file might not exist;\n",
    "- the recipes file might not exist;\n",
    "- the files not be in the correct format;\n",
    "- sometimes, the orders contain requests for menu items that don't exist in `recipes.txt`.\n",
    "\n",
    "Modify your pizza ordering program to detect or handle as many errors as you can think of. Sometimes, this means handling exceptions that Python raises (like that raised if we try to open a file that doesn't exist). We can also raise our own exceptions, or use other flow-control statements - like `if`s -- to ensure that our program continues to run as expected."
   ]
  },
  {
   "cell_type": "code",
   "execution_count": 11,
   "id": "0e648473",
   "metadata": {},
   "outputs": [],
   "source": [
    "# modify your solution above"
   ]
  },
  {
   "cell_type": "code",
   "execution_count": 12,
   "id": "20ebe93c",
   "metadata": {},
   "outputs": [],
   "source": [
    "def get_recipe_dict():\n",
    "    recipe_dict = {}\n",
    "    \n",
    "    try:\n",
    "        with open(\"data/recipes.txt\", 'r') as recipe_file:\n",
    "            for line in recipe_file:\n",
    "                if \":\" not in line:\n",
    "                    break\n",
    "                line_list = line.strip().split(\":\")\n",
    "                if len(line_list) != 2:\n",
    "                    break\n",
    "                pizza_order = line_list[0]\n",
    "                ingredient_list = line_list[1].split(\" \")\n",
    "                recipe_dict[pizza_order] = ingredient_list\n",
    "                \n",
    "    except FileNotFoundError:\n",
    "        print(f\"No file with path data/recipes.txt found.\\nTry again.\")\n",
    "        \n",
    "    return recipe_dict"
   ]
  },
  {
   "cell_type": "code",
   "execution_count": 13,
   "id": "b1aa5e58",
   "metadata": {},
   "outputs": [],
   "source": [
    "def read_order(order_file_name):\n",
    "    order_dict = {}\n",
    "    try:\n",
    "        with open(order_file_name, 'r') as order_file:\n",
    "            for line in order_file:\n",
    "                line_list = line.strip().split(\" \")\n",
    "                if len(line_list) != 2:\n",
    "                    break\n",
    "                try:\n",
    "                    quantity = int(line_list[0])\n",
    "                except ValueError:\n",
    "                    quantity = 1\n",
    "                    break\n",
    "                pizza = \" \".join(line_list[1:])\n",
    "                if pizza not in recipe_dict:\n",
    "                    print(f\"We don't currently have the recipe for {pizza}.\")\n",
    "                order_dict[pizza] = quantity\n",
    "    except FileNotFoundError:\n",
    "        print(f\"No file with path {order_file_name} found.\\nTry again.\")\n",
    "\n",
    "    return order_dict"
   ]
  },
  {
   "cell_type": "code",
   "execution_count": 14,
   "id": "80f5577c",
   "metadata": {},
   "outputs": [],
   "source": [
    "def get_pizza_ingredient_helper(quantity, ingredient_list, ingredient_dict):\n",
    "    for ingredient in ingredient_list:\n",
    "        ingredient_dict[ingredient] = ingredient_dict.get(ingredient, 0) + quantity"
   ]
  },
  {
   "cell_type": "code",
   "execution_count": 15,
   "id": "6b3c69f3",
   "metadata": {},
   "outputs": [],
   "source": [
    "def get_pizza_order_ingredients(pizza_dict, recipe_dict):\n",
    "    ingredient_dict = {}\n",
    "    \n",
    "    for pizza, quantity in pizza_dict.items():\n",
    "        ingredient_list = recipe_dict[pizza]\n",
    "        get_pizza_ingredient_helper(quantity, ingredient_list, ingredient_dict)\n",
    "\n",
    "    return ingredient_dict"
   ]
  },
  {
   "cell_type": "code",
   "execution_count": 16,
   "id": "e73c712a",
   "metadata": {},
   "outputs": [],
   "source": [
    "def print_order_ingredients_printer(ingredient_dict):\n",
    "    sorted_ingredient_list = (sorted(ingredient_dict.items(), key = lambda tup : tup[1], \n",
    "                                        reverse=True))\n",
    "    list(map(lambda tup : print(f\"{tup[1]} x {tup[0]}\"), sorted_ingredient_list))"
   ]
  },
  {
   "cell_type": "code",
   "execution_count": 17,
   "id": "16e855a5",
   "metadata": {},
   "outputs": [],
   "source": [
    "recipe_dict = get_recipe_dict()\n",
    "    \n",
    "def print_order_ingredients(order_file):\n",
    "    order_dict = read_order(order_file)\n",
    "    order_ingredients = get_pizza_order_ingredients(order_dict, recipe_dict)\n",
    "    print_order_ingredients_printer(order_ingredients)"
   ]
  },
  {
   "cell_type": "code",
   "execution_count": 18,
   "id": "297fd807",
   "metadata": {},
   "outputs": [
    {
     "name": "stdout",
     "output_type": "stream",
     "text": [
      "Enter the path to the order file: data/order_test.txt\n",
      "6 x tomato\n",
      "6 x mozzarella\n",
      "3 x pepperoni\n",
      "2 x garlic\n",
      "1 x basil\n",
      "1 x tuna\n",
      "1 x onion\n",
      "1 x mushrooms\n"
     ]
    }
   ],
   "source": [
    "file_path = input(\"Enter the path to the order file: \")\n",
    "print_order_ingredients(file_path)"
   ]
  },
  {
   "cell_type": "markdown",
   "id": "698f299b",
   "metadata": {},
   "source": [
    "## Optional: 3. Birthday book\n",
    "\n",
    "In this exercise, you'll write a program that manages people's birthdays. Your program will read in people's birthdays and produce reminders of those that are coming up. We can represent birthdays using a dictionary:\n",
    "\n",
    "`{\"month\": \"Dec\", \"day\": 17}`\n",
    "\n",
    "The _birthday book_ is a dictionary where the keys are people's names, and the corresponding values are their birthdays, as represented with a dictionary in the format above. You'll write several functions to manage the birthday book. Before you start coding, read through all of the functions that you'll be implementing. This will make sure that you can plan to use the correct data structures.\n",
    "\n",
    "First, instantiate a birthday book, and populate it with some sample people and birthdays:"
   ]
  },
  {
   "cell_type": "code",
   "execution_count": 19,
   "id": "782dc0e8",
   "metadata": {},
   "outputs": [
    {
     "name": "stdout",
     "output_type": "stream",
     "text": [
      "{'Joe': {'month': 'Dec', 'day': 9}, 'Susan': {'month': 'Apr', 'day': 12}, 'Stephen': {'month': 'Dec', 'day': 8}, 'Alice': {'month': 'Jun', 'day': 12}, 'Bob': {'month': 'Dec', 'day': 24}, 'Julie': {'month': 'Jan', 'day': 3}, 'Artie': {'month': 'Mar', 'day': 12}}\n"
     ]
    }
   ],
   "source": [
    "# write your solution here\n",
    "birthday_book = {'Joe': {'month': 'Dec', 'day': 9},\n",
    "                 'Susan': {'month': 'Apr', 'day': 12},\n",
    "                 'Stephen': {'month': 'Dec', 'day': 8}\n",
    "                 , 'Alice': {'month': 'Jun', 'day': 12},\n",
    "                 'Bob': {'month': 'Dec', 'day': 24},\n",
    "                 'Julie': {'month': 'Jan', 'day': 3},\n",
    "                 'Artie': {'month': 'Mar', 'day': 12}}\n",
    "print(birthday_book)"
   ]
  },
  {
   "cell_type": "markdown",
   "id": "bb89c40f",
   "metadata": {},
   "source": [
    "Next, define a function that, given a person's name, prints a message containing their birthday."
   ]
  },
  {
   "cell_type": "code",
   "execution_count": 20,
   "id": "f20f6b5e",
   "metadata": {},
   "outputs": [
    {
     "name": "stdout",
     "output_type": "stream",
     "text": [
      "Stephen's birthday is on the 8th of Dec. \n",
      "Happy Birthday in advance.\n"
     ]
    }
   ],
   "source": [
    "# write your solution here\n",
    "def print_birthday_message(person):\n",
    "    birthday = birthday_book.get(person, {\"month\" : \"Unknown\", \"day\" : \"Unknown\"})\n",
    "    print(f\"{person}'s birthday is on the {birthday['day']}th of {birthday['month']}.\",\n",
    "          f\"\\nHappy Birthday in advance.\")\n",
    "    \n",
    "print_birthday_message(\"Stephen\")"
   ]
  },
  {
   "cell_type": "markdown",
   "id": "d1711bab",
   "metadata": {},
   "source": [
    "Next, define a function that, given a month, prints a list of all the people who have birthdays in that month, with the date of their birthday."
   ]
  },
  {
   "cell_type": "code",
   "execution_count": 21,
   "id": "60ac11b6",
   "metadata": {},
   "outputs": [
    {
     "name": "stdout",
     "output_type": "stream",
     "text": [
      "Joe's bithday is on the 9th of Dec.\n",
      "Stephen's bithday is on the 8th of Dec.\n",
      "Bob's bithday is on the 24th of Dec.\n"
     ]
    },
    {
     "data": {
      "text/plain": [
       "[{'Joe': {'month': 'Dec', 'day': 9}},\n",
       " {'Stephen': {'month': 'Dec', 'day': 8}},\n",
       " {'Bob': {'month': 'Dec', 'day': 24}}]"
      ]
     },
     "execution_count": 21,
     "metadata": {},
     "output_type": "execute_result"
    }
   ],
   "source": [
    "# write your solution here\n",
    "def print_people_birthday_in_month(month):\n",
    "    persons_list = []\n",
    "    for person, birthday in birthday_book.items():\n",
    "        if birthday[\"month\"] == month:\n",
    "            print(f\"{person}'s bithday is on the {birthday['day']}th of {birthday['month']}.\")\n",
    "            persons_list.append({person : birthday})\n",
    "            \n",
    "    return persons_list\n",
    "            \n",
    "print_people_birthday_in_month(\"Dec\")"
   ]
  },
  {
   "cell_type": "markdown",
   "id": "75c4e060",
   "metadata": {},
   "source": [
    "Next, define a function that, given a month and date, prints a list of all of the people that have birthdays within the next 7 days, along with the date of their birthday. \n",
    "\n",
    "**Remember: some of these birthdays might be in the next month, and, if the given date is at the end of December, some of them might be in January.**"
   ]
  },
  {
   "cell_type": "code",
   "execution_count": 22,
   "id": "b2b61ec1",
   "metadata": {},
   "outputs": [
    {
     "data": {
      "text/plain": [
       "['Alice']"
      ]
     },
     "execution_count": 22,
     "metadata": {},
     "output_type": "execute_result"
    }
   ],
   "source": [
    "# write your solution here\n",
    "# this implimentation would not take leap yeat into account\n",
    "months_days = {\"Jan\" : 31, \"Feb\" : 28, \"Mar\" : 31, \"Apr\" : 30, \"May\" : 31, \"Jun\" : 30,\n",
    "              \"Jul\" : 31, \"Aug\" : 30, \"Sep\" : 31, \"Oct\" : 31, \"Nov\" : 30, \"Dec\" : 31}\n",
    "def convert_birthday(birthday):\n",
    "    person_month = birthday[\"month\"]\n",
    "    person_day = birthday[\"day\"]\n",
    "    number_day = 0\n",
    "    \n",
    "    for month in months_days:\n",
    "        if month == person_month:\n",
    "            break\n",
    "        number_day += months_days[month]\n",
    "    number_day += person_day\n",
    "    \n",
    "    return number_day\n",
    "\n",
    "def is_birthday_within_7_days(birthday, person_birthday):\n",
    "    birthday_no_days = convert_birthday(birthday)\n",
    "    person_birthday_no_days = convert_birthday(person_birthday)\n",
    "\n",
    "    seven_days_before_the_end_of_the_year = {\"month\" : \"Dec\", \"day\" : 24}\n",
    "    seven_days_before_the_end_of_the_year_no_days = \\\n",
    "    convert_birthday(seven_days_before_the_end_of_the_year)\n",
    "\n",
    "    if 0<= person_birthday_no_days - birthday_no_days <= 7:\n",
    "        return True\n",
    "    if birthday_no_days >= seven_days_before_the_end_of_the_year_no_days:\n",
    "        if 0 <= person_birthday_no_days - (birthday_no_days + 365) <= 7:\n",
    "            return True\n",
    "    return False\n",
    "    \n",
    "\n",
    "def print_people_with_birthday_within_7_days(birthday):\n",
    "    person_list = []\n",
    "    \n",
    "    for person, person_birthday in birthday_book.items():\n",
    "        if is_birthday_within_7_days(birthday, person_birthday):\n",
    "                person_list.append(person)\n",
    "        \n",
    "    return person_list\n",
    "    \n",
    "birthday = {'month': 'Jun', 'day': 12}\n",
    "print_people_with_birthday_within_7_days(birthday)"
   ]
  },
  {
   "cell_type": "markdown",
   "id": "c5050ec8",
   "metadata": {},
   "source": [
    "Finally, write a function that will produce a birthday book from a file containing birthday data. The format of this file is as shown:\n",
    "\n",
    "```\n",
    "Bob,Apr,12\n",
    "Alice,Dec,6\n",
    "Joe,Feb,16\n",
    "```\n",
    "\n",
    "A sample file is given in the `data` directory."
   ]
  },
  {
   "cell_type": "code",
   "execution_count": 23,
   "id": "daf51a0b",
   "metadata": {},
   "outputs": [
    {
     "name": "stdout",
     "output_type": "stream",
     "text": [
      "Joe,Dec,9\n",
      "Susan,Apr,12\n",
      "Stephen,Dec,8\n",
      "Alice,Jun,12\n",
      "Bob,Dec,24\n",
      "Julie,Jan,3\n",
      "Artie,Mar,12\n"
     ]
    }
   ],
   "source": [
    "# write your solution here\n",
    "def get_birthday_book(birthday_file_location):\n",
    "    birthday_book = {}\n",
    "    \n",
    "    with open(birthday_file_location, 'r') as birthday_file:\n",
    "        for line in birthday_file:\n",
    "            line_list = line.strip().split(\",\")\n",
    "            name = line_list[0]\n",
    "            month = line_list[1]\n",
    "            day = int(line_list[2])\n",
    "            \n",
    "            birthday_book[name] = {\"month\" : month, \"day\" : day}\n",
    "            \n",
    "        return birthday_book\n",
    "\n",
    "def print_birthaday_book_formatted(birthday_book):\n",
    "    for person, birthday in birthday_book.items():\n",
    "        print(f\"{person},{birthday['month']},{birthday['day']}\")\n",
    "            \n",
    "birthday_book = get_birthday_book(\"data/birthdays.txt\")\n",
    "print_birthaday_book_formatted(birthday_book)"
   ]
  },
  {
   "cell_type": "markdown",
   "id": "258dfed4",
   "metadata": {},
   "source": [
    "## Optional: 3.1. Adding robustness\n",
    "\n",
    "As for the pizza ordering system, you should add robustness to your birthday book program, by detecting and handling exceptions. Detect or handle as many exceptions as you can think of in your solution above."
   ]
  },
  {
   "cell_type": "code",
   "execution_count": 24,
   "id": "aac9e7a7",
   "metadata": {},
   "outputs": [
    {
     "name": "stdout",
     "output_type": "stream",
     "text": [
      "{'Joe': {'month': 'Dec', 'day': 9}, 'Susan': {'month': 'Apr', 'day': 12}, 'Stephen': {'month': 'Dec', 'day': 8}, 'Alice': {'month': 'Jun', 'day': 12}, 'Bob': {'month': 'Dec', 'day': 24}, 'Julie': {'month': 'Jan', 'day': 3}, 'Artie': {'month': 'Mar', 'day': 12}}\n"
     ]
    }
   ],
   "source": [
    "# write your solution here\n",
    "birthday_book = {'Joe': {'month': 'Dec', 'day': 9},\n",
    "                 'Susan': {'month': 'Apr', 'day': 12},\n",
    "                 'Stephen': {'month': 'Dec', 'day': 8}\n",
    "                 , 'Alice': {'month': 'Jun', 'day': 12},\n",
    "                 'Bob': {'month': 'Dec', 'day': 24},\n",
    "                 'Julie': {'month': 'Jan', 'day': 3},\n",
    "                 'Artie': {'month': 'Mar', 'day': 12}}\n",
    "print(birthday_book)"
   ]
  },
  {
   "cell_type": "code",
   "execution_count": 29,
   "id": "b1ab6945",
   "metadata": {},
   "outputs": [
    {
     "name": "stdout",
     "output_type": "stream",
     "text": [
      "Stephen's birthday is on the 8th of Dec. \n",
      "Happy Birthday in advance.\n"
     ]
    }
   ],
   "source": [
    "# write your solution here\n",
    "def print_birthday_message(person):\n",
    "    if person in birthday_book:\n",
    "        birthday = birthday_book.get(person, {\"month\" : \"Unknown\", \"day\" : \"Unknown\"})\n",
    "        print(f\"{person}'s birthday is on the {birthday['day']}th of {birthday['month']}.\",\n",
    "              f\"\\nHappy Birthday in advance.\")\n",
    "    else:\n",
    "        print(f\"{person} is not in the birthday book. Try adding it first.\")\n",
    "    \n",
    "print_birthday_message(\"Stephen\")"
   ]
  },
  {
   "cell_type": "code",
   "execution_count": 30,
   "id": "55f97435",
   "metadata": {},
   "outputs": [
    {
     "name": "stdout",
     "output_type": "stream",
     "text": [
      "Joe's bithday is on the 9th of Dec.\n",
      "Stephen's bithday is on the 8th of Dec.\n",
      "Bob's bithday is on the 24th of Dec.\n"
     ]
    },
    {
     "data": {
      "text/plain": [
       "[{'Joe': {'month': 'Dec', 'day': 9}},\n",
       " {'Stephen': {'month': 'Dec', 'day': 8}},\n",
       " {'Bob': {'month': 'Dec', 'day': 24}}]"
      ]
     },
     "execution_count": 30,
     "metadata": {},
     "output_type": "execute_result"
    }
   ],
   "source": [
    "# write your solution here\n",
    "months = {\"Jan\", \"Feb\", \"Mar\", \"Apr\", \"May\", \"Jun\", \"Jul\", \"Aug\", \"Sep\", \"Oct\", \"Nov\", \"Dec\"}\n",
    "\n",
    "def print_people_birthday_in_month(month):\n",
    "    if month in months:\n",
    "        persons_list = []\n",
    "        for person, birthday in birthday_book.items():\n",
    "            if birthday[\"month\"] == month:\n",
    "                print(f\"{person}'s bithday is on the {birthday['day']}th of {birthday['month']}.\")\n",
    "                persons_list.append({person : birthday})\n",
    "\n",
    "        return persons_list\n",
    "    else:\n",
    "        print(\"Not a valid month. One the first three character of the month should be inputted.\")\n",
    "            \n",
    "print_people_birthday_in_month(\"Dec\")"
   ]
  },
  {
   "cell_type": "code",
   "execution_count": 35,
   "id": "ccb00a85",
   "metadata": {},
   "outputs": [
    {
     "data": {
      "text/plain": [
       "['Alice']"
      ]
     },
     "execution_count": 35,
     "metadata": {},
     "output_type": "execute_result"
    }
   ],
   "source": [
    "# write your solution here\n",
    "# this implimentation would not take leap yeat into account\n",
    "months_days = {\"Jan\" : 31, \"Feb\" : 28, \"Mar\" : 31, \"Apr\" : 30, \"May\" : 31, \"Jun\" : 30,\n",
    "              \"Jul\" : 31, \"Aug\" : 30, \"Sep\" : 31, \"Oct\" : 31, \"Nov\" : 30, \"Dec\" : 31}\n",
    "def convert_birthday(birthday):\n",
    "    person_month = birthday[\"month\"]\n",
    "    person_day = birthday[\"day\"]\n",
    "    number_day = 0\n",
    "    \n",
    "    for month in months_days:\n",
    "        if month == person_month:\n",
    "            break\n",
    "        number_day += months_days[month]\n",
    "    number_day += person_day\n",
    "    \n",
    "    return number_day\n",
    "\n",
    "def is_birthday_within_7_days(birthday, person_birthday):\n",
    "    birthday_no_days = convert_birthday(birthday)\n",
    "    person_birthday_no_days = convert_birthday(person_birthday)\n",
    "\n",
    "    seven_days_before_the_end_of_the_year = {\"month\" : \"Dec\", \"day\" : 24}\n",
    "    seven_days_before_the_end_of_the_year_no_days = \\\n",
    "    convert_birthday(seven_days_before_the_end_of_the_year)\n",
    "\n",
    "    if 0<= person_birthday_no_days - birthday_no_days <= 7:\n",
    "        return True\n",
    "    if birthday_no_days >= seven_days_before_the_end_of_the_year_no_days:\n",
    "        if 0 <= person_birthday_no_days - (birthday_no_days + 365) <= 7:\n",
    "            return True\n",
    "    return False\n",
    "    \n",
    "\n",
    "def print_people_with_birthday_within_7_days(birthday):\n",
    "    if type(birthday) is dict and len(birthday) == 2 and \\\n",
    "    birthday[\"month\"] in months and type(birthday[\"day\"]) == int:\n",
    "        # a valid birthday   \n",
    "        person_list = []\n",
    "\n",
    "        for person, person_birthday in birthday_book.items():\n",
    "            if is_birthday_within_7_days(birthday, person_birthday):\n",
    "                    person_list.append(person)\n",
    "\n",
    "        return person_list\n",
    "    \n",
    "    else:\n",
    "        print(\"Not a valid birthday structure. Valid structure is \\{'month' : month, 'day' : day\\}.\")\n",
    "    \n",
    "birthday = {'month': 'Jun', 'day': 12}\n",
    "print_people_with_birthday_within_7_days(birthday)"
   ]
  },
  {
   "cell_type": "code",
   "execution_count": 28,
   "id": "a53853fa",
   "metadata": {},
   "outputs": [
    {
     "name": "stdout",
     "output_type": "stream",
     "text": [
      "Joe,Dec,9\n",
      "Susan,Apr,12\n",
      "Stephen,Dec,8\n",
      "Alice,Jun,12\n",
      "Bob,Dec,24\n",
      "Julie,Jan,3\n",
      "Artie,Mar,12\n"
     ]
    }
   ],
   "source": [
    "# modify your solution above\n",
    "def get_birthday_book(birthday_file_location):\n",
    "    birthday_book = {}\n",
    "    \n",
    "    try:\n",
    "        with open(birthday_file_location, 'r') as birthday_file:\n",
    "            for line in birthday_file:\n",
    "                line_list = line.strip().split(\",\")\n",
    "                if len(line_list) != 3:\n",
    "                    break\n",
    "                name = line_list[0]\n",
    "                month = line_list[1]\n",
    "                try:\n",
    "                    day = int(line_list[2])\n",
    "                except ValueError:\n",
    "                    break\n",
    "                birthday_book[name] = {\"month\" : month, \"day\" : day}\n",
    "                \n",
    "    except FileNotFoundError:\n",
    "        print(f\"No file with path {birthday_file_location} found.\\nTry again.\")\n",
    "        \n",
    "    else:\n",
    "        return birthday_book\n",
    "\n",
    "def print_birthaday_book_formatted(birthday_book):\n",
    "    for person, birthday in birthday_book.items():\n",
    "        print(f\"{person},{birthday['month']},{birthday['day']}\")\n",
    "            \n",
    "birthday_book = get_birthday_book(\"data/birthdays.txt\")\n",
    "print_birthaday_book_formatted(birthday_book)"
   ]
  },
  {
   "cell_type": "code",
   "execution_count": null,
   "id": "4fced5a4",
   "metadata": {},
   "outputs": [],
   "source": []
  },
  {
   "cell_type": "code",
   "execution_count": null,
   "id": "9bc859b4",
   "metadata": {},
   "outputs": [],
   "source": []
  }
 ],
 "metadata": {
  "kernelspec": {
   "display_name": "Python 3",
   "language": "python",
   "name": "python3"
  },
  "language_info": {
   "codemirror_mode": {
    "name": "ipython",
    "version": 3
   },
   "file_extension": ".py",
   "mimetype": "text/x-python",
   "name": "python",
   "nbconvert_exporter": "python",
   "pygments_lexer": "ipython3",
   "version": "3.8.8"
  }
 },
 "nbformat": 4,
 "nbformat_minor": 5
}
