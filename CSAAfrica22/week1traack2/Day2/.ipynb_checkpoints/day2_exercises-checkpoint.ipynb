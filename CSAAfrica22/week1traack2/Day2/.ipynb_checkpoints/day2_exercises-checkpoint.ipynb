{
 "cells": [
  {
   "cell_type": "markdown",
   "id": "wanted-reset",
   "metadata": {},
   "source": [
    "In today's exercises, we'll practice the material that was covered in this morning's lecture.\n",
    "\n",
    "Some problems at the end of the exercise notebook are marked as _optional_. Your progress on those problems won't be assessed: these problems have been provided as an additional challenge for people that have found the earlier problems straightforward."
   ]
  },
  {
   "cell_type": "markdown",
   "id": "commercial-nothing",
   "metadata": {},
   "source": [
    "## 1. Did you solve yesterday's problems?\n",
    "\n",
    "If you haven't already done so, please spend some time attempting to complete yesterday's problems, including the optional problems. We've deliberately set fewer exercises today to give you time for this."
   ]
  },
  {
   "cell_type": "markdown",
   "id": "associate-station",
   "metadata": {},
   "source": [
    "## 2. Flattening lists\n",
    "\n",
    "*This exercise might feel familiar - we set it yesterday too! Today, since we covered recursion, try to find a recursive solution.*\n",
    "\n",
    "Write a function, `flatten`, that \"flattens\" any list. A list is flat if it does not contain any nested list. A list that contains a nested list is flattened when the elements of any nested lists are removed, and put into a flat list.\n",
    "\n",
    "For example, if `a = [[[1, 2, 3], [4, 5, 6], [7], [8, 9], 10]]`, then `flatten(a) = [1, 2, 3, 4, 5, 6, 7, 8, 9, 10]`."
   ]
  },
  {
   "cell_type": "code",
   "execution_count": null,
   "id": "thermal-fields",
   "metadata": {},
   "outputs": [],
   "source": []
  },
  {
   "cell_type": "markdown",
   "id": "improving-treasurer",
   "metadata": {},
   "source": [
    "## 3. Apply a function to a dictionary\n",
    "\n",
    "Using recursion, write a function, `apply_function`, that takes a function and a dictionary, and applies the function on the integer values of the dictionary. The dictionary can contain nested dictionaries as values, and the function should be apply to any integers contained within those.\n",
    "\n",
    "For example, we might want to apply this function:\n",
    "\n",
    "```\n",
    "def pow_2(n):\n",
    "    return n ** 2\n",
    "```\n",
    "\n",
    "to this dictionary:\n",
    "\n",
    "```\n",
    "fruit_counts = {\"apple\": 12, {\"banana\": {\"cavendish\": 4, \"plantain\": 14}}\n",
    "```\n",
    "\n",
    "This would return:\n",
    "\n",
    "```\n",
    "apply_function(pow_2, fruit_counts) = {\"apple\": 144, {\"banana\": {\"cavendish\": 16, \"plantain\": 196}}\n",
    "```"
   ]
  },
  {
   "cell_type": "code",
   "execution_count": null,
   "id": "scenic-bangladesh",
   "metadata": {},
   "outputs": [],
   "source": []
  },
  {
   "cell_type": "markdown",
   "id": "iraqi-correction",
   "metadata": {},
   "source": [
    "## 4. Wherefore art thou, Romeo?\n",
    "\n",
    "We've include a file, `romeo_juliet.txt` (in the `data/` directory), that contains the play _Romeo and Juliet_. Write code that extracts all of the lines for the Romeo character; these start with \"  Rom.\" -- note the two spaces before \"Rom.\". You should output these lines to a file called `romeo.txt`. Repeat this, but this time, extract all of Juliet's first lines to a file called `juliet.txt`.\n",
    "\n",
    "**Hints**:\n",
    "- Make use of the `startswith` method of strings to check if a line begins with a given pattern.\n",
    "- Rather than duplicating your effort, think about writing a function that lets you easily switch characters."
   ]
  },
  {
   "cell_type": "code",
   "execution_count": null,
   "id": "fifty-jimmy",
   "metadata": {},
   "outputs": [],
   "source": []
  },
  {
   "cell_type": "markdown",
   "id": "placed-grill",
   "metadata": {},
   "source": [
    "## Optional: 4.1 All of the lines\n",
    "\n",
    "Following on from the above problem, extend your solution to that it copies _all_ of the lines of a given character, not just the first line. You'll need to look at the contents of the `romeo_juliet.txt` file to understand how this is structured: a characters first line begins with their name (e.g., `Rom`), and then they continue speaking until there is a blank line."
   ]
  },
  {
   "cell_type": "code",
   "execution_count": null,
   "id": "waiting-protection",
   "metadata": {},
   "outputs": [],
   "source": []
  },
  {
   "cell_type": "markdown",
   "id": "historical-citizenship",
   "metadata": {},
   "source": [
    "## 5. Give me my sin again\n",
    "\n",
    "We have a function, `calculate_sin`, that is defined as:\n",
    "\n",
    "```\n",
    "import math\n",
    "\n",
    "def calculate_sin(x, n):\n",
    "    return math.sin(x)/n\n",
    "```\n",
    "\n",
    "Write a memoised version of this function: that is, a version that remembers previously calculated values. Use the _time_ module as described in the lectures to demonstrate the savings of the memoised version."
   ]
  },
  {
   "cell_type": "code",
   "execution_count": 5,
   "id": "empirical-disco",
   "metadata": {},
   "outputs": [],
   "source": [
    "import math\n",
    "\n",
    "def calculate_sine(x, n):\n",
    "    return math.sin(x)/n"
   ]
  }
 ],
 "metadata": {
  "kernelspec": {
   "display_name": "Python 3",
   "language": "python",
   "name": "python3"
  },
  "language_info": {
   "codemirror_mode": {
    "name": "ipython",
    "version": 3
   },
   "file_extension": ".py",
   "mimetype": "text/x-python",
   "name": "python",
   "nbconvert_exporter": "python",
   "pygments_lexer": "ipython3",
   "version": "3.8.8"
  }
 },
 "nbformat": 4,
 "nbformat_minor": 5
}
