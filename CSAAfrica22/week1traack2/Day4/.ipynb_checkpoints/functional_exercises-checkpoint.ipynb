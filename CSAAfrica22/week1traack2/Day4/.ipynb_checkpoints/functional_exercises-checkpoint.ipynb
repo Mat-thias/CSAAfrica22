{
 "cells": [
  {
   "cell_type": "markdown",
   "id": "e81899e2",
   "metadata": {},
   "source": [
    "In today's exercises, we'll practice the material that was covered in this morning's lecture.\n",
    "\n",
    "Some problems at the end of the exercise notebook are marked as _optional_. Your progress on those problems won't be assessed: these problems have been provided as an additional challenge for people that have found the earlier problems straightforward."
   ]
  },
  {
   "cell_type": "markdown",
   "id": "aadb7cfa",
   "metadata": {},
   "source": [
    "## 1. Fix the names\n",
    "\n",
    "Write a function, `fix_names`, that takes a list of names, and returns the names properly formatted. A name is properly formatted if it has a capital letter at the beginning of each separate word.\n",
    "\n",
    "For example, if `names = [\"bob\", \"sofiat\", \"fionnuaLA\", \"aNgus\"]`, then `fix_names(names) == [\"Bob\", \"Sofiat\", \"Fionnuala\", \"Angus\"]`.\n",
    "\n",
    "You should use functional programming techniques to solve this problem."
   ]
  },
  {
   "cell_type": "code",
   "execution_count": 17,
   "id": "b08deadc",
   "metadata": {},
   "outputs": [],
   "source": [
    "def fix_name(name):\n",
    "    return name[0].upper() + name[1:].lower()\n",
    "\n",
    "def fix_names(list_name):\n",
    "    for i, value in enumerate(list_name):\n",
    "        list_name[i] = fix_name(list_name[i])\n",
    "        \n",
    "names = [\"bob\", \"sofiat\", \"fionnuaLA\", \"aNgus\"]\n",
    "fix_names(names)\n",
    "assert [\"Bob\", \"Sofiat\", \"Fionnuala\", \"Angus\"] == names"
   ]
  },
  {
   "cell_type": "code",
   "execution_count": 261,
   "id": "45851f11",
   "metadata": {},
   "outputs": [],
   "source": [
    "def fix_names(list_name):\n",
    "    return list(map(str.title, list_name))\n",
    "\n",
    "names = [\"bob\", \"sofiat\", \"fionnuaLA\", \"aNgus\"]\n",
    "\n",
    "assert [\"Bob\", \"Sofiat\", \"Fionnuala\", \"Angus\"] == fix_names(names)"
   ]
  },
  {
   "cell_type": "code",
   "execution_count": 262,
   "id": "a25fa6dc",
   "metadata": {},
   "outputs": [],
   "source": [
    "def fix_names(list_name):\n",
    "    return list(map(lambda name : name[0].upper() + name[1:].lower(), list_name))\n",
    "\n",
    "names = [\"bob\", \"sofiat\", \"fionnuaLA\", \"aNgus\"]\n",
    "\n",
    "assert [\"Bob\", \"Sofiat\", \"Fionnuala\", \"Angus\"] == fix_names(names)"
   ]
  },
  {
   "cell_type": "markdown",
   "id": "b961fb75",
   "metadata": {},
   "source": [
    "## 2. pi\n",
    "\n",
    "Write a function, `pi_to_n`, that returns a list of _n_ values of pi, with increasing numbers of decimal places, starting with 3.14.\n",
    "\n",
    "For example, `pi_to_n(3) == [3.14, 3.142, 3.1416]`.\n",
    "\n",
    "You should use functional programming techniques to solve this problem.\n",
    "\n",
    "_Hint: math.pi will give you the value of pi._"
   ]
  },
  {
   "cell_type": "code",
   "execution_count": 267,
   "id": "bbd9ec5e",
   "metadata": {},
   "outputs": [],
   "source": [
    "from math import pi\n",
    "\n",
    "def pi_to_n(n):\n",
    "    return list(map(lambda n : float(f\"{pi:.{n}f}\") , range(2, n+2) ))\n",
    "        \n",
    "\n",
    "assert pi_to_n(3) == [3.14, 3.142, 3.1416]"
   ]
  },
  {
   "cell_type": "code",
   "execution_count": 268,
   "id": "781839f1",
   "metadata": {},
   "outputs": [],
   "source": [
    "from math import pi\n",
    "\n",
    "def pi_to_n(n):\n",
    "    return list(map(lambda n : round(pi, n) , range(2, n+2) ))\n",
    "        \n",
    "\n",
    "assert pi_to_n(3) == [3.14, 3.142, 3.1416]"
   ]
  },
  {
   "cell_type": "markdown",
   "id": "6998e2a3",
   "metadata": {},
   "source": [
    "## 3. zip\n",
    "\n",
    "Write a function, `zip_the_lists`, that takes two lists, of the same length, and returns a single list, where each element is a tuple containing elements from the same position in each list.\n",
    "\n",
    "For example, `zip_the_lists([1, 2, 3], [4, 5, 6]) == [(1, 4), (2, 5), (3, 6)]`.\n",
    "\n",
    "You should use functional programming techniques to solve this problem."
   ]
  },
  {
   "cell_type": "code",
   "execution_count": 269,
   "id": "27b7707d",
   "metadata": {},
   "outputs": [],
   "source": [
    "def zip_the_lists(list1, list2):\n",
    "    \n",
    "    if len(list1) != len(list2):\n",
    "        return\n",
    "    \n",
    "    return list(map(lambda x, y: (x, y), list1, list2))\n",
    "\n",
    "assert zip_the_lists([1, 2, 3], [4, 5, 6]) == [(1, 4), (2, 5), (3, 6)]"
   ]
  },
  {
   "cell_type": "markdown",
   "id": "34afee26",
   "metadata": {},
   "source": [
    "## 4. Even numbers\n",
    "\n",
    "Write a program that prints the first 200 even numbers.\n",
    "\n",
    "You should use functional programming techniques to solve this problem."
   ]
  },
  {
   "cell_type": "code",
   "execution_count": 281,
   "id": "ad137ab4",
   "metadata": {},
   "outputs": [
    {
     "name": "stdout",
     "output_type": "stream",
     "text": [
      "[0, 2, 4, 6, 8, 10, 12, 14, 16, 18, 20, 22, 24, 26, 28, 30, 32, 34, 36, 38, 40, 42, 44, 46, 48, 50, 52, 54, 56, 58, 60, 62, 64, 66, 68, 70, 72, 74, 76, 78, 80, 82, 84, 86, 88, 90, 92, 94, 96, 98, 100, 102, 104, 106, 108, 110, 112, 114, 116, 118, 120, 122, 124, 126, 128, 130, 132, 134, 136, 138, 140, 142, 144, 146, 148, 150, 152, 154, 156, 158, 160, 162, 164, 166, 168, 170, 172, 174, 176, 178, 180, 182, 184, 186, 188, 190, 192, 194, 196, 198, 200, 202, 204, 206, 208, 210, 212, 214, 216, 218, 220, 222, 224, 226, 228, 230, 232, 234, 236, 238, 240, 242, 244, 246, 248, 250, 252, 254, 256, 258, 260, 262, 264, 266, 268, 270, 272, 274, 276, 278, 280, 282, 284, 286, 288, 290, 292, 294, 296, 298, 300, 302, 304, 306, 308, 310, 312, 314, 316, 318, 320, 322, 324, 326, 328, 330, 332, 334, 336, 338, 340, 342, 344, 346, 348, 350, 352, 354, 356, 358, 360, 362, 364, 366, 368, 370, 372, 374, 376, 378, 380, 382, 384, 386, 388, 390, 392, 394, 396, 398]\n"
     ]
    }
   ],
   "source": [
    "def even_200():\n",
    "    print(list(filter(lambda x : x % 2 == 0, range(400))))\n",
    "\n",
    "even_200()"
   ]
  },
  {
   "cell_type": "markdown",
   "id": "728a12d9",
   "metadata": {},
   "source": [
    "## 5. Sum odd, sum even\n",
    "\n",
    "Write a function, `sum_odd_sum_even`, that takes a list of integers, and returns a tuple that contains two values. The first value should be the sum of all of the even numbers in the list, and the second value should be the sum of all of the odd numbers in the list.\n",
    "\n",
    "For example, `sum_odd_sum_even([5, 8, 32, 3, 2]) == (8, 42)`.\n",
    "\n",
    "You should use functional programming techniques to solve this problem."
   ]
  },
  {
   "cell_type": "code",
   "execution_count": 159,
   "id": "4e920063",
   "metadata": {},
   "outputs": [],
   "source": [
    "from functools import reduce\n",
    "\n",
    "def sum_odd_sum_even(list_):\n",
    "    \n",
    "    even_list = list(filter(lambda x : x % 2 == 0, list_))\n",
    "    odd_list = list(filter(lambda x : x % 2 == 1, list_))\n",
    "    \n",
    "    even = reduce(lambda x, y : x + y, even_list)\n",
    "    \n",
    "    odd = reduce(lambda x, y : x + y, odd_list)\n",
    "    \n",
    "    return(odd, even)\n",
    "\n",
    "assert sum_odd_sum_even([5, 8, 32, 3, 2]) == (8, 42)"
   ]
  },
  {
   "cell_type": "code",
   "execution_count": 278,
   "id": "e11c4c2b",
   "metadata": {},
   "outputs": [],
   "source": [
    "from functools import reduce\n",
    "\n",
    "def sum_odd_sum_even(list_):\n",
    "    \n",
    "    return(reduce(lambda x, y : x + y, filter(lambda x : x % 2 == 1, list_)), reduce(lambda x, y : x + y, filter(lambda x : x % 2 == 0, list_)))\n",
    "\n",
    "\n",
    "assert sum_odd_sum_even([5, 8, 32, 3, 2]) == (8, 42)"
   ]
  },
  {
   "cell_type": "markdown",
   "id": "a6fd44da",
   "metadata": {},
   "source": [
    "## 6. join\n",
    "\n",
    "Write a function, `join_the_strings`, that takes a list of strings and a character, and returns a single string that has joined the strings together, separated by the character.\n",
    "\n",
    "For example, `join_the_strings([\"hello\", \"my\", \"name\", \"is\", \"bob\"], '+') == \"hello+my+name+is+bob\"`.\n",
    "\n",
    "You should use functional programming techniques to solve this problem."
   ]
  },
  {
   "cell_type": "code",
   "execution_count": 257,
   "id": "2be205b1",
   "metadata": {},
   "outputs": [
    {
     "data": {
      "text/plain": [
       "'hello+my+name+is+bob'"
      ]
     },
     "execution_count": 257,
     "metadata": {},
     "output_type": "execute_result"
    }
   ],
   "source": [
    "from functools import reduce\n",
    "\n",
    "def join_the_strings(list_string, char):\n",
    "    return reduce(lambda str1, str2 : f\"{str1}{char}{str2}\", list_string)\n",
    "\n",
    "assert join_the_strings([\"hello\", \"my\", \"name\", \"is\", \"bob\"], '+') == \"hello+my+name+is+bob\"\n",
    "join_the_strings([\"hello\", \"my\", \"name\", \"is\", \"bob\"], '+')"
   ]
  },
  {
   "cell_type": "markdown",
   "id": "34254557",
   "metadata": {},
   "source": [
    "## Optional: 7. Managing workshop participants\n",
    "\n",
    "Let's imagine that you've decided to host a workshop to teach Python. You've decided to store participant information in a list of dictionaries, structured like this:\n",
    "\n",
    "```\n",
    "participants = [{\"first_name\": \"Hester\", \"last_name\": \"Macdonald\", \"track\": 1},\n",
    "                {\"first_name\": \"Dorian\", \"last_name\": \"Foster\", \"track\": 2},\n",
    "                {\"first_name\": \"Conal\", \"last_name\": \"Delgado\", \"track\": 2},\n",
    "                {\"first_name\": \"Aisha\", \"last_name\": \"Torres\", \"track\": 2},\n",
    "                {\"first_name\": \"Adeline\", \"last_name\": \"Mcdougall\", \"track\": 1},\n",
    "                {\"first_name\": \"Lola\", \"last_name\": \"Delaney\", \"track\": 1},\n",
    "                {\"first_name\": \"Saim\", \"last_name\": \"Bone\", \"track\": 2},\n",
    "                {\"first_name\": \"Jobe\", \"last_name\": \"Wills\", \"track\": 1},\n",
    "                {\"first_name\": \"June\", \"last_name\": \"Rush\", \"track\": 2},\n",
    "                {\"first_name\": \"Winifred\", \"last_name\": \"John\", \"track\": 1}]\n",
    "```\n",
    "\n",
    "### 7.1 Mail merge\n",
    "\n",
    "You want to send a message to all of the participants. You want the message to include their full name. To do this, you need to generate a list of all of the participants full names. Write a function that does this, using functional programming techniques.\n",
    "\n",
    "For example, using the data above, you would produce this list: `[\"Hester Macdonald\", \"Dorian Foster\", \"Conal Delgado\", \"Aisha Torres\", \"Adeline Mcdougall\", \"Lola Delaney\", \"Saim Bone\", \"Jobe Wills\", \"June Rush\", \"Winifred John\"]`."
   ]
  },
  {
   "cell_type": "code",
   "execution_count": 28,
   "id": "0845c228",
   "metadata": {},
   "outputs": [],
   "source": [
    "def get_full_names_list(participants_list):\n",
    "    return list(map(lambda dictionary : f\"{dictionary['first_name']} {dictionary['last_name']}\", participants_list))"
   ]
  },
  {
   "cell_type": "code",
   "execution_count": 29,
   "id": "48c0780c",
   "metadata": {},
   "outputs": [
    {
     "data": {
      "text/plain": [
       "['Hester Macdonald',\n",
       " 'Dorian Foster',\n",
       " 'Conal Delgado',\n",
       " 'Aisha Torres',\n",
       " 'Adeline Mcdougall',\n",
       " 'Lola Delaney',\n",
       " 'Saim Bone',\n",
       " 'Jobe Wills',\n",
       " 'June Rush',\n",
       " 'Winifred John']"
      ]
     },
     "execution_count": 29,
     "metadata": {},
     "output_type": "execute_result"
    }
   ],
   "source": [
    "participants = [{\"first_name\": \"Hester\", \"last_name\": \"Macdonald\", \"track\": 1},\n",
    "                {\"first_name\": \"Dorian\", \"last_name\": \"Foster\", \"track\": 2},\n",
    "                {\"first_name\": \"Conal\", \"last_name\": \"Delgado\", \"track\": 2},\n",
    "                {\"first_name\": \"Aisha\", \"last_name\": \"Torres\", \"track\": 2},\n",
    "                {\"first_name\": \"Adeline\", \"last_name\": \"Mcdougall\", \"track\": 1},\n",
    "                {\"first_name\": \"Lola\", \"last_name\": \"Delaney\", \"track\": 1},\n",
    "                {\"first_name\": \"Saim\", \"last_name\": \"Bone\", \"track\": 2},\n",
    "                {\"first_name\": \"Jobe\", \"last_name\": \"Wills\", \"track\": 1},\n",
    "                {\"first_name\": \"June\", \"last_name\": \"Rush\", \"track\": 2},\n",
    "                {\"first_name\": \"Winifred\", \"last_name\": \"John\", \"track\": 1}]\n",
    "\n",
    "assert get_full_names_list(participants) == [\"Hester Macdonald\",\n",
    "                                             \"Dorian Foster\",\n",
    "                                             \"Conal Delgado\",\n",
    "                                             \"Aisha Torres\",\n",
    "                                             \"Adeline Mcdougall\",\n",
    "                                             \"Lola Delaney\",\n",
    "                                             \"Saim Bone\", \"Jobe Wills\",\n",
    "                                             \"June Rush\",\n",
    "                                             \"Winifred John\"]\n",
    "get_full_names_list(participants)"
   ]
  },
  {
   "cell_type": "markdown",
   "id": "944efa5c",
   "metadata": {},
   "source": [
    "### 7.2 Group creator\n",
    "\n",
    "Next, you want to split your participants into groups. Groups are allocated based on the first letter of each participant's name: a group will only contain participants whose names start with the same letter. To help with this, you need to generate a dictionary. The dictionary will contain a key corresponding to each letter of the alphabet, where the values are lists of participants assigned to the group.\n",
    "\n",
    "For example, using the data above, you'd create a dictionary that included this key, value pair:\n",
    "```\n",
    "{ ..\n",
    "  'J' : [\"Jobe Wills\", \"June Rush\"],\n",
    "  ..\n",
    "}\n",
    "```\n",
    "\n",
    "You should use functional programming techniques to solve this problem. Some groups might be empty, or include only one person -- that's OK for this exercise."
   ]
  },
  {
   "cell_type": "code",
   "execution_count": 25,
   "id": "5bb16e04",
   "metadata": {},
   "outputs": [],
   "source": [
    "from string import ascii_uppercase\n",
    "\n",
    "participants_group = dict(map(lambda x : (x, []), ascii_uppercase))\n",
    "# def add_to_appropiate_group(participant):\n",
    "#     participants_group[participant[0]].append(participant)\n",
    "\n",
    "# def group_participants(participants_list):\n",
    "#     return list(map(add_to_appropiate_group, participants_list))\n",
    "\n",
    "def group_participants(participants_list):\n",
    "    return list(map(lambda participant : participants_group[participant[0]].append(participant), \n",
    "                    participants_list))"
   ]
  },
  {
   "cell_type": "code",
   "execution_count": 117,
   "id": "6eca7938",
   "metadata": {
    "scrolled": true
   },
   "outputs": [
    {
     "name": "stdout",
     "output_type": "stream",
     "text": [
      "{'A': ['Aisha Torres', 'Adeline Mcdougall'], 'B': [], 'C': ['Conal Delgado'], 'D': ['Dorian Foster'], 'E': [], 'F': [], 'G': [], 'H': ['Hester Macdonald'], 'I': [], 'J': ['Jobe Wills', 'June Rush'], 'K': [], 'L': ['Lola Delaney'], 'M': [], 'N': [], 'O': [], 'P': [], 'Q': [], 'R': [], 'S': ['Saim Bone'], 'T': [], 'U': [], 'V': [], 'W': ['Winifred John'], 'X': [], 'Y': [], 'Z': []}\n"
     ]
    }
   ],
   "source": [
    "participants_list = get_full_names_list(participants) \n",
    "group_participants(participants_list)\n",
    "print(participants_group)"
   ]
  },
  {
   "cell_type": "markdown",
   "id": "806816a7",
   "metadata": {},
   "source": [
    "## Optional: 8. Number swap\n",
    "\n",
    "Write a function, `number_swap`, that takes two numbers, `a` and `b`. The function should swap digits in the first number with digits from the second, such that it generates the largest possible numbers. \n",
    "\n",
    "For example, `number_swap(6423, 551) == 6553`. Here, the 4 in the first number is swapped with a 5 from the second number. 2 in the first number is swapped for the other 5 in the second.\n",
    "\n",
    "Note: we're only allowed to use each digit in the second number at most once. \n",
    "\n",
    "_You do not need to use functional programming techniques to solve this problem._"
   ]
  },
  {
   "cell_type": "code",
   "execution_count": 33,
   "id": "9806a00c",
   "metadata": {},
   "outputs": [],
   "source": [
    "from functools import reduce\n",
    "\n",
    "def number_swap(int1, int2):\n",
    "    list1 = [digit for digit in str(int1)]\n",
    "    list2 = sorted([digit for digit in str(int2)])\n",
    "    \n",
    "    for index, digit in enumerate(list1):\n",
    "        if len(list2) < 1:\n",
    "            break\n",
    "        if digit < list2[-1]:\n",
    "            list1[index] = list2.pop()\n",
    "            \n",
    "    return int(\"\".join(list1))\n",
    "\n",
    "def number_swap_list(int_list):\n",
    "    return reduce(number_swap, int_list)\n"
   ]
  },
  {
   "cell_type": "code",
   "execution_count": 34,
   "id": "bdc668dd",
   "metadata": {},
   "outputs": [
    {
     "name": "stdout",
     "output_type": "stream",
     "text": [
      "6553\n"
     ]
    },
    {
     "data": {
      "text/plain": [
       "99877"
      ]
     },
     "execution_count": 34,
     "metadata": {},
     "output_type": "execute_result"
    }
   ],
   "source": [
    "int_list = [47847, 487, 3984, 9, 34, 2002]\n",
    "print(number_swap(6423, 155))\n",
    "assert number_swap(6423, 551) == 6553\n",
    "number_swap_list(int_list)\n",
    "# assert number_swap_list(int_list) == 99888"
   ]
  },
  {
   "cell_type": "code",
   "execution_count": null,
   "id": "2b4df333",
   "metadata": {},
   "outputs": [],
   "source": []
  }
 ],
 "metadata": {
  "kernelspec": {
   "display_name": "Python 3",
   "language": "python",
   "name": "python3"
  },
  "language_info": {
   "codemirror_mode": {
    "name": "ipython",
    "version": 3
   },
   "file_extension": ".py",
   "mimetype": "text/x-python",
   "name": "python",
   "nbconvert_exporter": "python",
   "pygments_lexer": "ipython3",
   "version": "3.8.8"
  }
 },
 "nbformat": 4,
 "nbformat_minor": 5
}
