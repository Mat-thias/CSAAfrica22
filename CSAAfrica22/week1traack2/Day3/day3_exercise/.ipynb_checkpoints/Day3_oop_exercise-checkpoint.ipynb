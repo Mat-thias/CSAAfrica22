{
 "cells": [
  {
   "cell_type": "markdown",
   "metadata": {},
   "source": [
    "# Wk2 Trk2, Day 3\n",
    "\n",
    "\n",
    "# Exercise: Object-oriented programming\n",
    "\n",
    "---\n",
    "\n",
    "__*Programming Workshop for Scientists in Africa PWSA2021 <www.pwsafrica.org>.*__\n",
    "\n",
    "Supported by the School of Computing Science, University of Glasgow.\n",
    "<br>\n",
    "\n",
    "Funded by the Global Challenges Research Fund and Scottish Funding Council.\n",
    "\n",
    "Python 3.x\n",
    "\n",
    "---\n"
   ]
  },
  {
   "cell_type": "code",
   "execution_count": 4,
   "metadata": {
    "ExecuteTime": {
     "end_time": "2021-02-24T13:18:08.879585Z",
     "start_time": "2021-02-24T13:18:08.869824Z"
    }
   },
   "outputs": [],
   "source": [
    "from utils.tick import tick"
   ]
  },
  {
   "cell_type": "markdown",
   "metadata": {},
   "source": []
  },
  {
   "cell_type": "markdown",
   "metadata": {},
   "source": [
    "# 1 Data class\n",
    "\n",
    "Define a class `Cat`, with  an `__init__` method that sets instance variables `name, weight, age, temperament` and `colour`."
   ]
  },
  {
   "cell_type": "code",
   "execution_count": 2,
   "metadata": {
    "ExecuteTime": {
     "end_time": "2021-02-08T10:30:01.085912Z",
     "start_time": "2021-02-08T10:30:01.081924Z"
    }
   },
   "outputs": [],
   "source": [
    "## Solution\n",
    "class Cat:\n",
    "    \n",
    "    def __init__(self, name, weight, age, temperament, colour):\n",
    "        self.name = name\n",
    "        self.weight = weight\n",
    "        self.age = age\n",
    "        self.temperament = temperament\n",
    "        self.colour = colour"
   ]
  },
  {
   "cell_type": "code",
   "execution_count": 5,
   "metadata": {
    "ExecuteTime": {
     "end_time": "2021-02-08T10:30:01.233530Z",
     "start_time": "2021-02-08T10:30:01.224555Z"
    }
   },
   "outputs": [
    {
     "data": {
      "text/html": [
       " <h3> <font color=\"green\"> ✓ Correct </font> </h3>"
      ],
      "text/plain": [
       "<IPython.core.display.HTML object>"
      ]
     },
     "metadata": {},
     "output_type": "display_data"
    }
   ],
   "source": [
    "## Tests\n",
    "with tick():\n",
    "    c = Cat(\"Cooper\", 4.0, 4, \"terrible\", \"gray\")\n",
    "    assert hasattr(c, \"name\") and c.name==\"Cooper\"\n",
    "    assert hasattr(c, \"weight\") and c.weight==4.0\n",
    "    assert hasattr(c, \"age\") and c.age==4\n",
    "    assert hasattr(c, \"temperament\") and c.temperament==\"terrible\"\n",
    "    assert hasattr(c, \"colour\") and c.colour==\"gray\"    "
   ]
  },
  {
   "cell_type": "markdown",
   "metadata": {},
   "source": [
    "# 2 Family names\n",
    "\n",
    "Create a class `FamilyName` that has an instance variable `first_name` and a **class** variable `last_name`, initialised to \"Unknown\". \n",
    "\n",
    "* Make the constructor (`__init__`) take `first_name` as an argument.\n",
    "* Add an *instance* method `set_last_name` that sets *every* `FamilyName` instance's `last_name`.\n",
    "* Add a method `get_name` which returns the first and last name joined together with a space.\n"
   ]
  },
  {
   "cell_type": "code",
   "execution_count": 21,
   "metadata": {
    "ExecuteTime": {
     "end_time": "2021-02-08T10:30:01.539712Z",
     "start_time": "2021-02-08T10:30:01.534726Z"
    }
   },
   "outputs": [
    {
     "data": {
      "text/plain": [
       "'John Williamson'"
      ]
     },
     "execution_count": 21,
     "metadata": {},
     "output_type": "execute_result"
    }
   ],
   "source": [
    "## Solution\n",
    "class FamilyName:\n",
    "    \n",
    "    last_name = \"Unknown\"\n",
    "    \n",
    "    def __init__(self, first_name):\n",
    "        self.first_name = first_name\n",
    "        \n",
    "    def set_last_name(self, last_name):\n",
    "        FamilyName.last_name = last_name\n",
    "        \n",
    "    def get_name(self):\n",
    "        return f\"{self.first_name} {self.last_name}\"\n",
    "    \n",
    "nm_1 = FamilyName(\"John\")    \n",
    "    \n",
    "\n",
    "nm_1.set_last_name(\"Williamson\")\n",
    "nm_1.get_name()"
   ]
  },
  {
   "cell_type": "code",
   "execution_count": 22,
   "metadata": {
    "ExecuteTime": {
     "end_time": "2021-02-08T10:30:01.882794Z",
     "start_time": "2021-02-08T10:30:01.877808Z"
    }
   },
   "outputs": [
    {
     "data": {
      "text/html": [
       " <h3> <font color=\"green\"> ✓ Correct </font> </h3>"
      ],
      "text/plain": [
       "<IPython.core.display.HTML object>"
      ]
     },
     "metadata": {},
     "output_type": "display_data"
    }
   ],
   "source": [
    "## Tests\n",
    "with tick():\n",
    "    nm_1 = FamilyName(\"John\")    \n",
    "    nm_1.get_name()\n",
    "\n",
    "    nm_1.set_last_name(\"Williamson\")\n",
    "    assert nm_1.get_name() == \"John Williamson\"\n",
    "\n",
    "    nm_2 = FamilyName(\"Marco\")\n",
    "    assert nm_2.get_name() == \"Marco Williamson\"\n",
    "\n",
    "    nm_1.set_last_name(\"Polo\")\n",
    "    assert nm_2.get_name() == \"Marco Polo\"\n",
    "    assert nm_1.get_name() == \"John Polo\""
   ]
  },
  {
   "cell_type": "markdown",
   "metadata": {},
   "source": [
    "# 3 Fraction\n",
    "\n",
    "Define a class `Fraction` that takes two arguments (numerator and denominator) in `__init__`. Define the following methods:\n",
    "\n",
    "* `as_float(self)` returns the fraction as a floating point number (by dividing the numerator by the denominator)\n",
    "* `as_string(self)` returns the fraction as a string, like \"9/8\"\n",
    "* `multiply(self, other)` that multiplies the given fraction by *another* instance of `Fraction` (note the rule for multiplying fractions is `a/b * c/d = a*c / b*d`) and returns a new instance of Fraction.\n",
    "\n"
   ]
  },
  {
   "cell_type": "code",
   "execution_count": 42,
   "metadata": {
    "ExecuteTime": {
     "end_time": "2021-02-08T10:30:04.368714Z",
     "start_time": "2021-02-08T10:30:04.363727Z"
    }
   },
   "outputs": [],
   "source": [
    "## Solution\n",
    "class Fraction:\n",
    "    \n",
    "    def __init__(self, numerator, denominator):\n",
    "        self.numerator = numerator\n",
    "        self.denominator = denominator\n",
    "        \n",
    "    def as_float(self):\n",
    "        return self.numerator/self.denominator\n",
    "        \n",
    "    def as_string(self):\n",
    "        return f\"{self.numerator}/{self.denominator}\"\n",
    "    \n",
    "    def multiply(self, other):\n",
    "        return Fraction(self.numerator * other.numerator, self.denominator * other.denominator)"
   ]
  },
  {
   "cell_type": "code",
   "execution_count": 43,
   "metadata": {
    "ExecuteTime": {
     "end_time": "2021-02-08T10:30:04.646489Z",
     "start_time": "2021-02-08T10:30:04.640504Z"
    }
   },
   "outputs": [
    {
     "data": {
      "text/html": [
       " <h3> <font color=\"green\"> ✓ Correct </font> </h3>"
      ],
      "text/plain": [
       "<IPython.core.display.HTML object>"
      ]
     },
     "metadata": {},
     "output_type": "display_data"
    }
   ],
   "source": [
    "## Tests\n",
    "with tick():\n",
    "    half = Fraction(1,2)\n",
    "    two_third = Fraction(2, 3)\n",
    "    three_eight = Fraction(3, 8)\n",
    "    assert half.as_float()==0.5\n",
    "    assert three_eight.as_float()==3.0/8.0    \n",
    "    assert two_third.as_string()==\"2/3\"\n",
    "    assert half.as_string()==\"1/2\"\n",
    "    prod = half.multiply(two_third)\n",
    "    assert prod.as_float() == (1/2) * (2/3)    \n",
    "    assert prod.as_string() ==  \"2/6\"\n",
    "    assert half.as_float()==0.5\n",
    "    assert half.as_string()==\"1/2\"\n",
    "            "
   ]
  },
  {
   "cell_type": "markdown",
   "metadata": {},
   "source": [
    "# 4 Fraction special methods\n",
    "Modify `Fraction` defined above:\n",
    "\n",
    "* modify `multiply` so that if the \"other\" value passed is an instance of  `Fraction`, you multiply as before; if it is an instance of `int` then you multiply the numerator by that integer; and otherwise you raise a `TypeError`.\n",
    "\n",
    "And add two new methods:\n",
    "\n",
    "* `__str__(self)`, which just calls `self.as_string` and returns the result;\n",
    "* `__mul__(self, other)`, which just calls `self.multiply` and returns the result\n",
    "\n",
    "Verify that you can now:\n",
    "\n",
    "(a) print out any instance of `Fraction` and see the string value directly;\n",
    "\n",
    "(b) write products of fractions using the ordinary `*` operator. For example, `print(Fraction(2,3) * Fraction(1,2))` should print `2/6`.\n"
   ]
  },
  {
   "cell_type": "code",
   "execution_count": 36,
   "metadata": {
    "ExecuteTime": {
     "end_time": "2021-02-08T10:30:05.196018Z",
     "start_time": "2021-02-08T10:30:05.190035Z"
    }
   },
   "outputs": [],
   "source": [
    "## Solution\n",
    "## Solution\n",
    "class Fraction:\n",
    "    \n",
    "    def __init__(self, numerator, denominator):\n",
    "        self.numerator = numerator\n",
    "        self.denominator = denominator\n",
    "        \n",
    "    def __str__(self):\n",
    "        return self.as_string()\n",
    "    \n",
    "    def __mul__(self, other):\n",
    "        return self.multiply(other)\n",
    "        \n",
    "    def as_float(self):\n",
    "        return self.numerator/self.denominator\n",
    "        \n",
    "    def as_string(self):\n",
    "        return f\"{self.numerator}/{self.denominator}\"\n",
    "    \n",
    "    def multiply(self, other):\n",
    "        if type(other) is Fraction:\n",
    "            return Fraction(self.numerator * other.numerator, self.denominator * other.denominator)\n",
    "        elif type(other) is int:\n",
    "            return Fraction(self.numerator * other, self.denominator)\n",
    "        else:\n",
    "            raise TypeError"
   ]
  },
  {
   "cell_type": "code",
   "execution_count": 37,
   "metadata": {
    "ExecuteTime": {
     "end_time": "2021-02-08T10:30:05.553570Z",
     "start_time": "2021-02-08T10:30:05.547586Z"
    }
   },
   "outputs": [
    {
     "name": "stdout",
     "output_type": "stream",
     "text": [
      "1/2\n",
      "1/4\n",
      "4/2\n"
     ]
    },
    {
     "data": {
      "text/html": [
       " <h3> <font color=\"green\"> ✓ Correct </font> </h3>"
      ],
      "text/plain": [
       "<IPython.core.display.HTML object>"
      ]
     },
     "metadata": {},
     "output_type": "display_data"
    }
   ],
   "source": [
    "## Tests\n",
    "with tick():\n",
    "    half = Fraction(1,2)\n",
    "    print(half)\n",
    "    print(half * half)\n",
    "    print(half * 4)\n",
    "    assert str(half)==\"1/2\"    \n",
    "    two_third = Fraction(2, 3)\n",
    "    assert str(two_third)==\"2/3\"\n",
    "    prod = half * two_third\n",
    "    assert str(prod)==\"2/6\"\n",
    "    assert str(half.multiply(2)) == \"2/2\"\n",
    "    assert str(half * 2) == \"2/2\"\n",
    "    try: \n",
    "        half * 2.0\n",
    "    except TypeError:\n",
    "        assert True\n",
    "    else:\n",
    "        assert False, \"Didn't fail when multiplying by an float\""
   ]
  },
  {
   "cell_type": "code",
   "execution_count": null,
   "metadata": {},
   "outputs": [],
   "source": []
  }
 ],
 "metadata": {
  "kernelspec": {
   "display_name": "Python 3",
   "language": "python",
   "name": "python3"
  },
  "language_info": {
   "codemirror_mode": {
    "name": "ipython",
    "version": 3
   },
   "file_extension": ".py",
   "mimetype": "text/x-python",
   "name": "python",
   "nbconvert_exporter": "python",
   "pygments_lexer": "ipython3",
   "version": "3.8.8"
  },
  "latex_envs": {
   "LaTeX_envs_menu_present": true,
   "autoclose": false,
   "autocomplete": true,
   "bibliofile": "biblio.bib",
   "cite_by": "apalike",
   "current_citInitial": 1,
   "eqLabelWithNumbers": true,
   "eqNumInitial": 1,
   "hotkeys": {
    "equation": "Ctrl-E",
    "itemize": "Ctrl-I"
   },
   "labels_anchors": false,
   "latex_user_defs": false,
   "report_style_numbering": false,
   "user_envs_cfg": false
  },
  "toc": {
   "base_numbering": 1,
   "nav_menu": {},
   "number_sections": true,
   "sideBar": true,
   "skip_h1_title": true,
   "title_cell": "Table of Contents",
   "title_sidebar": "Contents",
   "toc_cell": false,
   "toc_position": {},
   "toc_section_display": "block",
   "toc_window_display": false
  },
  "varInspector": {
   "cols": {
    "lenName": 16,
    "lenType": 16,
    "lenVar": 40
   },
   "kernels_config": {
    "python": {
     "delete_cmd_postfix": "",
     "delete_cmd_prefix": "del ",
     "library": "var_list.py",
     "varRefreshCmd": "print(var_dic_list())"
    },
    "r": {
     "delete_cmd_postfix": ") ",
     "delete_cmd_prefix": "rm(",
     "library": "var_list.r",
     "varRefreshCmd": "cat(var_dic_list()) "
    }
   },
   "types_to_exclude": [
    "module",
    "function",
    "builtin_function_or_method",
    "instance",
    "_Feature"
   ],
   "window_display": false
  }
 },
 "nbformat": 4,
 "nbformat_minor": 1
}
