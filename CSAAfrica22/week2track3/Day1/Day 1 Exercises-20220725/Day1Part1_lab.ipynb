{
 "cells": [
  {
   "cell_type": "markdown",
   "id": "3faf493a",
   "metadata": {},
   "source": [
    "# Wk2 Trk3, Day 1\n",
    "<br>\n",
    "\n",
    "# Exercises: NumPy\n",
    "---\n",
    "<br>\n",
    "\n",
    "#### CSAA2022\n",
    "\n",
    "Welcome to the first half of today's lab! In this lab, we are going to practice the fundamentals of numpy by creating arrays, accessing elements, subsetting using Boolean indexing and finally, we are also going to practice some well known numpy functions. \n",
    "\n",
    "\n",
    "Of course, we are not able to cover it all and as such we recommend the online resouces below. As always, documentation is your friend, so make sure you have a look if uncertain. \n",
    "\n",
    "Useful references: \n",
    "* [Official NumPy reference ](https://numpy.org/doc/stable/reference/index.html)\n",
    "* [Cheatsheet](https://s3.amazonaws.com/assets.datacamp.com/blog_assets/Numpy_Python_Cheat_Sheet.pdf)\n"
   ]
  },
  {
   "cell_type": "code",
   "execution_count": 42,
   "id": "5c4d44e1",
   "metadata": {},
   "outputs": [],
   "source": [
    "#first step if we want to use functions that have been already implemented in a library is to import that library\n",
    "\n",
    "#traditional way of importing numpy\n",
    "import numpy as np"
   ]
  },
  {
   "cell_type": "markdown",
   "id": "b0225a14",
   "metadata": {},
   "source": [
    "#### Task 1: Mastering the basics"
   ]
  },
  {
   "cell_type": "markdown",
   "id": "2002afa1",
   "metadata": {},
   "source": [
    "##### Part A: Create some arrays\n",
    "\n",
    "\n",
    "* Create an array from the following list \n",
    "        sample_list = [1.0,4.0,9.0,23.0]\n",
    "\n",
    "* **Do not use** *np.array* for the next problems: \n",
    "    * create a 10 x 10 matrix of all ones\n",
    "    * a 15 element vector, with all elements equal to np.pi\n",
    "    * an 1D array with elements between 0 and 50, stepping by 2\n",
    "    * an array of random numbers of 0 mean and unit std; choose the size yourselves \n",
    "    * create an array of even numbers between 100 and 500 and then divide it by 2\n",
    "\n",
    "\n",
    "\n"
   ]
  },
  {
   "cell_type": "code",
   "execution_count": 43,
   "id": "c7d4ffb3",
   "metadata": {},
   "outputs": [
    {
     "name": "stdout",
     "output_type": "stream",
     "text": [
      "[ 1.  4.  9. 23.]\n"
     ]
    }
   ],
   "source": [
    "### YOUR CODE GOES HERE\n",
    "sample_list = [1.0,4.0,9.0,23.0]\n",
    "array1 = np.array(sample_list)\n",
    "print(array1)"
   ]
  },
  {
   "cell_type": "code",
   "execution_count": 44,
   "id": "7abda0cb",
   "metadata": {},
   "outputs": [
    {
     "name": "stdout",
     "output_type": "stream",
     "text": [
      "[[1. 1. 1. 1. 1. 1. 1. 1. 1. 1.]\n",
      " [1. 1. 1. 1. 1. 1. 1. 1. 1. 1.]\n",
      " [1. 1. 1. 1. 1. 1. 1. 1. 1. 1.]\n",
      " [1. 1. 1. 1. 1. 1. 1. 1. 1. 1.]\n",
      " [1. 1. 1. 1. 1. 1. 1. 1. 1. 1.]\n",
      " [1. 1. 1. 1. 1. 1. 1. 1. 1. 1.]\n",
      " [1. 1. 1. 1. 1. 1. 1. 1. 1. 1.]\n",
      " [1. 1. 1. 1. 1. 1. 1. 1. 1. 1.]\n",
      " [1. 1. 1. 1. 1. 1. 1. 1. 1. 1.]\n",
      " [1. 1. 1. 1. 1. 1. 1. 1. 1. 1.]]\n"
     ]
    }
   ],
   "source": [
    "array2 = np.ones((10, 10))\n",
    "print(array2)"
   ]
  },
  {
   "cell_type": "code",
   "execution_count": 45,
   "id": "69fdcf88",
   "metadata": {},
   "outputs": [
    {
     "name": "stdout",
     "output_type": "stream",
     "text": [
      "[3.14159265 3.14159265 3.14159265 3.14159265 3.14159265 3.14159265\n",
      " 3.14159265 3.14159265 3.14159265 3.14159265 3.14159265 3.14159265\n",
      " 3.14159265 3.14159265 3.14159265]\n"
     ]
    }
   ],
   "source": [
    "# help(np.full)\n",
    "array3 = np.full((15,), np.pi)\n",
    "print(array3)"
   ]
  },
  {
   "cell_type": "code",
   "execution_count": 5,
   "id": "f8d9ed06",
   "metadata": {},
   "outputs": [
    {
     "name": "stdout",
     "output_type": "stream",
     "text": [
      "[ 0  2  4  6  8 10 12 14 16 18 20 22 24 26 28 30 32 34 36 38 40 42 44 46\n",
      " 48]\n"
     ]
    }
   ],
   "source": [
    "array4 = np.arange(0, 50, 2)\n",
    "print(array4)"
   ]
  },
  {
   "cell_type": "code",
   "execution_count": 6,
   "id": "761694bb",
   "metadata": {},
   "outputs": [
    {
     "name": "stdout",
     "output_type": "stream",
     "text": [
      "[[-0.67339345  0.0348867  -0.68236675 -2.12463887  1.70904918]\n",
      " [ 0.08532176 -0.74124389  1.60759899 -0.92508804 -0.08057866]\n",
      " [ 1.26940341  3.29985899 -0.32221851  0.25386407  0.59886152]\n",
      " [-0.30202059 -2.27214308 -0.06679518  0.02295828 -0.34617425]\n",
      " [-0.48022127  0.04534328 -0.31775965 -0.20959985  1.1338176 ]]\n"
     ]
    }
   ],
   "source": [
    "# help(np.random)\n",
    "array5 = np.random.randn(25).reshape((5,5))\n",
    "print(array5)"
   ]
  },
  {
   "cell_type": "code",
   "execution_count": 7,
   "id": "ad939b35",
   "metadata": {},
   "outputs": [
    {
     "name": "stdout",
     "output_type": "stream",
     "text": [
      "[100 102 104 106 108 110 112 114 116 118 120 122 124 126 128 130 132 134\n",
      " 136 138 140 142 144 146 148 150 152 154 156 158 160 162 164 166 168 170\n",
      " 172 174 176 178 180 182 184 186 188 190 192 194 196 198 200 202 204 206\n",
      " 208 210 212 214 216 218 220 222 224 226 228 230 232 234 236 238 240 242\n",
      " 244 246 248 250 252 254 256 258 260 262 264 266 268 270 272 274 276 278\n",
      " 280 282 284 286 288 290 292 294 296 298 300 302 304 306 308 310 312 314\n",
      " 316 318 320 322 324 326 328 330 332 334 336 338 340 342 344 346 348 350\n",
      " 352 354 356 358 360 362 364 366 368 370 372 374 376 378 380 382 384 386\n",
      " 388 390 392 394 396 398 400 402 404 406 408 410 412 414 416 418 420 422\n",
      " 424 426 428 430 432 434 436 438 440 442 444 446 448 450 452 454 456 458\n",
      " 460 462 464 466 468 470 472 474 476 478 480 482 484 486 488 490 492 494\n",
      " 496 498]\n",
      "[ 50  51  52  53  54  55  56  57  58  59  60  61  62  63  64  65  66  67\n",
      "  68  69  70  71  72  73  74  75  76  77  78  79  80  81  82  83  84  85\n",
      "  86  87  88  89  90  91  92  93  94  95  96  97  98  99 100 101 102 103\n",
      " 104 105 106 107 108 109 110 111 112 113 114 115 116 117 118 119 120 121\n",
      " 122 123 124 125 126 127 128 129 130 131 132 133 134 135 136 137 138 139\n",
      " 140 141 142 143 144 145 146 147 148 149 150 151 152 153 154 155 156 157\n",
      " 158 159 160 161 162 163 164 165 166 167 168 169 170 171 172 173 174 175\n",
      " 176 177 178 179 180 181 182 183 184 185 186 187 188 189 190 191 192 193\n",
      " 194 195 196 197 198 199 200 201 202 203 204 205 206 207 208 209 210 211\n",
      " 212 213 214 215 216 217 218 219 220 221 222 223 224 225 226 227 228 229\n",
      " 230 231 232 233 234 235 236 237 238 239 240 241 242 243 244 245 246 247\n",
      " 248 249]\n"
     ]
    }
   ],
   "source": [
    "array6 = np.arange(100, 500, 2)\n",
    "array7 = array6 // 2\n",
    "print(array6)\n",
    "print(array7)"
   ]
  },
  {
   "cell_type": "code",
   "execution_count": null,
   "id": "0b605c15",
   "metadata": {},
   "outputs": [],
   "source": []
  },
  {
   "cell_type": "markdown",
   "id": "c45690f2",
   "metadata": {},
   "source": [
    "##### Part B: Practing indexing and slicing\n",
    "\n",
    "Given the array below, access the following elements:\n",
    "\n",
    "* access 39 using negative indexing\n",
    "* slice the first five elements of each row\n",
    "* slice the numbers between 0 and 5\n",
    "* slice all the odd numbers (use Boolean indexing)"
   ]
  },
  {
   "cell_type": "code",
   "execution_count": 46,
   "id": "71353da3",
   "metadata": {},
   "outputs": [
    {
     "name": "stdout",
     "output_type": "stream",
     "text": [
      "[[ 0  1  2  3  4  5  6  7  8  9 10 11 12 13 14 15 16 17 18 19]\n",
      " [20 21 22 23 24 25 26 27 28 29 30 31 32 33 34 35 36 37 38 39]]\n",
      "39\n",
      "[[ 0  1  2  3  4]\n",
      " [20 21 22 23 24]]\n",
      "[0 1 2 3 4 5]\n",
      "[ 1  3  5  7  9 11 13 15 17 19 21 23 25 27 29 31 33 35 37 39]\n"
     ]
    }
   ],
   "source": [
    "test1 = np.arange(0,40).reshape(2,20)\n",
    "print(test1)\n",
    "print(test1[-1,-1])\n",
    "print(test1[ : ,0:5])\n",
    "print(test1[test1 <= 5])\n",
    "print(test1[test1%2!=0])"
   ]
  },
  {
   "cell_type": "code",
   "execution_count": null,
   "id": "06dc98a0",
   "metadata": {},
   "outputs": [],
   "source": []
  },
  {
   "cell_type": "markdown",
   "id": "b99eb5da",
   "metadata": {},
   "source": [
    "#### Task 2: Snails\n",
    "\n",
    "The snails data can be found in the dataLab folder. \n",
    "\n",
    "Groups of 20 snails were held for periods of 1, 2, 3 or 4 weeks in carefully controlled conditions of temperature\n",
    "and relative humidity. The two species of snails are labelled as 0 and 1. At the end of the exposure time the snails were tested to see if\n",
    "they had survived.\n",
    "\n",
    "Data format, 6 columns as follows: \n",
    "    * species (0 or 1)\n",
    "    * exposure (weeks)\n",
    "    * humidity\n",
    "    * temperature\n",
    "    * ndeaths\n",
    "    * nsnails (initial number at the start)\n",
    "    \n",
    "    \n",
    "    \n",
    "**What you need to do**: \n",
    "\n",
    "* Read the data. Use numpy!\n",
    "* Practice indexing and slicing: \n",
    "        * temperature of last entry\n",
    "        * humidity of the 5th entry\n",
    "        * get 2nd and 3rd column\n",
    "        * get the first 5 rows\n",
    "        \n",
    "* Compute the following: \n",
    "        * total number of deaths :(\n",
    "        * total number of snails that survived :)\n",
    "        * max temperature\n",
    "        * mean humidity\n",
    "        * average death rate \n",
    "* Split the snails in 2 arrays based on their species\n",
    "* Which group of snails has the highest average death rate? \n",
    "* What are the optimum living conditions (temperature and humidity) for snails? Use only snails kept for the full duration of the experiment. \n"
   ]
  },
  {
   "cell_type": "code",
   "execution_count": 9,
   "id": "9d15f16b",
   "metadata": {},
   "outputs": [
    {
     "name": "stdout",
     "output_type": "stream",
     "text": [
      "20.0\n",
      "65.8\n",
      "[[ 0.   1.  60.  10.   0.  20. ]\n",
      " [ 0.   1.  60.  15.   0.  20. ]\n",
      " [ 0.   1.  60.  20.   0.  20. ]\n",
      " [ 0.   1.  65.8 10.   0.  20. ]\n",
      " [ 0.   1.  65.8 15.   0.  20. ]]\n"
     ]
    }
   ],
   "source": [
    "# help(np.loadtxt)\n",
    "# reading the \n",
    "snails_array = np.loadtxt(\"labData/snails.txt\")\n",
    "# print(snails_array)\n",
    "last_temp = snails_array[-1, 3]\n",
    "print(last_temp)\n",
    "_5th_hum = snails_array[4, 2]\n",
    "print(_5th_hum)\n",
    "col_2nd_3rd = snails_array[:, 1:3]\n",
    "# print(col_2nd_3rd)\n",
    "row_5 = snails_array[:5]\n",
    "print(row_5)"
   ]
  },
  {
   "cell_type": "code",
   "execution_count": 10,
   "id": "d641f315",
   "metadata": {},
   "outputs": [
    {
     "data": {
      "text/plain": [
       "array([3., 3., 3., 3., 3.])"
      ]
     },
     "execution_count": 10,
     "metadata": {},
     "output_type": "execute_result"
    }
   ],
   "source": [
    "test = np.ones((3,5))\n",
    "test.sum(axis=0)"
   ]
  },
  {
   "cell_type": "code",
   "execution_count": 51,
   "id": "c5c07d57",
   "metadata": {},
   "outputs": [
    {
     "name": "stdout",
     "output_type": "stream",
     "text": [
      "275.0\n",
      "1645.0\n",
      "1645.0\n",
      "20.0\n",
      "68.02499999999999\n",
      "0.14322916666666666\n"
     ]
    },
    {
     "data": {
      "text/plain": [
       "275.0"
      ]
     },
     "execution_count": 51,
     "metadata": {},
     "output_type": "execute_result"
    }
   ],
   "source": [
    "total_no_deaths = snails_array[:, -2].sum(axis=0)\n",
    "print(total_no_deaths)\n",
    "array_no_survived = snails_array[:, -1] - snails_array[:, -2]\n",
    "total_no_survived = array_no_survived.sum(axis=0)\n",
    "print(total_no_survived)\n",
    "total_no_survived = snails_array[:, -1].sum(axis=0) - snails_array[:, -2].sum(axis=0)\n",
    "print(total_no_survived)\n",
    "temp_col = snails_array[:,3]\n",
    "max_temp = temp_col.max(axis=0)\n",
    "print(max_temp)\n",
    "hum_col = snails_array[:,2]\n",
    "mean_hum = hum_col.mean(axis=0)\n",
    "print(mean_hum)\n",
    "average_death_rate = snails_array[:, -2].sum(axis=0) / snails_array[:, -1].sum(axis=0)\n",
    "print(average_death_rate)\n",
    "snails_array[:, -2].sum()"
   ]
  },
  {
   "cell_type": "code",
   "execution_count": 49,
   "id": "a2a5f6ab",
   "metadata": {},
   "outputs": [
    {
     "name": "stdout",
     "output_type": "stream",
     "text": [
      "0.08541666666666667\n",
      "0.20104166666666667\n",
      "86\n",
      "[75.8 10. ]\n"
     ]
    }
   ],
   "source": [
    "species_0 = snails_array[snails_array[:, 0]==0.0]\n",
    "# print(species_0)\n",
    "species_1 = snails_array[snails_array[:, 0]==1.0]\n",
    "# print(species_1)\n",
    "species_0_death_rate = species_0[:, -2].sum(axis=0) / species_0[:, -1].sum(axis=0)\n",
    "species_1_death_rate = species_1[:, -2].sum(axis=0) / species_1[:, -1].sum(axis=0)\n",
    "print(species_0_death_rate)\n",
    "print(species_1_death_rate)\n",
    "\n",
    "\n",
    "death_rate_per_group = snails_array[:, -2] / snails_array[:, -1]\n",
    "group_with_heightes_death_rate = death_rate_per_group.argmax()\n",
    "print(group_with_heightes_death_rate)\n",
    "\n",
    "full_exposure_array = snails_array[snails_array[:, 1]==4.0]\n",
    "group_with_highest_survival = full_exposure_array[:,-2].argmin()\n",
    "print(snails_array[group_with_highest_survival, 2:4])"
   ]
  },
  {
   "cell_type": "code",
   "execution_count": null,
   "id": "3b8e9678",
   "metadata": {},
   "outputs": [],
   "source": []
  },
  {
   "cell_type": "code",
   "execution_count": null,
   "id": "c2f9557f",
   "metadata": {},
   "outputs": [],
   "source": []
  }
 ],
 "metadata": {
  "kernelspec": {
   "display_name": "Python 3",
   "language": "python",
   "name": "python3"
  },
  "language_info": {
   "codemirror_mode": {
    "name": "ipython",
    "version": 3
   },
   "file_extension": ".py",
   "mimetype": "text/x-python",
   "name": "python",
   "nbconvert_exporter": "python",
   "pygments_lexer": "ipython3",
   "version": "3.8.8"
  }
 },
 "nbformat": 4,
 "nbformat_minor": 5
}
