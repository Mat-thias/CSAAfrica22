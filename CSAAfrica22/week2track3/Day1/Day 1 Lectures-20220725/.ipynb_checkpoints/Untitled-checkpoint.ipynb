{
 "cells": [
  {
   "cell_type": "code",
   "execution_count": 1,
   "id": "a285ae18",
   "metadata": {},
   "outputs": [],
   "source": [
    "import numpy as np"
   ]
  },
  {
   "cell_type": "code",
   "execution_count": 3,
   "id": "97b268d1",
   "metadata": {},
   "outputs": [],
   "source": [
    "list1 = list(range(1000000))\n",
    "array1 = np.arange(1000000)\n",
    "list2 = list(range(1000000))\n",
    "array2 = np.arange(1000000)"
   ]
  },
  {
   "cell_type": "code",
   "execution_count": 15,
   "id": "e9cc474f",
   "metadata": {},
   "outputs": [
    {
     "name": "stderr",
     "output_type": "stream",
     "text": [
      "UsageError: Line magic function `%%timeit` not found.\n"
     ]
    }
   ],
   "source": [
    "%%timeit \n",
    "for i in range(len(list1)):\n",
    "    list1[i] *= 2 \n",
    "    \n",
    "%%timeit\n",
    "array1 *= 2 \n",
    "    "
   ]
  },
  {
   "cell_type": "code",
   "execution_count": null,
   "id": "d4175b94",
   "metadata": {},
   "outputs": [],
   "source": []
  }
 ],
 "metadata": {
  "kernelspec": {
   "display_name": "Python 3",
   "language": "python",
   "name": "python3"
  },
  "language_info": {
   "codemirror_mode": {
    "name": "ipython",
    "version": 3
   },
   "file_extension": ".py",
   "mimetype": "text/x-python",
   "name": "python",
   "nbconvert_exporter": "python",
   "pygments_lexer": "ipython3",
   "version": "3.8.8"
  }
 },
 "nbformat": 4,
 "nbformat_minor": 5
}
