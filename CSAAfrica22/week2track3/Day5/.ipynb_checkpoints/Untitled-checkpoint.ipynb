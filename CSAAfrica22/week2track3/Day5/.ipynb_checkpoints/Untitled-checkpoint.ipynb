{
 "cells": [
  {
   "cell_type": "code",
   "execution_count": 4,
   "id": "7c92cc90",
   "metadata": {},
   "outputs": [],
   "source": [
    "import numpy as np"
   ]
  },
  {
   "cell_type": "code",
   "execution_count": 5,
   "id": "2fccc803",
   "metadata": {},
   "outputs": [],
   "source": [
    "class K_Means:\n",
    "    \n",
    "    def __init__(self, n_means):\n",
    "        self.n_means = n_means\n",
    "        \n",
    "    def fit(self, X_train):\n",
    "        number_features = X_train[0].size\n",
    "        # generating random n means\n",
    "        means_list = []\n",
    "        for i in range(self.n_means):\n",
    "            mean_list = []\n",
    "            for j in range(number_features):\n",
    "                mean_list.append(np.random.randint())\n",
    "            means_list.append(np.array(mean_list))\n",
    "            \n",
    "        means_array = np.array(means_list)\n",
    "        \n",
    "        "
   ]
  },
  {
   "cell_type": "code",
   "execution_count": null,
   "id": "63c57842",
   "metadata": {},
   "outputs": [],
   "source": []
  }
 ],
 "metadata": {
  "kernelspec": {
   "display_name": "Python 3",
   "language": "python",
   "name": "python3"
  },
  "language_info": {
   "codemirror_mode": {
    "name": "ipython",
    "version": 3
   },
   "file_extension": ".py",
   "mimetype": "text/x-python",
   "name": "python",
   "nbconvert_exporter": "python",
   "pygments_lexer": "ipython3",
   "version": "3.8.8"
  }
 },
 "nbformat": 4,
 "nbformat_minor": 5
}
