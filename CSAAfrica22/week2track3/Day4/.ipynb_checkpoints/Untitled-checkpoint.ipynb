{
 "cells": [
  {
   "cell_type": "code",
   "execution_count": 1,
   "id": "e144a00c",
   "metadata": {},
   "outputs": [],
   "source": [
    "from sklearn.svm import SVC\n",
    "from sklearn.neighbors import KNeighborsClassifier\n",
    "from sklearn.datasets import load_breast_cancer\n",
    "from sklearn.model_selection import train_test_split\n",
    "\n",
    "import numpy as np\n",
    "import matplotlib.pyplot as plt"
   ]
  },
  {
   "cell_type": "code",
   "execution_count": 2,
   "id": "29ff8ff1",
   "metadata": {},
   "outputs": [],
   "source": [
    "cancer = load_breast_cancer()\n",
    "cancer_data = cancer.data\n",
    "cancer_target = cancer.target"
   ]
  },
  {
   "cell_type": "code",
   "execution_count": 24,
   "id": "49856cd3",
   "metadata": {},
   "outputs": [
    {
     "data": {
      "text/plain": [
       "(426, 30)"
      ]
     },
     "execution_count": 24,
     "metadata": {},
     "output_type": "execute_result"
    }
   ],
   "source": [
    "X_train, X_test, y_train, y_test = train_test_split(cancer_data, cancer_target,\n",
    "                                                    test_size=.25, random_state=25)\n",
    "X_train.shape"
   ]
  },
  {
   "cell_type": "code",
   "execution_count": 30,
   "id": "0db5fde4",
   "metadata": {},
   "outputs": [
    {
     "data": {
      "text/plain": [
       "numpy.ndarray"
      ]
     },
     "execution_count": 30,
     "metadata": {},
     "output_type": "execute_result"
    },
    {
     "data": {
      "image/png": "[encoded data removed]",
      "text/plain": [
       "<Figure size 432x288 with 1 Axes>"
      ]
     },
     "metadata": {
      "needs_background": "light"
     },
     "output_type": "display_data"
    }
   ],
   "source": [
    "classes = {0:'r.',1:'b.'}\n",
    "plt.figure()\n",
    "for cl in classes:\n",
    "    pos = np.where(y_train == cl)[0]\n",
    "    plt.plot(X_train[pos,21],X_train[pos,2],classes[cl])\n",
    "    \n",
    "type(np.where(y_train == 0)[0])"
   ]
  },
  {
   "cell_type": "code",
   "execution_count": 10,
   "id": "d5c9cb51",
   "metadata": {},
   "outputs": [
    {
     "name": "stdout",
     "output_type": "stream",
     "text": [
      "Help on function where in module numpy:\n",
      "\n",
      "where(...)\n",
      "    where(condition, [x, y])\n",
      "    \n",
      "    Return elements chosen from `x` or `y` depending on `condition`.\n",
      "    \n",
      "    .. note::\n",
      "        When only `condition` is provided, this function is a shorthand for\n",
      "        ``np.asarray(condition).nonzero()``. Using `nonzero` directly should be\n",
      "        preferred, as it behaves correctly for subclasses. The rest of this\n",
      "        documentation covers only the case where all three arguments are\n",
      "        provided.\n",
      "    \n",
      "    Parameters\n",
      "    ----------\n",
      "    condition : array_like, bool\n",
      "        Where True, yield `x`, otherwise yield `y`.\n",
      "    x, y : array_like\n",
      "        Values from which to choose. `x`, `y` and `condition` need to be\n",
      "        broadcastable to some shape.\n",
      "    \n",
      "    Returns\n",
      "    -------\n",
      "    out : ndarray\n",
      "        An array with elements from `x` where `condition` is True, and elements\n",
      "        from `y` elsewhere.\n",
      "    \n",
      "    See Also\n",
      "    --------\n",
      "    choose\n",
      "    nonzero : The function that is called when x and y are omitted\n",
      "    \n",
      "    Notes\n",
      "    -----\n",
      "    If all the arrays are 1-D, `where` is equivalent to::\n",
      "    \n",
      "        [xv if c else yv\n",
      "         for c, xv, yv in zip(condition, x, y)]\n",
      "    \n",
      "    Examples\n",
      "    --------\n",
      "    >>> a = np.arange(10)\n",
      "    >>> a\n",
      "    array([0, 1, 2, 3, 4, 5, 6, 7, 8, 9])\n",
      "    >>> np.where(a < 5, a, 10*a)\n",
      "    array([ 0,  1,  2,  3,  4, 50, 60, 70, 80, 90])\n",
      "    \n",
      "    This can be used on multidimensional arrays too:\n",
      "    \n",
      "    >>> np.where([[True, False], [True, True]],\n",
      "    ...          [[1, 2], [3, 4]],\n",
      "    ...          [[9, 8], [7, 6]])\n",
      "    array([[1, 8],\n",
      "           [3, 4]])\n",
      "    \n",
      "    The shapes of x, y, and the condition are broadcast together:\n",
      "    \n",
      "    >>> x, y = np.ogrid[:3, :4]\n",
      "    >>> np.where(x < y, x, 10 + y)  # both x and 10+y are broadcast\n",
      "    array([[10,  0,  0,  0],\n",
      "           [10, 11,  1,  1],\n",
      "           [10, 11, 12,  2]])\n",
      "    \n",
      "    >>> a = np.array([[0, 1, 2],\n",
      "    ...               [0, 2, 4],\n",
      "    ...               [0, 3, 6]])\n",
      "    >>> np.where(a < 4, a, -1)  # -1 is broadcast\n",
      "    array([[ 0,  1,  2],\n",
      "           [ 0,  2, -1],\n",
      "           [ 0,  3, -1]])\n",
      "\n"
     ]
    }
   ],
   "source": [
    "help(np.where)"
   ]
  },
  {
   "cell_type": "code",
   "execution_count": null,
   "id": "879a903f",
   "metadata": {},
   "outputs": [],
   "source": [
    "kernels = {\"linear\" : 'r', \"poly\" : 'g', \"rbf\" : 'b', \"sigmoid\" : 'y'}\n",
    "\n",
    "\n",
    "for kernel in kernels:\n",
    "    svn_model = SVC(kernel=kernel)\n",
    "    svn_model.fit(X_train, y_train)\n",
    "    print(f\"{kernel} {svn_model.score(X_test, y_test):5.2f}\", end=\" | \")\n",
    "print()\n",
    "for degree in range(100):\n",
    "    svn_model = SVC(kernel=\"poly\", degree=degree)\n",
    "    svn_model.fit(X_train, y_train)\n",
    "    print(f\"{degree} {svn_model.score(X_test, y_test):5.2f}\", end=\" | \")"
   ]
  },
  {
   "cell_type": "code",
   "execution_count": 26,
   "id": "06350435",
   "metadata": {},
   "outputs": [
    {
     "name": "stdout",
     "output_type": "stream",
     "text": [
      " 1  0.89 |  2  0.89 |  3  0.90 |  4  0.90 |  5  0.92 |  6  0.92 |  7  0.92 |  8  0.91 |  9  0.91 | 10  0.91 | 11  0.91 | 12  0.90 | 13  0.91 | 14  0.91 | 15  0.91 | 16  0.91 | 17  0.91 | 18  0.92 | 19  0.91 | 20  0.91 | 21  0.91 | 22  0.91 | 23  0.91 | 24  0.92 | 25  0.92 | 26  0.92 | 27  0.92 | 28  0.92 | 29  0.92 | 30  0.92 | 31  0.92 | 32  0.92 | 33  0.92 | 34  0.92 | 35  0.92 | 36  0.92 | 37  0.92 | 38  0.92 | 39  0.92 | 40  0.92 | 41  0.92 | 42  0.92 | 43  0.92 | 44  0.92 | 45  0.92 | 46  0.92 | 47  0.91 | 48  0.91 | 49  0.91 | 50  0.91 | 51  0.91 | 52  0.91 | 53  0.92 | 54  0.91 | 55  0.91 | 56  0.91 | 57  0.91 | 58  0.91 | 59  0.91 | 60  0.91 | 61  0.91 | 62  0.91 | 63  0.91 | 64  0.91 | 65  0.91 | 66  0.91 | 67  0.91 | 68  0.91 | 69  0.91 | 70  0.91 | 71  0.91 | 72  0.91 | 73  0.90 | 74  0.91 | 75  0.91 | 76  0.91 | 77  0.91 | 78  0.91 | 79  0.90 | 80  0.90 | 81  0.90 | 82  0.90 | 83  0.90 | 84  0.90 | 85  0.90 | 86  0.90 | 87  0.90 | 88  0.90 | 89  0.90 | 90  0.90 | 91  0.90 | 92  0.90 | 93  0.90 | 94  0.90 | 95  0.90 | 96  0.90 | 97  0.90 | 98  0.90 | 99  0.90 | "
     ]
    }
   ],
   "source": [
    "for k in range(1,100):\n",
    "    knn_model = KNeighborsClassifier(n_neighbors=k)\n",
    "    knn_model.fit(X_train, y_train)\n",
    "    print(f\"{k:2d} {knn_model.score(X_test, y_test):5.2f}\", end=\" | \")"
   ]
  },
  {
   "cell_type": "code",
   "execution_count": null,
   "id": "99c27d30",
   "metadata": {},
   "outputs": [],
   "source": []
  }
 ],
 "metadata": {
  "kernelspec": {
   "display_name": "Python 3",
   "language": "python",
   "name": "python3"
  },
  "language_info": {
   "codemirror_mode": {
    "name": "ipython",
    "version": 3
   },
   "file_extension": ".py",
   "mimetype": "text/x-python",
   "name": "python",
   "nbconvert_exporter": "python",
   "pygments_lexer": "ipython3",
   "version": "3.8.8"
  }
 },
 "nbformat": 4,
 "nbformat_minor": 5
}
