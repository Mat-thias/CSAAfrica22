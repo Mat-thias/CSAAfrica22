{
 "cells": [
  {
   "cell_type": "markdown",
   "id": "30e2835a",
   "metadata": {
    "slideshow": {
     "slide_type": "slide"
    }
   },
   "source": [
    "## A brief introduction about our dataset\n",
    "Date fruit (Phoenix dactylifera), which has about 200 types and more than 2500 species worldwide, is an edible and a nutritive fruit. Date fruit can be classified by evaluating with image analysis and pattern recognition techniques. The differences in view, distance, and lighting exposure are the obstacles encountered in terms of performing a reliable classification. Therefore, the studies on fruit recognition and classification have been carried out based on the visual features extracted from images."
   ]
  },
  {
   "cell_type": "markdown",
   "id": "2940a9ca",
   "metadata": {
    "slideshow": {
     "slide_type": "slide"
    }
   },
   "source": [
    "## Image aquisition\n",
    "In this study, the classification process was performed for 7 different date fruit types, that are, Barhee, Deglet Nour, Sukkary, Rotab Mozafati, Ruthana, Safawi, and Sagai. Barhee 65, Deglet Nour 98, Sukkary 204, Rotab Mozafati 72, Ruthana 166, Safawi 199, and Sagai 94 samples were used from palm varieties, respectively.\n",
    "A CVS was set up for the image acquisition and captured images of the date fruits were transferred to the computer environment. The camera used in the setup is placed on a closed box with an LED light system. The future robot S100 series smart camera used to capture images has a resolution of 1280 × 1024. This camera, which has a CMOS-type 1.3 MP sensor, captures 90 FPS images in order to quickly take images in the installed conveyor system.\n",
    "Green color is used in the background in order to easily distinguish the palm image from the background. RGB values of green color were determined as R = 106, G = 210, and B = 175. Using these color values, the image was color filtered, and the date fruit image was obtained without a background."
   ]
  },
  {
   "cell_type": "markdown",
   "id": "63039066",
   "metadata": {
    "slideshow": {
     "slide_type": "fragment"
    }
   },
   "source": [
    "## Image Processing and Extraction of Morphological Features\n",
    "The obtained images were converted into grayscale and binary images for feature extraction. Basically, the operations were performed on methodologies of threshold and pixel information. At the end of the image processing, each date fruit was examined separately, and a set of features were extracted from them. The Otsu method, one of the commonly used image thresholding techniques, was used within the scope of the study. Generally working on gray level images, the method only checks how many times each color is present on the image. Therefore, the color distributions of the images are first calculated, and then, all processes are performed on this distribution sequence."
   ]
  },
  {
   "cell_type": "markdown",
   "id": "1ef5014b",
   "metadata": {
    "slideshow": {
     "slide_type": "slide"
    }
   },
   "source": [
    "## Date Fruit Features Dataset\n",
    "The date fruit types selected to be examined in the study are Barhee from the Palestinian region, Deglet Nour from the Algeria region, Sukkary, Safawi, Sagai, and Ruthana from the Saudi Arabia Riyadh and Medina region, and Rotab Mozafati from the Iran region. These selected date fruits are the most common and frequently grown types in their region of belonging. Table 2 provides the general characteristics of the date fruit types used in the study, while Table 3 provides places to statistical averages of the features obtained from the date fruits."
   ]
  },
  {
   "cell_type": "markdown",
   "id": "233ab99a",
   "metadata": {
    "slideshow": {
     "slide_type": "fragment"
    }
   },
   "source": [
    "## Why did we choose this dataset.\n",
    "We wanted to choose a project which allowed us work with CVS and image processing, but with the current lack of knowlegbe in this field, this dataset already handled the image acquisition and image processing aspect of the project, which gives the chance to focus on just the machine learning aspect of the poroject."
   ]
  },
  {
   "cell_type": "markdown",
   "id": "e399fbbc",
   "metadata": {
    "slideshow": {
     "slide_type": "slide"
    }
   },
   "source": [
    "### importing all required modules for the project"
   ]
  },
  {
   "cell_type": "code",
   "execution_count": 202,
   "id": "1dd5db05",
   "metadata": {
    "slideshow": {
     "slide_type": "fragment"
    }
   },
   "outputs": [],
   "source": [
    "import numpy as np\n",
    "import pandas as pd\n",
    "import matplotlib as mtl\n",
    "import matplotlib.pyplot as plt\n",
    "import seaborn as sns\n",
    "\n",
    "from sklearn.neighbors import KNeighborsClassifier\n",
    "from sklearn.model_selection import train_test_split\n",
    "from sklearn.svm import SVC\n",
    "from sklearn.metrics import confusion_matrix\n",
    "from sklearn.linear_model import LogisticRegression\n",
    "from sklearn.model_selection import cross_val_score\n",
    "from sklearn.metrics import confusion_matrix, classification_report\n",
    "from sklearn.preprocessing import LabelEncoder\n",
    "from sklearn.ensemble import RandomForestClassifier\n",
    "from sklearn.model_selection import GridSearchCV"
   ]
  },
  {
   "cell_type": "markdown",
   "id": "3dcf28e0",
   "metadata": {
    "slideshow": {
     "slide_type": "slide"
    }
   },
   "source": [
    "## Reading the dataset and spliting the data(X) from the target(y)"
   ]
  },
  {
   "cell_type": "code",
   "execution_count": 257,
   "id": "b805cf58",
   "metadata": {
    "slideshow": {
     "slide_type": "fragment"
    }
   },
   "outputs": [],
   "source": [
    "date_fruit = pd.read_excel(\"Date_Fruit_Datasets/Date_Fruit_Datasets.xlsx\")\n",
    "date_fruit_array = np.array(date_fruit)\n",
    "date_fruit_data = date_fruit_array[:,:-2]\n",
    "date_fruit_target = date_fruit_array[:,-1]"
   ]
  },
  {
   "cell_type": "markdown",
   "id": "ff460773",
   "metadata": {
    "slideshow": {
     "slide_type": "slide"
    }
   },
   "source": [
    "## Snippet of the dataset"
   ]
  },
  {
   "cell_type": "code",
   "execution_count": 290,
   "id": "7cd55234",
   "metadata": {
    "slideshow": {
     "slide_type": "fragment"
    }
   },
   "outputs": [
    {
     "data": {
      "text/html": [
       "<div>\n",
       "<style scoped>\n",
       "    .dataframe tbody tr th:only-of-type {\n",
       "        vertical-align: middle;\n",
       "    }\n",
       "\n",
       "    .dataframe tbody tr th {\n",
       "        vertical-align: top;\n",
       "    }\n",
       "\n",
       "    .dataframe thead th {\n",
       "        text-align: right;\n",
       "    }\n",
       "</style>\n",
       "<table border=\"1\" class=\"dataframe\">\n",
       "  <thead>\n",
       "    <tr style=\"text-align: right;\">\n",
       "      <th></th>\n",
       "      <th>AREA</th>\n",
       "      <th>PERIMETER</th>\n",
       "      <th>MAJOR_AXIS</th>\n",
       "      <th>MINOR_AXIS</th>\n",
       "      <th>ECCENTRICITY</th>\n",
       "      <th>EQDIASQ</th>\n",
       "      <th>SOLIDITY</th>\n",
       "      <th>CONVEX_AREA</th>\n",
       "      <th>EXTENT</th>\n",
       "      <th>ASPECT_RATIO</th>\n",
       "      <th>...</th>\n",
       "      <th>KurtosisRR</th>\n",
       "      <th>KurtosisRG</th>\n",
       "      <th>KurtosisRB</th>\n",
       "      <th>EntropyRR</th>\n",
       "      <th>EntropyRG</th>\n",
       "      <th>EntropyRB</th>\n",
       "      <th>ALLdaub4RR</th>\n",
       "      <th>ALLdaub4RG</th>\n",
       "      <th>ALLdaub4RB</th>\n",
       "      <th>Class</th>\n",
       "    </tr>\n",
       "  </thead>\n",
       "  <tbody>\n",
       "    <tr>\n",
       "      <th>0</th>\n",
       "      <td>422163</td>\n",
       "      <td>2378.908</td>\n",
       "      <td>837.8484</td>\n",
       "      <td>645.6693</td>\n",
       "      <td>0.6373</td>\n",
       "      <td>733.1539</td>\n",
       "      <td>0.9947</td>\n",
       "      <td>424428</td>\n",
       "      <td>0.7831</td>\n",
       "      <td>1.2976</td>\n",
       "      <td>...</td>\n",
       "      <td>3.2370</td>\n",
       "      <td>2.9574</td>\n",
       "      <td>4.2287</td>\n",
       "      <td>-59191263232</td>\n",
       "      <td>-50714214400</td>\n",
       "      <td>-39922372608</td>\n",
       "      <td>58.7255</td>\n",
       "      <td>54.9554</td>\n",
       "      <td>47.8400</td>\n",
       "      <td>BERHI</td>\n",
       "    </tr>\n",
       "    <tr>\n",
       "      <th>1</th>\n",
       "      <td>338136</td>\n",
       "      <td>2085.144</td>\n",
       "      <td>723.8198</td>\n",
       "      <td>595.2073</td>\n",
       "      <td>0.5690</td>\n",
       "      <td>656.1464</td>\n",
       "      <td>0.9974</td>\n",
       "      <td>339014</td>\n",
       "      <td>0.7795</td>\n",
       "      <td>1.2161</td>\n",
       "      <td>...</td>\n",
       "      <td>2.6228</td>\n",
       "      <td>2.6350</td>\n",
       "      <td>3.1704</td>\n",
       "      <td>-34233065472</td>\n",
       "      <td>-37462601728</td>\n",
       "      <td>-31477794816</td>\n",
       "      <td>50.0259</td>\n",
       "      <td>52.8168</td>\n",
       "      <td>47.8315</td>\n",
       "      <td>BERHI</td>\n",
       "    </tr>\n",
       "    <tr>\n",
       "      <th>2</th>\n",
       "      <td>526843</td>\n",
       "      <td>2647.394</td>\n",
       "      <td>940.7379</td>\n",
       "      <td>715.3638</td>\n",
       "      <td>0.6494</td>\n",
       "      <td>819.0222</td>\n",
       "      <td>0.9962</td>\n",
       "      <td>528876</td>\n",
       "      <td>0.7657</td>\n",
       "      <td>1.3150</td>\n",
       "      <td>...</td>\n",
       "      <td>3.7516</td>\n",
       "      <td>3.8611</td>\n",
       "      <td>4.7192</td>\n",
       "      <td>-93948354560</td>\n",
       "      <td>-74738221056</td>\n",
       "      <td>-60311207936</td>\n",
       "      <td>65.4772</td>\n",
       "      <td>59.2860</td>\n",
       "      <td>51.9378</td>\n",
       "      <td>BERHI</td>\n",
       "    </tr>\n",
       "    <tr>\n",
       "      <th>3</th>\n",
       "      <td>416063</td>\n",
       "      <td>2351.210</td>\n",
       "      <td>827.9804</td>\n",
       "      <td>645.2988</td>\n",
       "      <td>0.6266</td>\n",
       "      <td>727.8378</td>\n",
       "      <td>0.9948</td>\n",
       "      <td>418255</td>\n",
       "      <td>0.7759</td>\n",
       "      <td>1.2831</td>\n",
       "      <td>...</td>\n",
       "      <td>5.0401</td>\n",
       "      <td>8.6136</td>\n",
       "      <td>8.2618</td>\n",
       "      <td>-32074307584</td>\n",
       "      <td>-32060925952</td>\n",
       "      <td>-29575010304</td>\n",
       "      <td>43.3900</td>\n",
       "      <td>44.1259</td>\n",
       "      <td>41.1882</td>\n",
       "      <td>BERHI</td>\n",
       "    </tr>\n",
       "    <tr>\n",
       "      <th>4</th>\n",
       "      <td>347562</td>\n",
       "      <td>2160.354</td>\n",
       "      <td>763.9877</td>\n",
       "      <td>582.8359</td>\n",
       "      <td>0.6465</td>\n",
       "      <td>665.2291</td>\n",
       "      <td>0.9908</td>\n",
       "      <td>350797</td>\n",
       "      <td>0.7569</td>\n",
       "      <td>1.3108</td>\n",
       "      <td>...</td>\n",
       "      <td>2.7016</td>\n",
       "      <td>2.9761</td>\n",
       "      <td>4.4146</td>\n",
       "      <td>-39980974080</td>\n",
       "      <td>-35980042240</td>\n",
       "      <td>-25593278464</td>\n",
       "      <td>52.7743</td>\n",
       "      <td>50.9080</td>\n",
       "      <td>42.6666</td>\n",
       "      <td>BERHI</td>\n",
       "    </tr>\n",
       "  </tbody>\n",
       "</table>\n",
       "<p>5 rows × 35 columns</p>\n",
       "</div>"
      ],
      "text/plain": [
       "     AREA  PERIMETER  MAJOR_AXIS  MINOR_AXIS  ECCENTRICITY   EQDIASQ  \\\n",
       "0  422163   2378.908    837.8484    645.6693        0.6373  733.1539   \n",
       "1  338136   2085.144    723.8198    595.2073        0.5690  656.1464   \n",
       "2  526843   2647.394    940.7379    715.3638        0.6494  819.0222   \n",
       "3  416063   2351.210    827.9804    645.2988        0.6266  727.8378   \n",
       "4  347562   2160.354    763.9877    582.8359        0.6465  665.2291   \n",
       "\n",
       "   SOLIDITY  CONVEX_AREA  EXTENT  ASPECT_RATIO  ...  KurtosisRR  KurtosisRG  \\\n",
       "0    0.9947       424428  0.7831        1.2976  ...      3.2370      2.9574   \n",
       "1    0.9974       339014  0.7795        1.2161  ...      2.6228      2.6350   \n",
       "2    0.9962       528876  0.7657        1.3150  ...      3.7516      3.8611   \n",
       "3    0.9948       418255  0.7759        1.2831  ...      5.0401      8.6136   \n",
       "4    0.9908       350797  0.7569        1.3108  ...      2.7016      2.9761   \n",
       "\n",
       "   KurtosisRB    EntropyRR    EntropyRG    EntropyRB  ALLdaub4RR  ALLdaub4RG  \\\n",
       "0      4.2287 -59191263232 -50714214400 -39922372608     58.7255     54.9554   \n",
       "1      3.1704 -34233065472 -37462601728 -31477794816     50.0259     52.8168   \n",
       "2      4.7192 -93948354560 -74738221056 -60311207936     65.4772     59.2860   \n",
       "3      8.2618 -32074307584 -32060925952 -29575010304     43.3900     44.1259   \n",
       "4      4.4146 -39980974080 -35980042240 -25593278464     52.7743     50.9080   \n",
       "\n",
       "   ALLdaub4RB  Class  \n",
       "0     47.8400  BERHI  \n",
       "1     47.8315  BERHI  \n",
       "2     51.9378  BERHI  \n",
       "3     41.1882  BERHI  \n",
       "4     42.6666  BERHI  \n",
       "\n",
       "[5 rows x 35 columns]"
      ]
     },
     "execution_count": 290,
     "metadata": {},
     "output_type": "execute_result"
    }
   ],
   "source": [
    "date_fruit.head()"
   ]
  },
  {
   "cell_type": "markdown",
   "id": "0aa000f8",
   "metadata": {
    "slideshow": {
     "slide_type": "slide"
    }
   },
   "source": [
    "## Information about our dataset"
   ]
  },
  {
   "cell_type": "code",
   "execution_count": 94,
   "id": "9d08cc01",
   "metadata": {
    "scrolled": false,
    "slideshow": {
     "slide_type": "fragment"
    }
   },
   "outputs": [
    {
     "name": "stdout",
     "output_type": "stream",
     "text": [
      "<class 'pandas.core.frame.DataFrame'>\n",
      "RangeIndex: 898 entries, 0 to 897\n",
      "Data columns (total 35 columns):\n",
      " #   Column         Non-Null Count  Dtype  \n",
      "---  ------         --------------  -----  \n",
      " 0   AREA           898 non-null    int64  \n",
      " 1   PERIMETER      898 non-null    float64\n",
      " 2   MAJOR_AXIS     898 non-null    float64\n",
      " 3   MINOR_AXIS     898 non-null    float64\n",
      " 4   ECCENTRICITY   898 non-null    float64\n",
      " 5   EQDIASQ        898 non-null    float64\n",
      " 6   SOLIDITY       898 non-null    float64\n",
      " 7   CONVEX_AREA    898 non-null    int64  \n",
      " 8   EXTENT         898 non-null    float64\n",
      " 9   ASPECT_RATIO   898 non-null    float64\n",
      " 10  ROUNDNESS      898 non-null    float64\n",
      " 11  COMPACTNESS    898 non-null    float64\n",
      " 12  SHAPEFACTOR_1  898 non-null    float64\n",
      " 13  SHAPEFACTOR_2  898 non-null    float64\n",
      " 14  SHAPEFACTOR_3  898 non-null    float64\n",
      " 15  SHAPEFACTOR_4  898 non-null    float64\n",
      " 16  MeanRR         898 non-null    float64\n",
      " 17  MeanRG         898 non-null    float64\n",
      " 18  MeanRB         898 non-null    float64\n",
      " 19  StdDevRR       898 non-null    float64\n",
      " 20  StdDevRG       898 non-null    float64\n",
      " 21  StdDevRB       898 non-null    float64\n",
      " 22  SkewRR         898 non-null    float64\n",
      " 23  SkewRG         898 non-null    float64\n",
      " 24  SkewRB         898 non-null    float64\n",
      " 25  KurtosisRR     898 non-null    float64\n",
      " 26  KurtosisRG     898 non-null    float64\n",
      " 27  KurtosisRB     898 non-null    float64\n",
      " 28  EntropyRR      898 non-null    int64  \n",
      " 29  EntropyRG      898 non-null    int64  \n",
      " 30  EntropyRB      898 non-null    int64  \n",
      " 31  ALLdaub4RR     898 non-null    float64\n",
      " 32  ALLdaub4RG     898 non-null    float64\n",
      " 33  ALLdaub4RB     898 non-null    float64\n",
      " 34  Class          898 non-null    object \n",
      "dtypes: float64(29), int64(5), object(1)\n",
      "memory usage: 245.7+ KB\n",
      "None\n"
     ]
    }
   ],
   "source": [
    "print(date_fruit.info())"
   ]
  },
  {
   "cell_type": "markdown",
   "id": "a77592ab",
   "metadata": {
    "slideshow": {
     "slide_type": "slide"
    }
   },
   "source": [
    "## More description about our dataset for better understanding of how it is distributed"
   ]
  },
  {
   "cell_type": "code",
   "execution_count": 240,
   "id": "e326aef0",
   "metadata": {
    "slideshow": {
     "slide_type": "fragment"
    }
   },
   "outputs": [
    {
     "name": "stdout",
     "output_type": "stream",
     "text": [
      "               count          mean           std           min           25%  \\\n",
      "AREA           898.0  2.982952e+05  1.072452e+05  1.987000e+03  2.069480e+05   \n",
      "PERIMETER      898.0  2.057661e+03  4.100125e+02  9.118280e+02  1.726091e+03   \n",
      "MAJOR_AXIS     898.0  7.508120e+02  1.440593e+02  3.367227e+02  6.410686e+02   \n",
      "MINOR_AXIS     898.0  4.958728e+02  1.142689e+02  2.283200e+00  4.046844e+02   \n",
      "ECCENTRICITY   898.0  7.374678e-01  8.872739e-02  3.448000e-01  6.856250e-01   \n",
      "EQDIASQ        898.0  6.045779e+02  1.195939e+02  5.029840e+01  5.133171e+02   \n",
      "SOLIDITY       898.0  9.818403e-01  1.815742e-02  8.366000e-01  9.788250e-01   \n",
      "CONVEX_AREA    898.0  3.038456e+05  1.088157e+05  2.257000e+03  2.100228e+05   \n",
      "EXTENT         898.0  7.362671e-01  5.374518e-02  5.123000e-01  7.058750e-01   \n",
      "ASPECT_RATIO   898.0  2.131102e+00  1.782078e+01  1.065300e+00  1.373725e+00   \n",
      "ROUNDNESS      898.0  8.577200e-01  7.083882e-02  4.800000e-03  8.277500e-01   \n",
      "COMPACTNESS    898.0  8.071903e-01  6.217535e-02  4.110000e-02  7.680500e-01   \n",
      "SHAPEFACTOR_1  898.0  3.428396e-03  2.045601e-02  1.700000e-03  2.200000e-03   \n",
      "SHAPEFACTOR_2  898.0  1.794432e-03  4.279168e-04  1.100000e-03  1.500000e-03   \n",
      "SHAPEFACTOR_3  898.0  6.554197e-01  9.431447e-02  1.700000e-03  5.899750e-01   \n",
      "SHAPEFACTOR_4  898.0  9.886796e-01  2.047314e-02  7.568000e-01  9.893000e-01   \n",
      "MeanRR         898.0  1.001659e+02  3.212655e+01  3.038260e+01  7.644800e+01   \n",
      "MeanRG         898.0  9.760940e+01  2.825180e+01  4.104800e+01  7.730613e+01   \n",
      "MeanRB         898.0  9.619489e+01  2.162741e+01  4.425690e+01  7.850238e+01   \n",
      "StdDevRR       898.0  2.904744e+01  6.306931e+00  7.303800e+00  2.490152e+01   \n",
      "StdDevRG       898.0  2.638336e+01  5.462164e+00  8.655700e+00  2.228965e+01   \n",
      "StdDevRB       898.0  2.614833e+01  4.905078e+00  5.148600e+00  2.289098e+01   \n",
      "SkewRR         898.0  8.926615e-02  9.432854e-01 -1.724200e+00 -5.499000e-01   \n",
      "SkewRG         898.0  5.641388e-01  1.039813e+00 -1.834400e+00 -2.302000e-01   \n",
      "SkewRB         898.0  2.505179e-01  6.329178e-01 -1.029100e+00 -1.969500e-01   \n",
      "KurtosisRR     898.0  4.247845e+00  2.892357e+00  1.708200e+00  2.536625e+00   \n",
      "KurtosisRG     898.0  5.110894e+00  3.745463e+00  1.607600e+00  2.508850e+00   \n",
      "KurtosisRB     898.0  3.780928e+00  2.049831e+00  1.767200e+00  2.577275e+00   \n",
      "EntropyRR      898.0 -3.185021e+10  2.037241e+10 -1.091224e+11 -4.429444e+10   \n",
      "EntropyRG      898.0 -2.901860e+10  1.712952e+10 -9.261697e+10 -3.894638e+10   \n",
      "EntropyRB      898.0 -2.771876e+10  1.484137e+10 -8.747177e+10 -3.564534e+10   \n",
      "ALLdaub4RR     898.0  5.008289e+01  1.606313e+01  1.519110e+01  3.822442e+01   \n",
      "ALLdaub4RG     898.0  4.880568e+01  1.412591e+01  2.052470e+01  3.865452e+01   \n",
      "ALLdaub4RB     898.0  4.809839e+01  1.081386e+01  2.213000e+01  3.925073e+01   \n",
      "\n",
      "                        50%           75%           max  \n",
      "AREA           3.198330e+05  3.825730e+05  5.460630e+05  \n",
      "PERIMETER      2.196345e+03  2.389717e+03  2.811997e+03  \n",
      "MAJOR_AXIS     7.913634e+02  8.586338e+02  1.222723e+03  \n",
      "MINOR_AXIS     4.950548e+02  5.890317e+02  7.664536e+02  \n",
      "ECCENTRICITY   7.547000e-01  8.021500e-01  1.000000e+00  \n",
      "EQDIASQ        6.381409e+02  6.979305e+02  8.338279e+02  \n",
      "SOLIDITY       9.873000e-01  9.918000e-01  9.974000e-01  \n",
      "CONVEX_AREA    3.272070e+05  3.888040e+05  5.525980e+05  \n",
      "EXTENT         7.469500e-01  7.758500e-01  8.562000e-01  \n",
      "ASPECT_RATIO   1.524150e+00  1.674750e+00  5.355257e+02  \n",
      "ROUNDNESS      8.677500e-01  8.995000e-01  9.773000e-01  \n",
      "COMPACTNESS    8.049500e-01  8.488750e-01  9.681000e-01  \n",
      "SHAPEFACTOR_1  2.600000e-03  3.200000e-03  6.154000e-01  \n",
      "SHAPEFACTOR_2  1.600000e-03  2.075000e-03  4.300000e-03  \n",
      "SHAPEFACTOR_3  6.479500e-01  7.206250e-01  9.373000e-01  \n",
      "SHAPEFACTOR_4  9.936000e-01  9.964000e-01  9.995000e-01  \n",
      "MeanRR         1.076825e+02  1.261275e+02  1.596494e+02  \n",
      "MeanRG         1.006760e+02  1.191596e+02  1.661354e+02  \n",
      "MeanRB         9.922560e+01  1.133323e+02  1.482114e+02  \n",
      "StdDevRR       2.970945e+01  3.327437e+01  4.857120e+01  \n",
      "StdDevRG       2.563830e+01  2.990533e+01  4.551070e+01  \n",
      "StdDevRB       2.646900e+01  2.948238e+01  4.242280e+01  \n",
      "SkewRR        -1.627000e-01  4.710250e-01  3.223600e+00  \n",
      "SkewRG         2.437500e-01  1.406550e+00  3.697100e+00  \n",
      "SkewRB         1.355500e-01  5.939500e-01  3.092300e+00  \n",
      "KurtosisRR     3.069800e+00  4.449850e+00  2.617110e+01  \n",
      "KurtosisRG     3.127800e+00  7.320400e+00  2.673670e+01  \n",
      "KurtosisRB     3.080700e+00  4.283125e+00  3.224950e+01  \n",
      "EntropyRR     -2.826156e+10 -1.460482e+10 -1.627316e+08  \n",
      "EntropyRG     -2.620990e+10 -1.433105e+10 -5.627727e+08  \n",
      "EntropyRB     -2.392928e+10 -1.660367e+10 -4.370435e+08  \n",
      "ALLdaub4RR     5.384130e+01  6.306335e+01  7.982890e+01  \n",
      "ALLdaub4RG     5.033780e+01  5.957360e+01  8.306490e+01  \n",
      "ALLdaub4RB     4.961410e+01  5.666667e+01  7.410460e+01  \n"
     ]
    }
   ],
   "source": [
    "print(date_fruit.describe().transpose())"
   ]
  },
  {
   "cell_type": "markdown",
   "id": "41eb2c57",
   "metadata": {
    "slideshow": {
     "slide_type": "slide"
    }
   },
   "source": [
    "## Checking if our data is already clean\n",
    "checking for null values in the dataset, which we found there to be none."
   ]
  },
  {
   "cell_type": "code",
   "execution_count": 81,
   "id": "ec35fe22",
   "metadata": {
    "scrolled": true,
    "slideshow": {
     "slide_type": "fragment"
    }
   },
   "outputs": [
    {
     "data": {
      "text/plain": [
       "AREA             0\n",
       "PERIMETER        0\n",
       "MAJOR_AXIS       0\n",
       "MINOR_AXIS       0\n",
       "ECCENTRICITY     0\n",
       "EQDIASQ          0\n",
       "SOLIDITY         0\n",
       "CONVEX_AREA      0\n",
       "EXTENT           0\n",
       "ASPECT_RATIO     0\n",
       "ROUNDNESS        0\n",
       "COMPACTNESS      0\n",
       "SHAPEFACTOR_1    0\n",
       "SHAPEFACTOR_2    0\n",
       "SHAPEFACTOR_3    0\n",
       "SHAPEFACTOR_4    0\n",
       "MeanRR           0\n",
       "MeanRG           0\n",
       "MeanRB           0\n",
       "StdDevRR         0\n",
       "StdDevRG         0\n",
       "StdDevRB         0\n",
       "SkewRR           0\n",
       "SkewRG           0\n",
       "SkewRB           0\n",
       "KurtosisRR       0\n",
       "KurtosisRG       0\n",
       "KurtosisRB       0\n",
       "EntropyRR        0\n",
       "EntropyRG        0\n",
       "EntropyRB        0\n",
       "ALLdaub4RR       0\n",
       "ALLdaub4RG       0\n",
       "ALLdaub4RB       0\n",
       "Class            0\n",
       "dtype: int64"
      ]
     },
     "execution_count": 81,
     "metadata": {},
     "output_type": "execute_result"
    }
   ],
   "source": [
    "date_fruit.isnull().sum()"
   ]
  },
  {
   "cell_type": "markdown",
   "id": "e2e8c44e",
   "metadata": {
    "slideshow": {
     "slide_type": "fragment"
    }
   },
   "source": [
    "### There were no null value present in the dataset"
   ]
  },
  {
   "cell_type": "markdown",
   "id": "d02e7151",
   "metadata": {
    "slideshow": {
     "slide_type": "slide"
    }
   },
   "source": [
    "## A bar plot showing the distribution of our dates fruit type"
   ]
  },
  {
   "cell_type": "code",
   "execution_count": 249,
   "id": "ce8ee337",
   "metadata": {
    "slideshow": {
     "slide_type": "fragment"
    }
   },
   "outputs": [
    {
     "data": {
      "image/png": "[encoded data removed]",
      "text/plain": [
       "<Figure size 432x288 with 1 Axes>"
      ]
     },
     "metadata": {
      "needs_background": "light"
     },
     "output_type": "display_data"
    }
   ],
   "source": [
    "fig = plt.figure()\n",
    "date_fruit['Class'].value_counts().plot.bar()\n",
    "date_fruit['Class'].value_counts()\n",
    "plt.title(\"A plot of the distribution of out dates fruit type\")\n",
    "plt.show()"
   ]
  },
  {
   "cell_type": "code",
   "execution_count": 85,
   "id": "dbfac06e",
   "metadata": {
    "slideshow": {
     "slide_type": "skip"
    }
   },
   "outputs": [
    {
     "data": {
      "text/html": [
       "<div>\n",
       "<style scoped>\n",
       "    .dataframe tbody tr th:only-of-type {\n",
       "        vertical-align: middle;\n",
       "    }\n",
       "\n",
       "    .dataframe tbody tr th {\n",
       "        vertical-align: top;\n",
       "    }\n",
       "\n",
       "    .dataframe thead th {\n",
       "        text-align: right;\n",
       "    }\n",
       "</style>\n",
       "<table border=\"1\" class=\"dataframe\">\n",
       "  <thead>\n",
       "    <tr style=\"text-align: right;\">\n",
       "      <th></th>\n",
       "      <th>AREA</th>\n",
       "      <th>PERIMETER</th>\n",
       "      <th>MAJOR_AXIS</th>\n",
       "      <th>MINOR_AXIS</th>\n",
       "      <th>ECCENTRICITY</th>\n",
       "      <th>EQDIASQ</th>\n",
       "      <th>SOLIDITY</th>\n",
       "      <th>CONVEX_AREA</th>\n",
       "      <th>EXTENT</th>\n",
       "      <th>ASPECT_RATIO</th>\n",
       "      <th>...</th>\n",
       "      <th>SkewRB</th>\n",
       "      <th>KurtosisRR</th>\n",
       "      <th>KurtosisRG</th>\n",
       "      <th>KurtosisRB</th>\n",
       "      <th>EntropyRR</th>\n",
       "      <th>EntropyRG</th>\n",
       "      <th>EntropyRB</th>\n",
       "      <th>ALLdaub4RR</th>\n",
       "      <th>ALLdaub4RG</th>\n",
       "      <th>ALLdaub4RB</th>\n",
       "    </tr>\n",
       "  </thead>\n",
       "  <tbody>\n",
       "    <tr>\n",
       "      <th>AREA</th>\n",
       "      <td>1.000000</td>\n",
       "      <td>0.956494</td>\n",
       "      <td>0.878893</td>\n",
       "      <td>0.954899</td>\n",
       "      <td>-0.370303</td>\n",
       "      <td>0.993243</td>\n",
       "      <td>0.027371</td>\n",
       "      <td>0.998886</td>\n",
       "      <td>-0.086286</td>\n",
       "      <td>-0.095342</td>\n",
       "      <td>...</td>\n",
       "      <td>0.433323</td>\n",
       "      <td>0.218253</td>\n",
       "      <td>0.326335</td>\n",
       "      <td>0.381096</td>\n",
       "      <td>-0.359332</td>\n",
       "      <td>-0.393124</td>\n",
       "      <td>-0.506256</td>\n",
       "      <td>-0.353446</td>\n",
       "      <td>-0.380747</td>\n",
       "      <td>-0.376277</td>\n",
       "    </tr>\n",
       "    <tr>\n",
       "      <th>PERIMETER</th>\n",
       "      <td>0.956494</td>\n",
       "      <td>1.000000</td>\n",
       "      <td>0.960734</td>\n",
       "      <td>0.859990</td>\n",
       "      <td>-0.166816</td>\n",
       "      <td>0.959938</td>\n",
       "      <td>-0.133857</td>\n",
       "      <td>0.963489</td>\n",
       "      <td>-0.214632</td>\n",
       "      <td>0.018308</td>\n",
       "      <td>...</td>\n",
       "      <td>0.415364</td>\n",
       "      <td>0.313334</td>\n",
       "      <td>0.398168</td>\n",
       "      <td>0.364269</td>\n",
       "      <td>-0.266206</td>\n",
       "      <td>-0.294308</td>\n",
       "      <td>-0.416802</td>\n",
       "      <td>-0.451028</td>\n",
       "      <td>-0.468571</td>\n",
       "      <td>-0.448409</td>\n",
       "    </tr>\n",
       "    <tr>\n",
       "      <th>MAJOR_AXIS</th>\n",
       "      <td>0.878893</td>\n",
       "      <td>0.960734</td>\n",
       "      <td>1.000000</td>\n",
       "      <td>0.721133</td>\n",
       "      <td>0.063090</td>\n",
       "      <td>0.886277</td>\n",
       "      <td>-0.166982</td>\n",
       "      <td>0.886948</td>\n",
       "      <td>-0.279951</td>\n",
       "      <td>0.111631</td>\n",
       "      <td>...</td>\n",
       "      <td>0.412055</td>\n",
       "      <td>0.366579</td>\n",
       "      <td>0.460468</td>\n",
       "      <td>0.347940</td>\n",
       "      <td>-0.146311</td>\n",
       "      <td>-0.167972</td>\n",
       "      <td>-0.297395</td>\n",
       "      <td>-0.530231</td>\n",
       "      <td>-0.538497</td>\n",
       "      <td>-0.506782</td>\n",
       "    </tr>\n",
       "    <tr>\n",
       "      <th>MINOR_AXIS</th>\n",
       "      <td>0.954899</td>\n",
       "      <td>0.859990</td>\n",
       "      <td>0.721133</td>\n",
       "      <td>1.000000</td>\n",
       "      <td>-0.607120</td>\n",
       "      <td>0.948006</td>\n",
       "      <td>0.059613</td>\n",
       "      <td>0.951470</td>\n",
       "      <td>0.028003</td>\n",
       "      <td>-0.150407</td>\n",
       "      <td>...</td>\n",
       "      <td>0.396219</td>\n",
       "      <td>0.093267</td>\n",
       "      <td>0.189532</td>\n",
       "      <td>0.354742</td>\n",
       "      <td>-0.466776</td>\n",
       "      <td>-0.501442</td>\n",
       "      <td>-0.585234</td>\n",
       "      <td>-0.196256</td>\n",
       "      <td>-0.231847</td>\n",
       "      <td>-0.246312</td>\n",
       "    </tr>\n",
       "    <tr>\n",
       "      <th>ECCENTRICITY</th>\n",
       "      <td>-0.370303</td>\n",
       "      <td>-0.166816</td>\n",
       "      <td>0.063090</td>\n",
       "      <td>-0.607120</td>\n",
       "      <td>1.000000</td>\n",
       "      <td>-0.335085</td>\n",
       "      <td>-0.220434</td>\n",
       "      <td>-0.356565</td>\n",
       "      <td>-0.342775</td>\n",
       "      <td>0.110238</td>\n",
       "      <td>...</td>\n",
       "      <td>-0.177619</td>\n",
       "      <td>0.215284</td>\n",
       "      <td>0.194135</td>\n",
       "      <td>-0.179358</td>\n",
       "      <td>0.431537</td>\n",
       "      <td>0.463969</td>\n",
       "      <td>0.442189</td>\n",
       "      <td>-0.252331</td>\n",
       "      <td>-0.238875</td>\n",
       "      <td>-0.180563</td>\n",
       "    </tr>\n",
       "    <tr>\n",
       "      <th>EQDIASQ</th>\n",
       "      <td>0.993243</td>\n",
       "      <td>0.959938</td>\n",
       "      <td>0.886277</td>\n",
       "      <td>0.948006</td>\n",
       "      <td>-0.335085</td>\n",
       "      <td>1.000000</td>\n",
       "      <td>0.018777</td>\n",
       "      <td>0.993397</td>\n",
       "      <td>-0.112353</td>\n",
       "      <td>-0.157370</td>\n",
       "      <td>...</td>\n",
       "      <td>0.424774</td>\n",
       "      <td>0.225588</td>\n",
       "      <td>0.336750</td>\n",
       "      <td>0.369371</td>\n",
       "      <td>-0.346338</td>\n",
       "      <td>-0.376846</td>\n",
       "      <td>-0.490680</td>\n",
       "      <td>-0.372169</td>\n",
       "      <td>-0.408394</td>\n",
       "      <td>-0.400709</td>\n",
       "    </tr>\n",
       "    <tr>\n",
       "      <th>SOLIDITY</th>\n",
       "      <td>0.027371</td>\n",
       "      <td>-0.133857</td>\n",
       "      <td>-0.166982</td>\n",
       "      <td>0.059613</td>\n",
       "      <td>-0.220434</td>\n",
       "      <td>0.018777</td>\n",
       "      <td>1.000000</td>\n",
       "      <td>-0.016449</td>\n",
       "      <td>0.392552</td>\n",
       "      <td>-0.189234</td>\n",
       "      <td>...</td>\n",
       "      <td>0.033952</td>\n",
       "      <td>-0.128394</td>\n",
       "      <td>-0.062084</td>\n",
       "      <td>0.069564</td>\n",
       "      <td>-0.038697</td>\n",
       "      <td>-0.040841</td>\n",
       "      <td>-0.057491</td>\n",
       "      <td>0.076950</td>\n",
       "      <td>0.054499</td>\n",
       "      <td>0.052089</td>\n",
       "    </tr>\n",
       "    <tr>\n",
       "      <th>CONVEX_AREA</th>\n",
       "      <td>0.998886</td>\n",
       "      <td>0.963489</td>\n",
       "      <td>0.886948</td>\n",
       "      <td>0.951470</td>\n",
       "      <td>-0.356565</td>\n",
       "      <td>0.993397</td>\n",
       "      <td>-0.016449</td>\n",
       "      <td>1.000000</td>\n",
       "      <td>-0.107403</td>\n",
       "      <td>-0.095457</td>\n",
       "      <td>...</td>\n",
       "      <td>0.429640</td>\n",
       "      <td>0.225350</td>\n",
       "      <td>0.330451</td>\n",
       "      <td>0.375691</td>\n",
       "      <td>-0.356994</td>\n",
       "      <td>-0.390580</td>\n",
       "      <td>-0.503137</td>\n",
       "      <td>-0.358603</td>\n",
       "      <td>-0.385656</td>\n",
       "      <td>-0.380788</td>\n",
       "    </tr>\n",
       "    <tr>\n",
       "      <th>EXTENT</th>\n",
       "      <td>-0.086286</td>\n",
       "      <td>-0.214632</td>\n",
       "      <td>-0.279951</td>\n",
       "      <td>0.028003</td>\n",
       "      <td>-0.342775</td>\n",
       "      <td>-0.112353</td>\n",
       "      <td>0.392552</td>\n",
       "      <td>-0.107403</td>\n",
       "      <td>1.000000</td>\n",
       "      <td>0.067207</td>\n",
       "      <td>...</td>\n",
       "      <td>-0.077197</td>\n",
       "      <td>-0.330393</td>\n",
       "      <td>-0.322600</td>\n",
       "      <td>-0.046479</td>\n",
       "      <td>-0.217372</td>\n",
       "      <td>-0.207224</td>\n",
       "      <td>-0.179696</td>\n",
       "      <td>0.352850</td>\n",
       "      <td>0.337605</td>\n",
       "      <td>0.321010</td>\n",
       "    </tr>\n",
       "    <tr>\n",
       "      <th>ASPECT_RATIO</th>\n",
       "      <td>-0.095342</td>\n",
       "      <td>0.018308</td>\n",
       "      <td>0.111631</td>\n",
       "      <td>-0.150407</td>\n",
       "      <td>0.110238</td>\n",
       "      <td>-0.157370</td>\n",
       "      <td>-0.189234</td>\n",
       "      <td>-0.095457</td>\n",
       "      <td>0.067207</td>\n",
       "      <td>1.000000</td>\n",
       "      <td>...</td>\n",
       "      <td>0.050809</td>\n",
       "      <td>0.040208</td>\n",
       "      <td>-0.023360</td>\n",
       "      <td>0.058655</td>\n",
       "      <td>0.058019</td>\n",
       "      <td>0.061742</td>\n",
       "      <td>0.067152</td>\n",
       "      <td>-0.010716</td>\n",
       "      <td>0.076399</td>\n",
       "      <td>0.076425</td>\n",
       "    </tr>\n",
       "    <tr>\n",
       "      <th>ROUNDNESS</th>\n",
       "      <td>0.044346</td>\n",
       "      <td>-0.235744</td>\n",
       "      <td>-0.355258</td>\n",
       "      <td>0.243655</td>\n",
       "      <td>-0.659626</td>\n",
       "      <td>0.035564</td>\n",
       "      <td>0.611010</td>\n",
       "      <td>0.015083</td>\n",
       "      <td>0.470357</td>\n",
       "      <td>-0.410407</td>\n",
       "      <td>...</td>\n",
       "      <td>0.031867</td>\n",
       "      <td>-0.363206</td>\n",
       "      <td>-0.283379</td>\n",
       "      <td>0.019284</td>\n",
       "      <td>-0.272178</td>\n",
       "      <td>-0.278781</td>\n",
       "      <td>-0.234206</td>\n",
       "      <td>0.342438</td>\n",
       "      <td>0.294489</td>\n",
       "      <td>0.241072</td>\n",
       "    </tr>\n",
       "    <tr>\n",
       "      <th>COMPACTNESS</th>\n",
       "      <td>0.315197</td>\n",
       "      <td>0.078554</td>\n",
       "      <td>-0.164403</td>\n",
       "      <td>0.551966</td>\n",
       "      <td>-0.917470</td>\n",
       "      <td>0.301535</td>\n",
       "      <td>0.384826</td>\n",
       "      <td>0.297794</td>\n",
       "      <td>0.365187</td>\n",
       "      <td>-0.422474</td>\n",
       "      <td>...</td>\n",
       "      <td>0.088868</td>\n",
       "      <td>-0.274872</td>\n",
       "      <td>-0.235948</td>\n",
       "      <td>0.094863</td>\n",
       "      <td>-0.437065</td>\n",
       "      <td>-0.458266</td>\n",
       "      <td>-0.435170</td>\n",
       "      <td>0.295786</td>\n",
       "      <td>0.247006</td>\n",
       "      <td>0.195307</td>\n",
       "    </tr>\n",
       "    <tr>\n",
       "      <th>SHAPEFACTOR_1</th>\n",
       "      <td>-0.124025</td>\n",
       "      <td>-0.011718</td>\n",
       "      <td>0.081976</td>\n",
       "      <td>-0.176214</td>\n",
       "      <td>0.114084</td>\n",
       "      <td>-0.186715</td>\n",
       "      <td>-0.188307</td>\n",
       "      <td>-0.124221</td>\n",
       "      <td>0.072829</td>\n",
       "      <td>0.999515</td>\n",
       "      <td>...</td>\n",
       "      <td>0.037790</td>\n",
       "      <td>0.031106</td>\n",
       "      <td>-0.035550</td>\n",
       "      <td>0.047554</td>\n",
       "      <td>0.065462</td>\n",
       "      <td>0.069828</td>\n",
       "      <td>0.078976</td>\n",
       "      <td>0.003752</td>\n",
       "      <td>0.091702</td>\n",
       "      <td>0.091083</td>\n",
       "    </tr>\n",
       "    <tr>\n",
       "      <th>SHAPEFACTOR_2</th>\n",
       "      <td>-0.861870</td>\n",
       "      <td>-0.934379</td>\n",
       "      <td>-0.959569</td>\n",
       "      <td>-0.736051</td>\n",
       "      <td>-0.026945</td>\n",
       "      <td>-0.887398</td>\n",
       "      <td>0.047237</td>\n",
       "      <td>-0.865527</td>\n",
       "      <td>0.216175</td>\n",
       "      <td>-0.055882</td>\n",
       "      <td>...</td>\n",
       "      <td>-0.387306</td>\n",
       "      <td>-0.318905</td>\n",
       "      <td>-0.409886</td>\n",
       "      <td>-0.333756</td>\n",
       "      <td>0.183638</td>\n",
       "      <td>0.202332</td>\n",
       "      <td>0.321948</td>\n",
       "      <td>0.487202</td>\n",
       "      <td>0.507461</td>\n",
       "      <td>0.480724</td>\n",
       "    </tr>\n",
       "    <tr>\n",
       "      <th>SHAPEFACTOR_3</th>\n",
       "      <td>0.332349</td>\n",
       "      <td>0.103959</td>\n",
       "      <td>-0.136056</td>\n",
       "      <td>0.572201</td>\n",
       "      <td>-0.967224</td>\n",
       "      <td>0.304564</td>\n",
       "      <td>0.367759</td>\n",
       "      <td>0.313861</td>\n",
       "      <td>0.394855</td>\n",
       "      <td>-0.243065</td>\n",
       "      <td>...</td>\n",
       "      <td>0.122446</td>\n",
       "      <td>-0.270281</td>\n",
       "      <td>-0.240478</td>\n",
       "      <td>0.128764</td>\n",
       "      <td>-0.448088</td>\n",
       "      <td>-0.472133</td>\n",
       "      <td>-0.448471</td>\n",
       "      <td>0.296955</td>\n",
       "      <td>0.264663</td>\n",
       "      <td>0.209016</td>\n",
       "    </tr>\n",
       "    <tr>\n",
       "      <th>SHAPEFACTOR_4</th>\n",
       "      <td>0.039321</td>\n",
       "      <td>-0.036744</td>\n",
       "      <td>-0.048096</td>\n",
       "      <td>-0.004244</td>\n",
       "      <td>-0.020083</td>\n",
       "      <td>0.037291</td>\n",
       "      <td>0.874596</td>\n",
       "      <td>0.005152</td>\n",
       "      <td>0.229890</td>\n",
       "      <td>-0.134463</td>\n",
       "      <td>...</td>\n",
       "      <td>0.088658</td>\n",
       "      <td>0.056523</td>\n",
       "      <td>0.100824</td>\n",
       "      <td>0.091908</td>\n",
       "      <td>0.133102</td>\n",
       "      <td>0.132904</td>\n",
       "      <td>0.092439</td>\n",
       "      <td>-0.140085</td>\n",
       "      <td>-0.153357</td>\n",
       "      <td>-0.141754</td>\n",
       "    </tr>\n",
       "    <tr>\n",
       "      <th>MeanRR</th>\n",
       "      <td>-0.353447</td>\n",
       "      <td>-0.451033</td>\n",
       "      <td>-0.530236</td>\n",
       "      <td>-0.196257</td>\n",
       "      <td>-0.252334</td>\n",
       "      <td>-0.372170</td>\n",
       "      <td>0.076949</td>\n",
       "      <td>-0.358605</td>\n",
       "      <td>0.352862</td>\n",
       "      <td>-0.010730</td>\n",
       "      <td>...</td>\n",
       "      <td>-0.642350</td>\n",
       "      <td>-0.667046</td>\n",
       "      <td>-0.822967</td>\n",
       "      <td>-0.467168</td>\n",
       "      <td>-0.706127</td>\n",
       "      <td>-0.674269</td>\n",
       "      <td>-0.544138</td>\n",
       "      <td>1.000000</td>\n",
       "      <td>0.973357</td>\n",
       "      <td>0.941838</td>\n",
       "    </tr>\n",
       "    <tr>\n",
       "      <th>MeanRG</th>\n",
       "      <td>-0.380730</td>\n",
       "      <td>-0.468553</td>\n",
       "      <td>-0.538479</td>\n",
       "      <td>-0.231831</td>\n",
       "      <td>-0.238878</td>\n",
       "      <td>-0.408378</td>\n",
       "      <td>0.054494</td>\n",
       "      <td>-0.385639</td>\n",
       "      <td>0.337611</td>\n",
       "      <td>0.076408</td>\n",
       "      <td>...</td>\n",
       "      <td>-0.633860</td>\n",
       "      <td>-0.588062</td>\n",
       "      <td>-0.762069</td>\n",
       "      <td>-0.430798</td>\n",
       "      <td>-0.653542</td>\n",
       "      <td>-0.658278</td>\n",
       "      <td>-0.514420</td>\n",
       "      <td>0.973355</td>\n",
       "      <td>1.000000</td>\n",
       "      <td>0.954572</td>\n",
       "    </tr>\n",
       "    <tr>\n",
       "      <th>MeanRB</th>\n",
       "      <td>-0.376241</td>\n",
       "      <td>-0.448371</td>\n",
       "      <td>-0.506743</td>\n",
       "      <td>-0.246280</td>\n",
       "      <td>-0.180566</td>\n",
       "      <td>-0.400673</td>\n",
       "      <td>0.052076</td>\n",
       "      <td>-0.380753</td>\n",
       "      <td>0.321018</td>\n",
       "      <td>0.076433</td>\n",
       "      <td>...</td>\n",
       "      <td>-0.721929</td>\n",
       "      <td>-0.595454</td>\n",
       "      <td>-0.769408</td>\n",
       "      <td>-0.514023</td>\n",
       "      <td>-0.644234</td>\n",
       "      <td>-0.639031</td>\n",
       "      <td>-0.573754</td>\n",
       "      <td>0.941831</td>\n",
       "      <td>0.954568</td>\n",
       "      <td>1.000000</td>\n",
       "    </tr>\n",
       "    <tr>\n",
       "      <th>StdDevRR</th>\n",
       "      <td>-0.320764</td>\n",
       "      <td>-0.386137</td>\n",
       "      <td>-0.442289</td>\n",
       "      <td>-0.196623</td>\n",
       "      <td>-0.142801</td>\n",
       "      <td>-0.320398</td>\n",
       "      <td>-0.043782</td>\n",
       "      <td>-0.319185</td>\n",
       "      <td>0.208429</td>\n",
       "      <td>-0.118257</td>\n",
       "      <td>...</td>\n",
       "      <td>-0.469298</td>\n",
       "      <td>-0.568590</td>\n",
       "      <td>-0.783163</td>\n",
       "      <td>-0.471127</td>\n",
       "      <td>-0.484317</td>\n",
       "      <td>-0.437859</td>\n",
       "      <td>-0.332210</td>\n",
       "      <td>0.732999</td>\n",
       "      <td>0.678030</td>\n",
       "      <td>0.652152</td>\n",
       "    </tr>\n",
       "    <tr>\n",
       "      <th>StdDevRG</th>\n",
       "      <td>-0.172480</td>\n",
       "      <td>-0.201908</td>\n",
       "      <td>-0.248626</td>\n",
       "      <td>-0.077724</td>\n",
       "      <td>-0.097034</td>\n",
       "      <td>-0.159641</td>\n",
       "      <td>-0.123630</td>\n",
       "      <td>-0.166744</td>\n",
       "      <td>0.114351</td>\n",
       "      <td>-0.110735</td>\n",
       "      <td>...</td>\n",
       "      <td>-0.364075</td>\n",
       "      <td>-0.462045</td>\n",
       "      <td>-0.636689</td>\n",
       "      <td>-0.431242</td>\n",
       "      <td>-0.414341</td>\n",
       "      <td>-0.373620</td>\n",
       "      <td>-0.304348</td>\n",
       "      <td>0.524320</td>\n",
       "      <td>0.462155</td>\n",
       "      <td>0.453604</td>\n",
       "    </tr>\n",
       "    <tr>\n",
       "      <th>StdDevRB</th>\n",
       "      <td>-0.048223</td>\n",
       "      <td>-0.176466</td>\n",
       "      <td>-0.284034</td>\n",
       "      <td>0.095411</td>\n",
       "      <td>-0.393799</td>\n",
       "      <td>-0.065181</td>\n",
       "      <td>0.092009</td>\n",
       "      <td>-0.054333</td>\n",
       "      <td>0.290517</td>\n",
       "      <td>-0.148727</td>\n",
       "      <td>...</td>\n",
       "      <td>-0.255375</td>\n",
       "      <td>-0.530816</td>\n",
       "      <td>-0.623097</td>\n",
       "      <td>-0.322998</td>\n",
       "      <td>-0.505710</td>\n",
       "      <td>-0.482771</td>\n",
       "      <td>-0.446135</td>\n",
       "      <td>0.593628</td>\n",
       "      <td>0.538885</td>\n",
       "      <td>0.526035</td>\n",
       "    </tr>\n",
       "    <tr>\n",
       "      <th>SkewRR</th>\n",
       "      <td>0.376400</td>\n",
       "      <td>0.488147</td>\n",
       "      <td>0.551523</td>\n",
       "      <td>0.229831</td>\n",
       "      <td>0.223854</td>\n",
       "      <td>0.393308</td>\n",
       "      <td>-0.185437</td>\n",
       "      <td>0.386409</td>\n",
       "      <td>-0.386663</td>\n",
       "      <td>0.041858</td>\n",
       "      <td>...</td>\n",
       "      <td>0.650360</td>\n",
       "      <td>0.821821</td>\n",
       "      <td>0.740101</td>\n",
       "      <td>0.484627</td>\n",
       "      <td>0.540111</td>\n",
       "      <td>0.505571</td>\n",
       "      <td>0.393698</td>\n",
       "      <td>-0.867216</td>\n",
       "      <td>-0.831862</td>\n",
       "      <td>-0.802732</td>\n",
       "    </tr>\n",
       "    <tr>\n",
       "      <th>SkewRG</th>\n",
       "      <td>0.401733</td>\n",
       "      <td>0.484734</td>\n",
       "      <td>0.550014</td>\n",
       "      <td>0.259649</td>\n",
       "      <td>0.184643</td>\n",
       "      <td>0.418627</td>\n",
       "      <td>-0.095361</td>\n",
       "      <td>0.407362</td>\n",
       "      <td>-0.340028</td>\n",
       "      <td>-0.008858</td>\n",
       "      <td>...</td>\n",
       "      <td>0.753464</td>\n",
       "      <td>0.735084</td>\n",
       "      <td>0.890378</td>\n",
       "      <td>0.583004</td>\n",
       "      <td>0.612033</td>\n",
       "      <td>0.582712</td>\n",
       "      <td>0.464220</td>\n",
       "      <td>-0.933308</td>\n",
       "      <td>-0.912085</td>\n",
       "      <td>-0.891634</td>\n",
       "    </tr>\n",
       "    <tr>\n",
       "      <th>SkewRB</th>\n",
       "      <td>0.433323</td>\n",
       "      <td>0.415364</td>\n",
       "      <td>0.412055</td>\n",
       "      <td>0.396219</td>\n",
       "      <td>-0.177619</td>\n",
       "      <td>0.424774</td>\n",
       "      <td>0.033952</td>\n",
       "      <td>0.429640</td>\n",
       "      <td>-0.077197</td>\n",
       "      <td>0.050809</td>\n",
       "      <td>...</td>\n",
       "      <td>1.000000</td>\n",
       "      <td>0.526151</td>\n",
       "      <td>0.638559</td>\n",
       "      <td>0.801141</td>\n",
       "      <td>0.359532</td>\n",
       "      <td>0.337443</td>\n",
       "      <td>0.317338</td>\n",
       "      <td>-0.642347</td>\n",
       "      <td>-0.633859</td>\n",
       "      <td>-0.721925</td>\n",
       "    </tr>\n",
       "    <tr>\n",
       "      <th>KurtosisRR</th>\n",
       "      <td>0.218253</td>\n",
       "      <td>0.313334</td>\n",
       "      <td>0.366579</td>\n",
       "      <td>0.093267</td>\n",
       "      <td>0.215284</td>\n",
       "      <td>0.225588</td>\n",
       "      <td>-0.128394</td>\n",
       "      <td>0.225350</td>\n",
       "      <td>-0.330393</td>\n",
       "      <td>0.040208</td>\n",
       "      <td>...</td>\n",
       "      <td>0.526151</td>\n",
       "      <td>1.000000</td>\n",
       "      <td>0.791051</td>\n",
       "      <td>0.595030</td>\n",
       "      <td>0.473657</td>\n",
       "      <td>0.415812</td>\n",
       "      <td>0.361340</td>\n",
       "      <td>-0.667044</td>\n",
       "      <td>-0.588063</td>\n",
       "      <td>-0.595458</td>\n",
       "    </tr>\n",
       "    <tr>\n",
       "      <th>KurtosisRG</th>\n",
       "      <td>0.326335</td>\n",
       "      <td>0.398168</td>\n",
       "      <td>0.460468</td>\n",
       "      <td>0.189532</td>\n",
       "      <td>0.194135</td>\n",
       "      <td>0.336750</td>\n",
       "      <td>-0.062084</td>\n",
       "      <td>0.330451</td>\n",
       "      <td>-0.322600</td>\n",
       "      <td>-0.023360</td>\n",
       "      <td>...</td>\n",
       "      <td>0.638559</td>\n",
       "      <td>0.791051</td>\n",
       "      <td>1.000000</td>\n",
       "      <td>0.666257</td>\n",
       "      <td>0.564689</td>\n",
       "      <td>0.508634</td>\n",
       "      <td>0.428476</td>\n",
       "      <td>-0.822967</td>\n",
       "      <td>-0.762069</td>\n",
       "      <td>-0.769413</td>\n",
       "    </tr>\n",
       "    <tr>\n",
       "      <th>KurtosisRB</th>\n",
       "      <td>0.381096</td>\n",
       "      <td>0.364269</td>\n",
       "      <td>0.347940</td>\n",
       "      <td>0.354742</td>\n",
       "      <td>-0.179358</td>\n",
       "      <td>0.369371</td>\n",
       "      <td>0.069564</td>\n",
       "      <td>0.375691</td>\n",
       "      <td>-0.046479</td>\n",
       "      <td>0.058655</td>\n",
       "      <td>...</td>\n",
       "      <td>0.801141</td>\n",
       "      <td>0.595030</td>\n",
       "      <td>0.666257</td>\n",
       "      <td>1.000000</td>\n",
       "      <td>0.223243</td>\n",
       "      <td>0.181859</td>\n",
       "      <td>0.175200</td>\n",
       "      <td>-0.467168</td>\n",
       "      <td>-0.430799</td>\n",
       "      <td>-0.514026</td>\n",
       "    </tr>\n",
       "    <tr>\n",
       "      <th>EntropyRR</th>\n",
       "      <td>-0.359332</td>\n",
       "      <td>-0.266206</td>\n",
       "      <td>-0.146311</td>\n",
       "      <td>-0.466776</td>\n",
       "      <td>0.431537</td>\n",
       "      <td>-0.346338</td>\n",
       "      <td>-0.038697</td>\n",
       "      <td>-0.356994</td>\n",
       "      <td>-0.217372</td>\n",
       "      <td>0.058019</td>\n",
       "      <td>...</td>\n",
       "      <td>0.359532</td>\n",
       "      <td>0.473657</td>\n",
       "      <td>0.564689</td>\n",
       "      <td>0.223243</td>\n",
       "      <td>1.000000</td>\n",
       "      <td>0.981412</td>\n",
       "      <td>0.937108</td>\n",
       "      <td>-0.706130</td>\n",
       "      <td>-0.653531</td>\n",
       "      <td>-0.644212</td>\n",
       "    </tr>\n",
       "    <tr>\n",
       "      <th>EntropyRG</th>\n",
       "      <td>-0.393124</td>\n",
       "      <td>-0.294308</td>\n",
       "      <td>-0.167972</td>\n",
       "      <td>-0.501442</td>\n",
       "      <td>0.463969</td>\n",
       "      <td>-0.376846</td>\n",
       "      <td>-0.040841</td>\n",
       "      <td>-0.390580</td>\n",
       "      <td>-0.207224</td>\n",
       "      <td>0.061742</td>\n",
       "      <td>...</td>\n",
       "      <td>0.337443</td>\n",
       "      <td>0.415812</td>\n",
       "      <td>0.508634</td>\n",
       "      <td>0.181859</td>\n",
       "      <td>0.981412</td>\n",
       "      <td>1.000000</td>\n",
       "      <td>0.950605</td>\n",
       "      <td>-0.674270</td>\n",
       "      <td>-0.658265</td>\n",
       "      <td>-0.639006</td>\n",
       "    </tr>\n",
       "    <tr>\n",
       "      <th>EntropyRB</th>\n",
       "      <td>-0.506256</td>\n",
       "      <td>-0.416802</td>\n",
       "      <td>-0.297395</td>\n",
       "      <td>-0.585234</td>\n",
       "      <td>0.442189</td>\n",
       "      <td>-0.490680</td>\n",
       "      <td>-0.057491</td>\n",
       "      <td>-0.503137</td>\n",
       "      <td>-0.179696</td>\n",
       "      <td>0.067152</td>\n",
       "      <td>...</td>\n",
       "      <td>0.317338</td>\n",
       "      <td>0.361340</td>\n",
       "      <td>0.428476</td>\n",
       "      <td>0.175200</td>\n",
       "      <td>0.937108</td>\n",
       "      <td>0.950605</td>\n",
       "      <td>1.000000</td>\n",
       "      <td>-0.544139</td>\n",
       "      <td>-0.514406</td>\n",
       "      <td>-0.573723</td>\n",
       "    </tr>\n",
       "    <tr>\n",
       "      <th>ALLdaub4RR</th>\n",
       "      <td>-0.353446</td>\n",
       "      <td>-0.451028</td>\n",
       "      <td>-0.530231</td>\n",
       "      <td>-0.196256</td>\n",
       "      <td>-0.252331</td>\n",
       "      <td>-0.372169</td>\n",
       "      <td>0.076950</td>\n",
       "      <td>-0.358603</td>\n",
       "      <td>0.352850</td>\n",
       "      <td>-0.010716</td>\n",
       "      <td>...</td>\n",
       "      <td>-0.642347</td>\n",
       "      <td>-0.667044</td>\n",
       "      <td>-0.822967</td>\n",
       "      <td>-0.467168</td>\n",
       "      <td>-0.706130</td>\n",
       "      <td>-0.674270</td>\n",
       "      <td>-0.544139</td>\n",
       "      <td>1.000000</td>\n",
       "      <td>0.973357</td>\n",
       "      <td>0.941838</td>\n",
       "    </tr>\n",
       "    <tr>\n",
       "      <th>ALLdaub4RG</th>\n",
       "      <td>-0.380747</td>\n",
       "      <td>-0.468571</td>\n",
       "      <td>-0.538497</td>\n",
       "      <td>-0.231847</td>\n",
       "      <td>-0.238875</td>\n",
       "      <td>-0.408394</td>\n",
       "      <td>0.054499</td>\n",
       "      <td>-0.385656</td>\n",
       "      <td>0.337605</td>\n",
       "      <td>0.076399</td>\n",
       "      <td>...</td>\n",
       "      <td>-0.633859</td>\n",
       "      <td>-0.588063</td>\n",
       "      <td>-0.762069</td>\n",
       "      <td>-0.430799</td>\n",
       "      <td>-0.653531</td>\n",
       "      <td>-0.658265</td>\n",
       "      <td>-0.514406</td>\n",
       "      <td>0.973357</td>\n",
       "      <td>1.000000</td>\n",
       "      <td>0.954572</td>\n",
       "    </tr>\n",
       "    <tr>\n",
       "      <th>ALLdaub4RB</th>\n",
       "      <td>-0.376277</td>\n",
       "      <td>-0.448409</td>\n",
       "      <td>-0.506782</td>\n",
       "      <td>-0.246312</td>\n",
       "      <td>-0.180563</td>\n",
       "      <td>-0.400709</td>\n",
       "      <td>0.052089</td>\n",
       "      <td>-0.380788</td>\n",
       "      <td>0.321010</td>\n",
       "      <td>0.076425</td>\n",
       "      <td>...</td>\n",
       "      <td>-0.721925</td>\n",
       "      <td>-0.595458</td>\n",
       "      <td>-0.769413</td>\n",
       "      <td>-0.514026</td>\n",
       "      <td>-0.644212</td>\n",
       "      <td>-0.639006</td>\n",
       "      <td>-0.573723</td>\n",
       "      <td>0.941838</td>\n",
       "      <td>0.954572</td>\n",
       "      <td>1.000000</td>\n",
       "    </tr>\n",
       "  </tbody>\n",
       "</table>\n",
       "<p>34 rows × 34 columns</p>\n",
       "</div>"
      ],
      "text/plain": [
       "                   AREA  PERIMETER  MAJOR_AXIS  MINOR_AXIS  ECCENTRICITY  \\\n",
       "AREA           1.000000   0.956494    0.878893    0.954899     -0.370303   \n",
       "PERIMETER      0.956494   1.000000    0.960734    0.859990     -0.166816   \n",
       "MAJOR_AXIS     0.878893   0.960734    1.000000    0.721133      0.063090   \n",
       "MINOR_AXIS     0.954899   0.859990    0.721133    1.000000     -0.607120   \n",
       "ECCENTRICITY  -0.370303  -0.166816    0.063090   -0.607120      1.000000   \n",
       "EQDIASQ        0.993243   0.959938    0.886277    0.948006     -0.335085   \n",
       "SOLIDITY       0.027371  -0.133857   -0.166982    0.059613     -0.220434   \n",
       "CONVEX_AREA    0.998886   0.963489    0.886948    0.951470     -0.356565   \n",
       "EXTENT        -0.086286  -0.214632   -0.279951    0.028003     -0.342775   \n",
       "ASPECT_RATIO  -0.095342   0.018308    0.111631   -0.150407      0.110238   \n",
       "ROUNDNESS      0.044346  -0.235744   -0.355258    0.243655     -0.659626   \n",
       "COMPACTNESS    0.315197   0.078554   -0.164403    0.551966     -0.917470   \n",
       "SHAPEFACTOR_1 -0.124025  -0.011718    0.081976   -0.176214      0.114084   \n",
       "SHAPEFACTOR_2 -0.861870  -0.934379   -0.959569   -0.736051     -0.026945   \n",
       "SHAPEFACTOR_3  0.332349   0.103959   -0.136056    0.572201     -0.967224   \n",
       "SHAPEFACTOR_4  0.039321  -0.036744   -0.048096   -0.004244     -0.020083   \n",
       "MeanRR        -0.353447  -0.451033   -0.530236   -0.196257     -0.252334   \n",
       "MeanRG        -0.380730  -0.468553   -0.538479   -0.231831     -0.238878   \n",
       "MeanRB        -0.376241  -0.448371   -0.506743   -0.246280     -0.180566   \n",
       "StdDevRR      -0.320764  -0.386137   -0.442289   -0.196623     -0.142801   \n",
       "StdDevRG      -0.172480  -0.201908   -0.248626   -0.077724     -0.097034   \n",
       "StdDevRB      -0.048223  -0.176466   -0.284034    0.095411     -0.393799   \n",
       "SkewRR         0.376400   0.488147    0.551523    0.229831      0.223854   \n",
       "SkewRG         0.401733   0.484734    0.550014    0.259649      0.184643   \n",
       "SkewRB         0.433323   0.415364    0.412055    0.396219     -0.177619   \n",
       "KurtosisRR     0.218253   0.313334    0.366579    0.093267      0.215284   \n",
       "KurtosisRG     0.326335   0.398168    0.460468    0.189532      0.194135   \n",
       "KurtosisRB     0.381096   0.364269    0.347940    0.354742     -0.179358   \n",
       "EntropyRR     -0.359332  -0.266206   -0.146311   -0.466776      0.431537   \n",
       "EntropyRG     -0.393124  -0.294308   -0.167972   -0.501442      0.463969   \n",
       "EntropyRB     -0.506256  -0.416802   -0.297395   -0.585234      0.442189   \n",
       "ALLdaub4RR    -0.353446  -0.451028   -0.530231   -0.196256     -0.252331   \n",
       "ALLdaub4RG    -0.380747  -0.468571   -0.538497   -0.231847     -0.238875   \n",
       "ALLdaub4RB    -0.376277  -0.448409   -0.506782   -0.246312     -0.180563   \n",
       "\n",
       "                EQDIASQ  SOLIDITY  CONVEX_AREA    EXTENT  ASPECT_RATIO  ...  \\\n",
       "AREA           0.993243  0.027371     0.998886 -0.086286     -0.095342  ...   \n",
       "PERIMETER      0.959938 -0.133857     0.963489 -0.214632      0.018308  ...   \n",
       "MAJOR_AXIS     0.886277 -0.166982     0.886948 -0.279951      0.111631  ...   \n",
       "MINOR_AXIS     0.948006  0.059613     0.951470  0.028003     -0.150407  ...   \n",
       "ECCENTRICITY  -0.335085 -0.220434    -0.356565 -0.342775      0.110238  ...   \n",
       "EQDIASQ        1.000000  0.018777     0.993397 -0.112353     -0.157370  ...   \n",
       "SOLIDITY       0.018777  1.000000    -0.016449  0.392552     -0.189234  ...   \n",
       "CONVEX_AREA    0.993397 -0.016449     1.000000 -0.107403     -0.095457  ...   \n",
       "EXTENT        -0.112353  0.392552    -0.107403  1.000000      0.067207  ...   \n",
       "ASPECT_RATIO  -0.157370 -0.189234    -0.095457  0.067207      1.000000  ...   \n",
       "ROUNDNESS      0.035564  0.611010     0.015083  0.470357     -0.410407  ...   \n",
       "COMPACTNESS    0.301535  0.384826     0.297794  0.365187     -0.422474  ...   \n",
       "SHAPEFACTOR_1 -0.186715 -0.188307    -0.124221  0.072829      0.999515  ...   \n",
       "SHAPEFACTOR_2 -0.887398  0.047237    -0.865527  0.216175     -0.055882  ...   \n",
       "SHAPEFACTOR_3  0.304564  0.367759     0.313861  0.394855     -0.243065  ...   \n",
       "SHAPEFACTOR_4  0.037291  0.874596     0.005152  0.229890     -0.134463  ...   \n",
       "MeanRR        -0.372170  0.076949    -0.358605  0.352862     -0.010730  ...   \n",
       "MeanRG        -0.408378  0.054494    -0.385639  0.337611      0.076408  ...   \n",
       "MeanRB        -0.400673  0.052076    -0.380753  0.321018      0.076433  ...   \n",
       "StdDevRR      -0.320398 -0.043782    -0.319185  0.208429     -0.118257  ...   \n",
       "StdDevRG      -0.159641 -0.123630    -0.166744  0.114351     -0.110735  ...   \n",
       "StdDevRB      -0.065181  0.092009    -0.054333  0.290517     -0.148727  ...   \n",
       "SkewRR         0.393308 -0.185437     0.386409 -0.386663      0.041858  ...   \n",
       "SkewRG         0.418627 -0.095361     0.407362 -0.340028     -0.008858  ...   \n",
       "SkewRB         0.424774  0.033952     0.429640 -0.077197      0.050809  ...   \n",
       "KurtosisRR     0.225588 -0.128394     0.225350 -0.330393      0.040208  ...   \n",
       "KurtosisRG     0.336750 -0.062084     0.330451 -0.322600     -0.023360  ...   \n",
       "KurtosisRB     0.369371  0.069564     0.375691 -0.046479      0.058655  ...   \n",
       "EntropyRR     -0.346338 -0.038697    -0.356994 -0.217372      0.058019  ...   \n",
       "EntropyRG     -0.376846 -0.040841    -0.390580 -0.207224      0.061742  ...   \n",
       "EntropyRB     -0.490680 -0.057491    -0.503137 -0.179696      0.067152  ...   \n",
       "ALLdaub4RR    -0.372169  0.076950    -0.358603  0.352850     -0.010716  ...   \n",
       "ALLdaub4RG    -0.408394  0.054499    -0.385656  0.337605      0.076399  ...   \n",
       "ALLdaub4RB    -0.400709  0.052089    -0.380788  0.321010      0.076425  ...   \n",
       "\n",
       "                 SkewRB  KurtosisRR  KurtosisRG  KurtosisRB  EntropyRR  \\\n",
       "AREA           0.433323    0.218253    0.326335    0.381096  -0.359332   \n",
       "PERIMETER      0.415364    0.313334    0.398168    0.364269  -0.266206   \n",
       "MAJOR_AXIS     0.412055    0.366579    0.460468    0.347940  -0.146311   \n",
       "MINOR_AXIS     0.396219    0.093267    0.189532    0.354742  -0.466776   \n",
       "ECCENTRICITY  -0.177619    0.215284    0.194135   -0.179358   0.431537   \n",
       "EQDIASQ        0.424774    0.225588    0.336750    0.369371  -0.346338   \n",
       "SOLIDITY       0.033952   -0.128394   -0.062084    0.069564  -0.038697   \n",
       "CONVEX_AREA    0.429640    0.225350    0.330451    0.375691  -0.356994   \n",
       "EXTENT        -0.077197   -0.330393   -0.322600   -0.046479  -0.217372   \n",
       "ASPECT_RATIO   0.050809    0.040208   -0.023360    0.058655   0.058019   \n",
       "ROUNDNESS      0.031867   -0.363206   -0.283379    0.019284  -0.272178   \n",
       "COMPACTNESS    0.088868   -0.274872   -0.235948    0.094863  -0.437065   \n",
       "SHAPEFACTOR_1  0.037790    0.031106   -0.035550    0.047554   0.065462   \n",
       "SHAPEFACTOR_2 -0.387306   -0.318905   -0.409886   -0.333756   0.183638   \n",
       "SHAPEFACTOR_3  0.122446   -0.270281   -0.240478    0.128764  -0.448088   \n",
       "SHAPEFACTOR_4  0.088658    0.056523    0.100824    0.091908   0.133102   \n",
       "MeanRR        -0.642350   -0.667046   -0.822967   -0.467168  -0.706127   \n",
       "MeanRG        -0.633860   -0.588062   -0.762069   -0.430798  -0.653542   \n",
       "MeanRB        -0.721929   -0.595454   -0.769408   -0.514023  -0.644234   \n",
       "StdDevRR      -0.469298   -0.568590   -0.783163   -0.471127  -0.484317   \n",
       "StdDevRG      -0.364075   -0.462045   -0.636689   -0.431242  -0.414341   \n",
       "StdDevRB      -0.255375   -0.530816   -0.623097   -0.322998  -0.505710   \n",
       "SkewRR         0.650360    0.821821    0.740101    0.484627   0.540111   \n",
       "SkewRG         0.753464    0.735084    0.890378    0.583004   0.612033   \n",
       "SkewRB         1.000000    0.526151    0.638559    0.801141   0.359532   \n",
       "KurtosisRR     0.526151    1.000000    0.791051    0.595030   0.473657   \n",
       "KurtosisRG     0.638559    0.791051    1.000000    0.666257   0.564689   \n",
       "KurtosisRB     0.801141    0.595030    0.666257    1.000000   0.223243   \n",
       "EntropyRR      0.359532    0.473657    0.564689    0.223243   1.000000   \n",
       "EntropyRG      0.337443    0.415812    0.508634    0.181859   0.981412   \n",
       "EntropyRB      0.317338    0.361340    0.428476    0.175200   0.937108   \n",
       "ALLdaub4RR    -0.642347   -0.667044   -0.822967   -0.467168  -0.706130   \n",
       "ALLdaub4RG    -0.633859   -0.588063   -0.762069   -0.430799  -0.653531   \n",
       "ALLdaub4RB    -0.721925   -0.595458   -0.769413   -0.514026  -0.644212   \n",
       "\n",
       "               EntropyRG  EntropyRB  ALLdaub4RR  ALLdaub4RG  ALLdaub4RB  \n",
       "AREA           -0.393124  -0.506256   -0.353446   -0.380747   -0.376277  \n",
       "PERIMETER      -0.294308  -0.416802   -0.451028   -0.468571   -0.448409  \n",
       "MAJOR_AXIS     -0.167972  -0.297395   -0.530231   -0.538497   -0.506782  \n",
       "MINOR_AXIS     -0.501442  -0.585234   -0.196256   -0.231847   -0.246312  \n",
       "ECCENTRICITY    0.463969   0.442189   -0.252331   -0.238875   -0.180563  \n",
       "EQDIASQ        -0.376846  -0.490680   -0.372169   -0.408394   -0.400709  \n",
       "SOLIDITY       -0.040841  -0.057491    0.076950    0.054499    0.052089  \n",
       "CONVEX_AREA    -0.390580  -0.503137   -0.358603   -0.385656   -0.380788  \n",
       "EXTENT         -0.207224  -0.179696    0.352850    0.337605    0.321010  \n",
       "ASPECT_RATIO    0.061742   0.067152   -0.010716    0.076399    0.076425  \n",
       "ROUNDNESS      -0.278781  -0.234206    0.342438    0.294489    0.241072  \n",
       "COMPACTNESS    -0.458266  -0.435170    0.295786    0.247006    0.195307  \n",
       "SHAPEFACTOR_1   0.069828   0.078976    0.003752    0.091702    0.091083  \n",
       "SHAPEFACTOR_2   0.202332   0.321948    0.487202    0.507461    0.480724  \n",
       "SHAPEFACTOR_3  -0.472133  -0.448471    0.296955    0.264663    0.209016  \n",
       "SHAPEFACTOR_4   0.132904   0.092439   -0.140085   -0.153357   -0.141754  \n",
       "MeanRR         -0.674269  -0.544138    1.000000    0.973357    0.941838  \n",
       "MeanRG         -0.658278  -0.514420    0.973355    1.000000    0.954572  \n",
       "MeanRB         -0.639031  -0.573754    0.941831    0.954568    1.000000  \n",
       "StdDevRR       -0.437859  -0.332210    0.732999    0.678030    0.652152  \n",
       "StdDevRG       -0.373620  -0.304348    0.524320    0.462155    0.453604  \n",
       "StdDevRB       -0.482771  -0.446135    0.593628    0.538885    0.526035  \n",
       "SkewRR          0.505571   0.393698   -0.867216   -0.831862   -0.802732  \n",
       "SkewRG          0.582712   0.464220   -0.933308   -0.912085   -0.891634  \n",
       "SkewRB          0.337443   0.317338   -0.642347   -0.633859   -0.721925  \n",
       "KurtosisRR      0.415812   0.361340   -0.667044   -0.588063   -0.595458  \n",
       "KurtosisRG      0.508634   0.428476   -0.822967   -0.762069   -0.769413  \n",
       "KurtosisRB      0.181859   0.175200   -0.467168   -0.430799   -0.514026  \n",
       "EntropyRR       0.981412   0.937108   -0.706130   -0.653531   -0.644212  \n",
       "EntropyRG       1.000000   0.950605   -0.674270   -0.658265   -0.639006  \n",
       "EntropyRB       0.950605   1.000000   -0.544139   -0.514406   -0.573723  \n",
       "ALLdaub4RR     -0.674270  -0.544139    1.000000    0.973357    0.941838  \n",
       "ALLdaub4RG     -0.658265  -0.514406    0.973357    1.000000    0.954572  \n",
       "ALLdaub4RB     -0.639006  -0.573723    0.941838    0.954572    1.000000  \n",
       "\n",
       "[34 rows x 34 columns]"
      ]
     },
     "execution_count": 85,
     "metadata": {},
     "output_type": "execute_result"
    }
   ],
   "source": [
    "date_fruit.corr()"
   ]
  },
  {
   "cell_type": "markdown",
   "id": "72cf5716",
   "metadata": {
    "slideshow": {
     "slide_type": "slide"
    }
   },
   "source": [
    "## Encoding the classes with values from 0 to 6"
   ]
  },
  {
   "cell_type": "code",
   "execution_count": 190,
   "id": "e3d82d8b",
   "metadata": {
    "slideshow": {
     "slide_type": "fragment"
    }
   },
   "outputs": [
    {
     "data": {
      "text/plain": [
       "(array(['BERHI', 'DEGLET', 'DOKOL', 'IRAQI', 'ROTANA', 'SAFAVI', 'SOGAY'],\n",
       "       dtype=object),\n",
       " array([0, 1, 2, 3, 4, 5, 6]))"
      ]
     },
     "execution_count": 190,
     "metadata": {},
     "output_type": "execute_result"
    }
   ],
   "source": [
    "label_encoder=LabelEncoder()\n",
    "label_encoder.fit(date_fruit_target)\n",
    "date_fruit_target_label=label_encoder.transform(date_fruit_target)\n",
    "classes=label_encoder.classes_\n",
    "classes, np.array(range(len(classes)))\n"
   ]
  },
  {
   "cell_type": "markdown",
   "id": "be7afe58",
   "metadata": {
    "slideshow": {
     "slide_type": "slide"
    }
   },
   "source": [
    "## Splitting the datasets"
   ]
  },
  {
   "cell_type": "code",
   "execution_count": 280,
   "id": "aa8d9dbe",
   "metadata": {
    "slideshow": {
     "slide_type": "fragment"
    }
   },
   "outputs": [],
   "source": [
    "X_train, X_test, y_train, y_test = train_test_split(date_fruit_data, date_fruit_target,\n",
    "                                                    test_size=0.25, random_state=25)"
   ]
  },
  {
   "cell_type": "code",
   "execution_count": 258,
   "id": "1e15e5c5",
   "metadata": {
    "slideshow": {
     "slide_type": "skip"
    }
   },
   "outputs": [
    {
     "data": {
      "text/plain": [
       "{'AREA': 0,\n",
       " 'PERIMETER': 1,\n",
       " 'MAJOR_AXIS': 2,\n",
       " 'MINOR_AXIS': 3,\n",
       " 'ECCENTRICITY': 4,\n",
       " 'EQDIASQ': 5,\n",
       " 'SOLIDITY': 6,\n",
       " 'CONVEX_AREA': 7,\n",
       " 'EXTENT': 8,\n",
       " 'ASPECT_RATIO': 9,\n",
       " 'ROUNDNESS': 10,\n",
       " 'COMPACTNESS': 11,\n",
       " 'SHAPEFACTOR_1': 12,\n",
       " 'SHAPEFACTOR_2': 13,\n",
       " 'SHAPEFACTOR_3': 14,\n",
       " 'SHAPEFACTOR_4': 15,\n",
       " 'MeanRR': 16,\n",
       " 'MeanRG': 17,\n",
       " 'MeanRB': 18,\n",
       " 'StdDevRR': 19,\n",
       " 'StdDevRG': 20,\n",
       " 'StdDevRB': 21,\n",
       " 'SkewRR': 22,\n",
       " 'SkewRG': 23,\n",
       " 'SkewRB': 24,\n",
       " 'KurtosisRR': 25,\n",
       " 'KurtosisRG': 26,\n",
       " 'KurtosisRB': 27,\n",
       " 'EntropyRR': 28,\n",
       " 'EntropyRG': 29,\n",
       " 'EntropyRB': 30,\n",
       " 'ALLdaub4RR': 31,\n",
       " 'ALLdaub4RG': 32,\n",
       " 'ALLdaub4RB': 33}"
      ]
     },
     "execution_count": 258,
     "metadata": {},
     "output_type": "execute_result"
    }
   ],
   "source": [
    "column_dict = {}\n",
    "for index, column in enumerate(np.array(date_fruit.columns)):\n",
    "    if column != \"Class\": column_dict[column] = index\n",
    "column_dict"
   ]
  },
  {
   "cell_type": "code",
   "execution_count": 110,
   "id": "6a777eb8",
   "metadata": {
    "slideshow": {
     "slide_type": "skip"
    }
   },
   "outputs": [
    {
     "data": {
      "text/plain": [
       "{'BERHI': 'r.',\n",
       " 'DEGLET': 'b.',\n",
       " 'DOKOL': 'g.',\n",
       " 'IRAQI': 'y.',\n",
       " 'ROTANA': 'm.',\n",
       " 'SAFAVI': 'c.',\n",
       " 'SOGAY': 'k.'}"
      ]
     },
     "execution_count": 110,
     "metadata": {},
     "output_type": "execute_result"
    }
   ],
   "source": [
    "class_dict = {}\n",
    "colors = ['r', 'b', 'g', 'y', 'm', 'c', 'k']\n",
    "for index, class_ in enumerate(classes):\n",
    "    class_dict[class_] = colors[index]+'.'\n",
    "class_dict"
   ]
  },
  {
   "cell_type": "markdown",
   "id": "768c887e",
   "metadata": {
    "slideshow": {
     "slide_type": "slide"
    }
   },
   "source": [
    "## USING K NEAREST NEIGHBOR  TO MODEL OUR DATASET\n",
    "Creating, training and scoring our model.\n",
    "\n",
    "We chose to start with knn because it is a simple model to use and understand."
   ]
  },
  {
   "cell_type": "code",
   "execution_count": 307,
   "id": "4b18de0d",
   "metadata": {
    "slideshow": {
     "slide_type": "fragment"
    }
   },
   "outputs": [
    {
     "data": {
      "text/plain": [
       "0.6666666666666666"
      ]
     },
     "execution_count": 307,
     "metadata": {},
     "output_type": "execute_result"
    }
   ],
   "source": [
    "knn_model = KNeighborsClassifier()\n",
    "knn_model.fit(X_train, y_train)\n",
    "knn_model.score(X_test, y_test)"
   ]
  },
  {
   "cell_type": "markdown",
   "id": "c61d0dd7",
   "metadata": {
    "slideshow": {
     "slide_type": "slide"
    }
   },
   "source": [
    "## Predicting and plotting our confusion matrix "
   ]
  },
  {
   "cell_type": "code",
   "execution_count": 308,
   "id": "e9a6ef11",
   "metadata": {
    "slideshow": {
     "slide_type": "fragment"
    }
   },
   "outputs": [
    {
     "name": "stdout",
     "output_type": "stream",
     "text": [
      "score 0.6666666666666666\n",
      "[[ 2  1  2  1  0  0  2]\n",
      " [ 2  6  2  1  4  0  8]\n",
      " [ 4 12 45  2  0  3  5]\n",
      " [ 5  1  0  7  1  0  0]\n",
      " [ 3  7  0  1 28  0  1]\n",
      " [ 0  0  1  2  0 51  1]\n",
      " [ 0  1  1  1  0  0 11]]\n",
      "              precision    recall  f1-score   support\n",
      "\n",
      "       BERHI       0.12      0.25      0.17         8\n",
      "      DEGLET       0.21      0.26      0.24        23\n",
      "       DOKOL       0.88      0.63      0.74        71\n",
      "       IRAQI       0.47      0.50      0.48        14\n",
      "      ROTANA       0.85      0.70      0.77        40\n",
      "      SAFAVI       0.94      0.93      0.94        55\n",
      "       SOGAY       0.39      0.79      0.52        14\n",
      "\n",
      "    accuracy                           0.67       225\n",
      "   macro avg       0.55      0.58      0.55       225\n",
      "weighted avg       0.74      0.67      0.69       225\n",
      "\n"
     ]
    }
   ],
   "source": [
    "con_matrix = confusion_matrix(knn_model.predict(X_test), y_test)\n",
    "class_report = classification_report(knn_model.predict(X_test), y_test)\n",
    "print(f\"score {knn_model.score(X_test, y_test)}\")\n",
    "print(con_matrix)\n",
    "print(class_report)"
   ]
  },
  {
   "cell_type": "markdown",
   "id": "de00a336",
   "metadata": {
    "slideshow": {
     "slide_type": "slide"
    }
   },
   "source": [
    "## confusion matrix"
   ]
  },
  {
   "cell_type": "code",
   "execution_count": 314,
   "id": "6be3b574",
   "metadata": {
    "slideshow": {
     "slide_type": "fragment"
    }
   },
   "outputs": [
    {
     "data": {
      "image/png": "[encoded data removed]",
      "text/plain": [
       "<Figure size 576x432 with 2 Axes>"
      ]
     },
     "metadata": {
      "needs_background": "light"
     },
     "output_type": "display_data"
    }
   ],
   "source": [
    "fig, ax = plt.subplots(1,1,figsize=(8,6))\n",
    "sns.heatmap(con_matrix, annot=True)\n",
    "ax.set_yticks(range(len(classes))); ax.set_yticklabels(classes); ax.set_ylabel(\"TRUE\")\n",
    "ax.set_xticks(range(len(classes))); ax.set_xticklabels(classes); ax.set_xlabel(\"PREDICTED\")\n",
    "plt.show()"
   ]
  },
  {
   "cell_type": "markdown",
   "id": "581221b3",
   "metadata": {
    "slideshow": {
     "slide_type": "slide"
    }
   },
   "source": [
    "## Trying for different value of k from 1, 100 and creating a plot of the score against k"
   ]
  },
  {
   "cell_type": "code",
   "execution_count": 316,
   "id": "4d3fe858",
   "metadata": {
    "slideshow": {
     "slide_type": "fragment"
    }
   },
   "outputs": [
    {
     "data": {
      "image/png": "[encoded data removed]",
      "text/plain": [
       "<Figure size 360x288 with 1 Axes>"
      ]
     },
     "metadata": {
      "needs_background": "light"
     },
     "output_type": "display_data"
    }
   ],
   "source": [
    "k_range = range(1,100)\n",
    "acc_array = []\n",
    "for k in k_range:\n",
    "    knn_model = KNeighborsClassifier(n_neighbors=k)\n",
    "    knn_model.fit(X_train, y_train)\n",
    "    acc_array.append(knn_model.score(X_test, y_test))\n",
    "fig, ax = plt.subplots(1, 1, figsize=(5,4))\n",
    "ax.plot(k_range, acc_array, label=\"sklearn\")\n",
    "ax.set_xlabel(\"k\"); ax.set_ylabel(\"accuracy\"); plt.show()"
   ]
  },
  {
   "cell_type": "markdown",
   "id": "919be0cb",
   "metadata": {
    "slideshow": {
     "slide_type": "slide"
    }
   },
   "source": [
    "   ## USING DECISION RANDOM FOREST TO MODEL OUR DATASET \n",
    " Creating, training(fit) and scoring our model"
   ]
  },
  {
   "cell_type": "code",
   "execution_count": 299,
   "id": "9703034c",
   "metadata": {
    "slideshow": {
     "slide_type": "fragment"
    }
   },
   "outputs": [
    {
     "name": "stdout",
     "output_type": "stream",
     "text": [
      "score 0.8711111111111111\n",
      "[[13  0  0  0  0  0  0]\n",
      " [ 0 15  5  0  0  0  3]\n",
      " [ 0  6 46  0  0  0  0]\n",
      " [ 3  0  0 15  0  0  0]\n",
      " [ 0  1  0  0 31  0  0]\n",
      " [ 0  1  0  0  0 52  1]\n",
      " [ 0  5  0  0  2  2 24]]\n",
      "              precision    recall  f1-score   support\n",
      "\n",
      "       BERHI       0.81      1.00      0.90        13\n",
      "      DEGLET       0.54      0.65      0.59        23\n",
      "       DOKOL       0.90      0.88      0.89        52\n",
      "       IRAQI       1.00      0.83      0.91        18\n",
      "      ROTANA       0.94      0.97      0.95        32\n",
      "      SAFAVI       0.96      0.96      0.96        54\n",
      "       SOGAY       0.86      0.73      0.79        33\n",
      "\n",
      "    accuracy                           0.87       225\n",
      "   macro avg       0.86      0.86      0.86       225\n",
      "weighted avg       0.88      0.87      0.87       225\n",
      "\n"
     ]
    }
   ],
   "source": [
    "rf_model = RandomForestClassifier()\n",
    "rf_best_model.fit(X_train, y_train)\n",
    "con_matrix = confusion_matrix(rf_best_model.predict(X_test), y_test)\n",
    "class_report = classification_report(rf_best_model.predict(X_test), y_test)\n",
    "print(f\"score {rf_best_model.score(X_test, y_test)}\")\n",
    "print(con_matrix); print(class_report)"
   ]
  },
  {
   "cell_type": "markdown",
   "id": "e686a272",
   "metadata": {
    "slideshow": {
     "slide_type": "slide"
    }
   },
   "source": [
    "## Confusion matrix"
   ]
  },
  {
   "cell_type": "code",
   "execution_count": 300,
   "id": "0354d211",
   "metadata": {
    "slideshow": {
     "slide_type": "fragment"
    }
   },
   "outputs": [
    {
     "data": {
      "image/png": "[encoded data removed]",
      "text/plain": [
       "<Figure size 576x432 with 2 Axes>"
      ]
     },
     "metadata": {
      "needs_background": "light"
     },
     "output_type": "display_data"
    }
   ],
   "source": [
    "fig, ax = plt.subplots(1,1,figsize=(8,6))\n",
    "sns.heatmap(con_matrix, annot=True)\n",
    "ax.set_yticks(range(len(classes)))\n",
    "ax.set_yticklabels(classes)\n",
    "ax.set_ylabel(\"TRUE\")\n",
    "ax.set_xticks(range(len(classes)))\n",
    "ax.set_xticklabels(classes)\n",
    "ax.set_xlabel(\"PREDICTED\")\n",
    "plt.show()"
   ]
  },
  {
   "cell_type": "markdown",
   "id": "be5a7737",
   "metadata": {
    "slideshow": {
     "slide_type": "slide"
    }
   },
   "source": [
    "## Features importance"
   ]
  },
  {
   "cell_type": "code",
   "execution_count": 317,
   "id": "dfdbacd6",
   "metadata": {
    "slideshow": {
     "slide_type": "fragment"
    }
   },
   "outputs": [
    {
     "data": {
      "image/png": "[encoded data removed]",
      "text/plain": [
       "<Figure size 720x504 with 1 Axes>"
      ]
     },
     "metadata": {
      "needs_background": "light"
     },
     "output_type": "display_data"
    }
   ],
   "source": [
    "importances = rf_best_model.feature_importances_\n",
    "fig, ax =plt.subplots(1,1,figsize=(10,7))\n",
    "ax.barh(range(33),importances)\n",
    "ax.set_yticks(range(len(column_dict))); ax.set_yticklabels(column_dict.keys())\n",
    "plt.show()"
   ]
  },
  {
   "cell_type": "markdown",
   "id": "5daef2ea",
   "metadata": {
    "slideshow": {
     "slide_type": "slide"
    }
   },
   "source": [
    "## A plot of the 2 most important feature against eachother, AREA against MINOR_AXIS"
   ]
  },
  {
   "cell_type": "code",
   "execution_count": 279,
   "id": "122fd160",
   "metadata": {
    "slideshow": {
     "slide_type": "fragment"
    }
   },
   "outputs": [
    {
     "name": "stderr",
     "output_type": "stream",
     "text": [
      "<ipython-input-279-959c927bb25a>:11: UserWarning: Matplotlib is currently using module://ipykernel.pylab.backend_inline, which is a non-GUI backend, so cannot show the figure.\n",
      "  fig.show()\n"
     ]
    },
    {
     "data": {
      "image/png": "[encoded data removed]",
      "text/plain": [
       "<Figure size 720x360 with 1 Axes>"
      ]
     },
     "metadata": {
      "needs_background": "light"
     },
     "output_type": "display_data"
    }
   ],
   "source": [
    "fig, ax = plt.subplots(1, 1, figsize=(10,5))\n",
    "for class_ in class_dict:\n",
    "    pos = np.where(date_fruit_target == class_)[0]\n",
    "    ax.plot(date_fruit_data[pos,column_dict[\"MINOR_AXIS\"]],\n",
    "             date_fruit_data[pos,column_dict[\"AREA\"]],\n",
    "             class_dict[class_], label=class_)\n",
    "ax.set_xlabel(\"MINOR_AXIS\")\n",
    "ax.set_ylabel(\"AREA\")\n",
    "ax.set_title(\"A plot of the 2 most important feature against eachother, AREA against MINOR_AXIS\")\n",
    "fig.legend()\n",
    "fig.show()"
   ]
  },
  {
   "cell_type": "markdown",
   "id": "0c5f5bad",
   "metadata": {
    "slideshow": {
     "slide_type": "slide"
    }
   },
   "source": [
    "## Trying to get the best parameters for the model"
   ]
  },
  {
   "cell_type": "code",
   "execution_count": 159,
   "id": "fc1d6ef7",
   "metadata": {
    "slideshow": {
     "slide_type": "fragment"
    }
   },
   "outputs": [],
   "source": [
    "n_estimators = [i for i in range(10, 100, 10)] # The number of trees in the forest.\n",
    "criterion = [\"gini\", \"entropy\"] # The function to measure the quality of a split.\n",
    "max_depth = [None, 2, 4] # The maximum depth of the tree\n",
    "min_samples_leaf = [1, 2] # The minimum number of samples required to be at a leaf node\n",
    "max_features = [\"sqrt\", \"auto\"] # The number of features to consider when looking for the best split:\n",
    "bootstrap = [True, False] # Whether bootstrap samples are used when building trees.\n",
    "\n",
    "param_grid ={\n",
    "    \"n_estimators\" : n_estimators,\n",
    "    \"criterion\" : criterion,\n",
    "    \"max_depth\" : max_depth,\n",
    "    \"min_samples_leaf\" : min_samples_leaf,\n",
    "    \"max_features\" : max_features,\n",
    "    \"bootstrap\" : bootstrap,\n",
    "}"
   ]
  },
  {
   "cell_type": "code",
   "execution_count": 198,
   "id": "137c57e4",
   "metadata": {
    "slideshow": {
     "slide_type": "fragment"
    }
   },
   "outputs": [
    {
     "ename": "KeyboardInterrupt",
     "evalue": "",
     "output_type": "error",
     "traceback": [
      "\u001b[1;31m---------------------------------------------------------------------------\u001b[0m",
      "\u001b[1;31mKeyboardInterrupt\u001b[0m                         Traceback (most recent call last)",
      "\u001b[1;32m<ipython-input-198-8d4807d217d5>\u001b[0m in \u001b[0;36m<module>\u001b[1;34m\u001b[0m\n\u001b[0;32m      1\u001b[0m \u001b[0mrf_moodel\u001b[0m \u001b[1;33m=\u001b[0m \u001b[0mRandomForestClassifier\u001b[0m\u001b[1;33m(\u001b[0m\u001b[1;33m)\u001b[0m\u001b[1;33m\u001b[0m\u001b[1;33m\u001b[0m\u001b[0m\n\u001b[0;32m      2\u001b[0m \u001b[0mrf_grid\u001b[0m \u001b[1;33m=\u001b[0m \u001b[0mGridSearchCV\u001b[0m\u001b[1;33m(\u001b[0m\u001b[0mestimator\u001b[0m\u001b[1;33m=\u001b[0m\u001b[0mrf_moodel\u001b[0m\u001b[1;33m,\u001b[0m \u001b[0mparam_grid\u001b[0m\u001b[1;33m=\u001b[0m\u001b[0mparam_grid\u001b[0m\u001b[1;33m)\u001b[0m\u001b[1;33m\u001b[0m\u001b[1;33m\u001b[0m\u001b[0m\n\u001b[1;32m----> 3\u001b[1;33m \u001b[0mrf_grid\u001b[0m\u001b[1;33m.\u001b[0m\u001b[0mfit\u001b[0m\u001b[1;33m(\u001b[0m\u001b[0mX_train\u001b[0m\u001b[1;33m,\u001b[0m \u001b[0my_train\u001b[0m\u001b[1;33m)\u001b[0m\u001b[1;33m\u001b[0m\u001b[1;33m\u001b[0m\u001b[0m\n\u001b[0m\u001b[0;32m      4\u001b[0m \u001b[0mrf_grid\u001b[0m\u001b[1;33m.\u001b[0m\u001b[0mbest_params_\u001b[0m\u001b[1;33m\u001b[0m\u001b[1;33m\u001b[0m\u001b[0m\n",
      "\u001b[1;32m~\\anaconda3\\lib\\site-packages\\sklearn\\utils\\validation.py\u001b[0m in \u001b[0;36minner_f\u001b[1;34m(*args, **kwargs)\u001b[0m\n\u001b[0;32m     61\u001b[0m             \u001b[0mextra_args\u001b[0m \u001b[1;33m=\u001b[0m \u001b[0mlen\u001b[0m\u001b[1;33m(\u001b[0m\u001b[0margs\u001b[0m\u001b[1;33m)\u001b[0m \u001b[1;33m-\u001b[0m \u001b[0mlen\u001b[0m\u001b[1;33m(\u001b[0m\u001b[0mall_args\u001b[0m\u001b[1;33m)\u001b[0m\u001b[1;33m\u001b[0m\u001b[1;33m\u001b[0m\u001b[0m\n\u001b[0;32m     62\u001b[0m             \u001b[1;32mif\u001b[0m \u001b[0mextra_args\u001b[0m \u001b[1;33m<=\u001b[0m \u001b[1;36m0\u001b[0m\u001b[1;33m:\u001b[0m\u001b[1;33m\u001b[0m\u001b[1;33m\u001b[0m\u001b[0m\n\u001b[1;32m---> 63\u001b[1;33m                 \u001b[1;32mreturn\u001b[0m \u001b[0mf\u001b[0m\u001b[1;33m(\u001b[0m\u001b[1;33m*\u001b[0m\u001b[0margs\u001b[0m\u001b[1;33m,\u001b[0m \u001b[1;33m**\u001b[0m\u001b[0mkwargs\u001b[0m\u001b[1;33m)\u001b[0m\u001b[1;33m\u001b[0m\u001b[1;33m\u001b[0m\u001b[0m\n\u001b[0m\u001b[0;32m     64\u001b[0m \u001b[1;33m\u001b[0m\u001b[0m\n\u001b[0;32m     65\u001b[0m             \u001b[1;31m# extra_args > 0\u001b[0m\u001b[1;33m\u001b[0m\u001b[1;33m\u001b[0m\u001b[1;33m\u001b[0m\u001b[0m\n",
      "\u001b[1;32m~\\anaconda3\\lib\\site-packages\\sklearn\\model_selection\\_search.py\u001b[0m in \u001b[0;36mfit\u001b[1;34m(self, X, y, groups, **fit_params)\u001b[0m\n\u001b[0;32m    839\u001b[0m                 \u001b[1;32mreturn\u001b[0m \u001b[0mresults\u001b[0m\u001b[1;33m\u001b[0m\u001b[1;33m\u001b[0m\u001b[0m\n\u001b[0;32m    840\u001b[0m \u001b[1;33m\u001b[0m\u001b[0m\n\u001b[1;32m--> 841\u001b[1;33m             \u001b[0mself\u001b[0m\u001b[1;33m.\u001b[0m\u001b[0m_run_search\u001b[0m\u001b[1;33m(\u001b[0m\u001b[0mevaluate_candidates\u001b[0m\u001b[1;33m)\u001b[0m\u001b[1;33m\u001b[0m\u001b[1;33m\u001b[0m\u001b[0m\n\u001b[0m\u001b[0;32m    842\u001b[0m \u001b[1;33m\u001b[0m\u001b[0m\n\u001b[0;32m    843\u001b[0m             \u001b[1;31m# multimetric is determined here because in the case of a callable\u001b[0m\u001b[1;33m\u001b[0m\u001b[1;33m\u001b[0m\u001b[1;33m\u001b[0m\u001b[0m\n",
      "\u001b[1;32m~\\anaconda3\\lib\\site-packages\\sklearn\\model_selection\\_search.py\u001b[0m in \u001b[0;36m_run_search\u001b[1;34m(self, evaluate_candidates)\u001b[0m\n\u001b[0;32m   1286\u001b[0m     \u001b[1;32mdef\u001b[0m \u001b[0m_run_search\u001b[0m\u001b[1;33m(\u001b[0m\u001b[0mself\u001b[0m\u001b[1;33m,\u001b[0m \u001b[0mevaluate_candidates\u001b[0m\u001b[1;33m)\u001b[0m\u001b[1;33m:\u001b[0m\u001b[1;33m\u001b[0m\u001b[1;33m\u001b[0m\u001b[0m\n\u001b[0;32m   1287\u001b[0m         \u001b[1;34m\"\"\"Search all candidates in param_grid\"\"\"\u001b[0m\u001b[1;33m\u001b[0m\u001b[1;33m\u001b[0m\u001b[0m\n\u001b[1;32m-> 1288\u001b[1;33m         \u001b[0mevaluate_candidates\u001b[0m\u001b[1;33m(\u001b[0m\u001b[0mParameterGrid\u001b[0m\u001b[1;33m(\u001b[0m\u001b[0mself\u001b[0m\u001b[1;33m.\u001b[0m\u001b[0mparam_grid\u001b[0m\u001b[1;33m)\u001b[0m\u001b[1;33m)\u001b[0m\u001b[1;33m\u001b[0m\u001b[1;33m\u001b[0m\u001b[0m\n\u001b[0m\u001b[0;32m   1289\u001b[0m \u001b[1;33m\u001b[0m\u001b[0m\n\u001b[0;32m   1290\u001b[0m \u001b[1;33m\u001b[0m\u001b[0m\n",
      "\u001b[1;32m~\\anaconda3\\lib\\site-packages\\sklearn\\model_selection\\_search.py\u001b[0m in \u001b[0;36mevaluate_candidates\u001b[1;34m(candidate_params, cv, more_results)\u001b[0m\n\u001b[0;32m    793\u001b[0m                               n_splits, n_candidates, n_candidates * n_splits))\n\u001b[0;32m    794\u001b[0m \u001b[1;33m\u001b[0m\u001b[0m\n\u001b[1;32m--> 795\u001b[1;33m                 out = parallel(delayed(_fit_and_score)(clone(base_estimator),\n\u001b[0m\u001b[0;32m    796\u001b[0m                                                        \u001b[0mX\u001b[0m\u001b[1;33m,\u001b[0m \u001b[0my\u001b[0m\u001b[1;33m,\u001b[0m\u001b[1;33m\u001b[0m\u001b[1;33m\u001b[0m\u001b[0m\n\u001b[0;32m    797\u001b[0m                                                        \u001b[0mtrain\u001b[0m\u001b[1;33m=\u001b[0m\u001b[0mtrain\u001b[0m\u001b[1;33m,\u001b[0m \u001b[0mtest\u001b[0m\u001b[1;33m=\u001b[0m\u001b[0mtest\u001b[0m\u001b[1;33m,\u001b[0m\u001b[1;33m\u001b[0m\u001b[1;33m\u001b[0m\u001b[0m\n",
      "\u001b[1;32m~\\anaconda3\\lib\\site-packages\\joblib\\parallel.py\u001b[0m in \u001b[0;36m__call__\u001b[1;34m(self, iterable)\u001b[0m\n\u001b[0;32m   1042\u001b[0m                 \u001b[0mself\u001b[0m\u001b[1;33m.\u001b[0m\u001b[0m_iterating\u001b[0m \u001b[1;33m=\u001b[0m \u001b[0mself\u001b[0m\u001b[1;33m.\u001b[0m\u001b[0m_original_iterator\u001b[0m \u001b[1;32mis\u001b[0m \u001b[1;32mnot\u001b[0m \u001b[1;32mNone\u001b[0m\u001b[1;33m\u001b[0m\u001b[1;33m\u001b[0m\u001b[0m\n\u001b[0;32m   1043\u001b[0m \u001b[1;33m\u001b[0m\u001b[0m\n\u001b[1;32m-> 1044\u001b[1;33m             \u001b[1;32mwhile\u001b[0m \u001b[0mself\u001b[0m\u001b[1;33m.\u001b[0m\u001b[0mdispatch_one_batch\u001b[0m\u001b[1;33m(\u001b[0m\u001b[0miterator\u001b[0m\u001b[1;33m)\u001b[0m\u001b[1;33m:\u001b[0m\u001b[1;33m\u001b[0m\u001b[1;33m\u001b[0m\u001b[0m\n\u001b[0m\u001b[0;32m   1045\u001b[0m                 \u001b[1;32mpass\u001b[0m\u001b[1;33m\u001b[0m\u001b[1;33m\u001b[0m\u001b[0m\n\u001b[0;32m   1046\u001b[0m \u001b[1;33m\u001b[0m\u001b[0m\n",
      "\u001b[1;32m~\\anaconda3\\lib\\site-packages\\joblib\\parallel.py\u001b[0m in \u001b[0;36mdispatch_one_batch\u001b[1;34m(self, iterator)\u001b[0m\n\u001b[0;32m    857\u001b[0m                 \u001b[1;32mreturn\u001b[0m \u001b[1;32mFalse\u001b[0m\u001b[1;33m\u001b[0m\u001b[1;33m\u001b[0m\u001b[0m\n\u001b[0;32m    858\u001b[0m             \u001b[1;32melse\u001b[0m\u001b[1;33m:\u001b[0m\u001b[1;33m\u001b[0m\u001b[1;33m\u001b[0m\u001b[0m\n\u001b[1;32m--> 859\u001b[1;33m                 \u001b[0mself\u001b[0m\u001b[1;33m.\u001b[0m\u001b[0m_dispatch\u001b[0m\u001b[1;33m(\u001b[0m\u001b[0mtasks\u001b[0m\u001b[1;33m)\u001b[0m\u001b[1;33m\u001b[0m\u001b[1;33m\u001b[0m\u001b[0m\n\u001b[0m\u001b[0;32m    860\u001b[0m                 \u001b[1;32mreturn\u001b[0m \u001b[1;32mTrue\u001b[0m\u001b[1;33m\u001b[0m\u001b[1;33m\u001b[0m\u001b[0m\n\u001b[0;32m    861\u001b[0m \u001b[1;33m\u001b[0m\u001b[0m\n",
      "\u001b[1;32m~\\anaconda3\\lib\\site-packages\\joblib\\parallel.py\u001b[0m in \u001b[0;36m_dispatch\u001b[1;34m(self, batch)\u001b[0m\n\u001b[0;32m    775\u001b[0m         \u001b[1;32mwith\u001b[0m \u001b[0mself\u001b[0m\u001b[1;33m.\u001b[0m\u001b[0m_lock\u001b[0m\u001b[1;33m:\u001b[0m\u001b[1;33m\u001b[0m\u001b[1;33m\u001b[0m\u001b[0m\n\u001b[0;32m    776\u001b[0m             \u001b[0mjob_idx\u001b[0m \u001b[1;33m=\u001b[0m \u001b[0mlen\u001b[0m\u001b[1;33m(\u001b[0m\u001b[0mself\u001b[0m\u001b[1;33m.\u001b[0m\u001b[0m_jobs\u001b[0m\u001b[1;33m)\u001b[0m\u001b[1;33m\u001b[0m\u001b[1;33m\u001b[0m\u001b[0m\n\u001b[1;32m--> 777\u001b[1;33m             \u001b[0mjob\u001b[0m \u001b[1;33m=\u001b[0m \u001b[0mself\u001b[0m\u001b[1;33m.\u001b[0m\u001b[0m_backend\u001b[0m\u001b[1;33m.\u001b[0m\u001b[0mapply_async\u001b[0m\u001b[1;33m(\u001b[0m\u001b[0mbatch\u001b[0m\u001b[1;33m,\u001b[0m \u001b[0mcallback\u001b[0m\u001b[1;33m=\u001b[0m\u001b[0mcb\u001b[0m\u001b[1;33m)\u001b[0m\u001b[1;33m\u001b[0m\u001b[1;33m\u001b[0m\u001b[0m\n\u001b[0m\u001b[0;32m    778\u001b[0m             \u001b[1;31m# A job can complete so quickly than its callback is\u001b[0m\u001b[1;33m\u001b[0m\u001b[1;33m\u001b[0m\u001b[1;33m\u001b[0m\u001b[0m\n\u001b[0;32m    779\u001b[0m             \u001b[1;31m# called before we get here, causing self._jobs to\u001b[0m\u001b[1;33m\u001b[0m\u001b[1;33m\u001b[0m\u001b[1;33m\u001b[0m\u001b[0m\n",
      "\u001b[1;32m~\\anaconda3\\lib\\site-packages\\joblib\\_parallel_backends.py\u001b[0m in \u001b[0;36mapply_async\u001b[1;34m(self, func, callback)\u001b[0m\n\u001b[0;32m    206\u001b[0m     \u001b[1;32mdef\u001b[0m \u001b[0mapply_async\u001b[0m\u001b[1;33m(\u001b[0m\u001b[0mself\u001b[0m\u001b[1;33m,\u001b[0m \u001b[0mfunc\u001b[0m\u001b[1;33m,\u001b[0m \u001b[0mcallback\u001b[0m\u001b[1;33m=\u001b[0m\u001b[1;32mNone\u001b[0m\u001b[1;33m)\u001b[0m\u001b[1;33m:\u001b[0m\u001b[1;33m\u001b[0m\u001b[1;33m\u001b[0m\u001b[0m\n\u001b[0;32m    207\u001b[0m         \u001b[1;34m\"\"\"Schedule a func to be run\"\"\"\u001b[0m\u001b[1;33m\u001b[0m\u001b[1;33m\u001b[0m\u001b[0m\n\u001b[1;32m--> 208\u001b[1;33m         \u001b[0mresult\u001b[0m \u001b[1;33m=\u001b[0m \u001b[0mImmediateResult\u001b[0m\u001b[1;33m(\u001b[0m\u001b[0mfunc\u001b[0m\u001b[1;33m)\u001b[0m\u001b[1;33m\u001b[0m\u001b[1;33m\u001b[0m\u001b[0m\n\u001b[0m\u001b[0;32m    209\u001b[0m         \u001b[1;32mif\u001b[0m \u001b[0mcallback\u001b[0m\u001b[1;33m:\u001b[0m\u001b[1;33m\u001b[0m\u001b[1;33m\u001b[0m\u001b[0m\n\u001b[0;32m    210\u001b[0m             \u001b[0mcallback\u001b[0m\u001b[1;33m(\u001b[0m\u001b[0mresult\u001b[0m\u001b[1;33m)\u001b[0m\u001b[1;33m\u001b[0m\u001b[1;33m\u001b[0m\u001b[0m\n",
      "\u001b[1;32m~\\anaconda3\\lib\\site-packages\\joblib\\_parallel_backends.py\u001b[0m in \u001b[0;36m__init__\u001b[1;34m(self, batch)\u001b[0m\n\u001b[0;32m    570\u001b[0m         \u001b[1;31m# Don't delay the application, to avoid keeping the input\u001b[0m\u001b[1;33m\u001b[0m\u001b[1;33m\u001b[0m\u001b[1;33m\u001b[0m\u001b[0m\n\u001b[0;32m    571\u001b[0m         \u001b[1;31m# arguments in memory\u001b[0m\u001b[1;33m\u001b[0m\u001b[1;33m\u001b[0m\u001b[1;33m\u001b[0m\u001b[0m\n\u001b[1;32m--> 572\u001b[1;33m         \u001b[0mself\u001b[0m\u001b[1;33m.\u001b[0m\u001b[0mresults\u001b[0m \u001b[1;33m=\u001b[0m \u001b[0mbatch\u001b[0m\u001b[1;33m(\u001b[0m\u001b[1;33m)\u001b[0m\u001b[1;33m\u001b[0m\u001b[1;33m\u001b[0m\u001b[0m\n\u001b[0m\u001b[0;32m    573\u001b[0m \u001b[1;33m\u001b[0m\u001b[0m\n\u001b[0;32m    574\u001b[0m     \u001b[1;32mdef\u001b[0m \u001b[0mget\u001b[0m\u001b[1;33m(\u001b[0m\u001b[0mself\u001b[0m\u001b[1;33m)\u001b[0m\u001b[1;33m:\u001b[0m\u001b[1;33m\u001b[0m\u001b[1;33m\u001b[0m\u001b[0m\n",
      "\u001b[1;32m~\\anaconda3\\lib\\site-packages\\joblib\\parallel.py\u001b[0m in \u001b[0;36m__call__\u001b[1;34m(self)\u001b[0m\n\u001b[0;32m    260\u001b[0m         \u001b[1;31m# change the default number of processes to -1\u001b[0m\u001b[1;33m\u001b[0m\u001b[1;33m\u001b[0m\u001b[1;33m\u001b[0m\u001b[0m\n\u001b[0;32m    261\u001b[0m         \u001b[1;32mwith\u001b[0m \u001b[0mparallel_backend\u001b[0m\u001b[1;33m(\u001b[0m\u001b[0mself\u001b[0m\u001b[1;33m.\u001b[0m\u001b[0m_backend\u001b[0m\u001b[1;33m,\u001b[0m \u001b[0mn_jobs\u001b[0m\u001b[1;33m=\u001b[0m\u001b[0mself\u001b[0m\u001b[1;33m.\u001b[0m\u001b[0m_n_jobs\u001b[0m\u001b[1;33m)\u001b[0m\u001b[1;33m:\u001b[0m\u001b[1;33m\u001b[0m\u001b[1;33m\u001b[0m\u001b[0m\n\u001b[1;32m--> 262\u001b[1;33m             return [func(*args, **kwargs)\n\u001b[0m\u001b[0;32m    263\u001b[0m                     for func, args, kwargs in self.items]\n\u001b[0;32m    264\u001b[0m \u001b[1;33m\u001b[0m\u001b[0m\n",
      "\u001b[1;32m~\\anaconda3\\lib\\site-packages\\joblib\\parallel.py\u001b[0m in \u001b[0;36m<listcomp>\u001b[1;34m(.0)\u001b[0m\n\u001b[0;32m    260\u001b[0m         \u001b[1;31m# change the default number of processes to -1\u001b[0m\u001b[1;33m\u001b[0m\u001b[1;33m\u001b[0m\u001b[1;33m\u001b[0m\u001b[0m\n\u001b[0;32m    261\u001b[0m         \u001b[1;32mwith\u001b[0m \u001b[0mparallel_backend\u001b[0m\u001b[1;33m(\u001b[0m\u001b[0mself\u001b[0m\u001b[1;33m.\u001b[0m\u001b[0m_backend\u001b[0m\u001b[1;33m,\u001b[0m \u001b[0mn_jobs\u001b[0m\u001b[1;33m=\u001b[0m\u001b[0mself\u001b[0m\u001b[1;33m.\u001b[0m\u001b[0m_n_jobs\u001b[0m\u001b[1;33m)\u001b[0m\u001b[1;33m:\u001b[0m\u001b[1;33m\u001b[0m\u001b[1;33m\u001b[0m\u001b[0m\n\u001b[1;32m--> 262\u001b[1;33m             return [func(*args, **kwargs)\n\u001b[0m\u001b[0;32m    263\u001b[0m                     for func, args, kwargs in self.items]\n\u001b[0;32m    264\u001b[0m \u001b[1;33m\u001b[0m\u001b[0m\n",
      "\u001b[1;32m~\\anaconda3\\lib\\site-packages\\sklearn\\utils\\fixes.py\u001b[0m in \u001b[0;36m__call__\u001b[1;34m(self, *args, **kwargs)\u001b[0m\n\u001b[0;32m    220\u001b[0m     \u001b[1;32mdef\u001b[0m \u001b[0m__call__\u001b[0m\u001b[1;33m(\u001b[0m\u001b[0mself\u001b[0m\u001b[1;33m,\u001b[0m \u001b[1;33m*\u001b[0m\u001b[0margs\u001b[0m\u001b[1;33m,\u001b[0m \u001b[1;33m**\u001b[0m\u001b[0mkwargs\u001b[0m\u001b[1;33m)\u001b[0m\u001b[1;33m:\u001b[0m\u001b[1;33m\u001b[0m\u001b[1;33m\u001b[0m\u001b[0m\n\u001b[0;32m    221\u001b[0m         \u001b[1;32mwith\u001b[0m \u001b[0mconfig_context\u001b[0m\u001b[1;33m(\u001b[0m\u001b[1;33m**\u001b[0m\u001b[0mself\u001b[0m\u001b[1;33m.\u001b[0m\u001b[0mconfig\u001b[0m\u001b[1;33m)\u001b[0m\u001b[1;33m:\u001b[0m\u001b[1;33m\u001b[0m\u001b[1;33m\u001b[0m\u001b[0m\n\u001b[1;32m--> 222\u001b[1;33m             \u001b[1;32mreturn\u001b[0m \u001b[0mself\u001b[0m\u001b[1;33m.\u001b[0m\u001b[0mfunction\u001b[0m\u001b[1;33m(\u001b[0m\u001b[1;33m*\u001b[0m\u001b[0margs\u001b[0m\u001b[1;33m,\u001b[0m \u001b[1;33m**\u001b[0m\u001b[0mkwargs\u001b[0m\u001b[1;33m)\u001b[0m\u001b[1;33m\u001b[0m\u001b[1;33m\u001b[0m\u001b[0m\n\u001b[0m",
      "\u001b[1;32m~\\anaconda3\\lib\\site-packages\\sklearn\\model_selection\\_validation.py\u001b[0m in \u001b[0;36m_fit_and_score\u001b[1;34m(estimator, X, y, scorer, train, test, verbose, parameters, fit_params, return_train_score, return_parameters, return_n_test_samples, return_times, return_estimator, split_progress, candidate_progress, error_score)\u001b[0m\n\u001b[0;32m    591\u001b[0m             \u001b[0mestimator\u001b[0m\u001b[1;33m.\u001b[0m\u001b[0mfit\u001b[0m\u001b[1;33m(\u001b[0m\u001b[0mX_train\u001b[0m\u001b[1;33m,\u001b[0m \u001b[1;33m**\u001b[0m\u001b[0mfit_params\u001b[0m\u001b[1;33m)\u001b[0m\u001b[1;33m\u001b[0m\u001b[1;33m\u001b[0m\u001b[0m\n\u001b[0;32m    592\u001b[0m         \u001b[1;32melse\u001b[0m\u001b[1;33m:\u001b[0m\u001b[1;33m\u001b[0m\u001b[1;33m\u001b[0m\u001b[0m\n\u001b[1;32m--> 593\u001b[1;33m             \u001b[0mestimator\u001b[0m\u001b[1;33m.\u001b[0m\u001b[0mfit\u001b[0m\u001b[1;33m(\u001b[0m\u001b[0mX_train\u001b[0m\u001b[1;33m,\u001b[0m \u001b[0my_train\u001b[0m\u001b[1;33m,\u001b[0m \u001b[1;33m**\u001b[0m\u001b[0mfit_params\u001b[0m\u001b[1;33m)\u001b[0m\u001b[1;33m\u001b[0m\u001b[1;33m\u001b[0m\u001b[0m\n\u001b[0m\u001b[0;32m    594\u001b[0m \u001b[1;33m\u001b[0m\u001b[0m\n\u001b[0;32m    595\u001b[0m     \u001b[1;32mexcept\u001b[0m \u001b[0mException\u001b[0m \u001b[1;32mas\u001b[0m \u001b[0me\u001b[0m\u001b[1;33m:\u001b[0m\u001b[1;33m\u001b[0m\u001b[1;33m\u001b[0m\u001b[0m\n",
      "\u001b[1;32m~\\anaconda3\\lib\\site-packages\\sklearn\\ensemble\\_forest.py\u001b[0m in \u001b[0;36mfit\u001b[1;34m(self, X, y, sample_weight)\u001b[0m\n\u001b[0;32m    385\u001b[0m             \u001b[1;31m# parallel_backend contexts set at a higher level,\u001b[0m\u001b[1;33m\u001b[0m\u001b[1;33m\u001b[0m\u001b[1;33m\u001b[0m\u001b[0m\n\u001b[0;32m    386\u001b[0m             \u001b[1;31m# since correctness does not rely on using threads.\u001b[0m\u001b[1;33m\u001b[0m\u001b[1;33m\u001b[0m\u001b[1;33m\u001b[0m\u001b[0m\n\u001b[1;32m--> 387\u001b[1;33m             trees = Parallel(n_jobs=self.n_jobs, verbose=self.verbose,\n\u001b[0m\u001b[0;32m    388\u001b[0m                              \u001b[1;33m**\u001b[0m\u001b[0m_joblib_parallel_args\u001b[0m\u001b[1;33m(\u001b[0m\u001b[0mprefer\u001b[0m\u001b[1;33m=\u001b[0m\u001b[1;34m'threads'\u001b[0m\u001b[1;33m)\u001b[0m\u001b[1;33m)\u001b[0m\u001b[1;33m(\u001b[0m\u001b[1;33m\u001b[0m\u001b[1;33m\u001b[0m\u001b[0m\n\u001b[0;32m    389\u001b[0m                 delayed(_parallel_build_trees)(\n",
      "\u001b[1;32m~\\anaconda3\\lib\\site-packages\\joblib\\parallel.py\u001b[0m in \u001b[0;36m__call__\u001b[1;34m(self, iterable)\u001b[0m\n\u001b[0;32m   1042\u001b[0m                 \u001b[0mself\u001b[0m\u001b[1;33m.\u001b[0m\u001b[0m_iterating\u001b[0m \u001b[1;33m=\u001b[0m \u001b[0mself\u001b[0m\u001b[1;33m.\u001b[0m\u001b[0m_original_iterator\u001b[0m \u001b[1;32mis\u001b[0m \u001b[1;32mnot\u001b[0m \u001b[1;32mNone\u001b[0m\u001b[1;33m\u001b[0m\u001b[1;33m\u001b[0m\u001b[0m\n\u001b[0;32m   1043\u001b[0m \u001b[1;33m\u001b[0m\u001b[0m\n\u001b[1;32m-> 1044\u001b[1;33m             \u001b[1;32mwhile\u001b[0m \u001b[0mself\u001b[0m\u001b[1;33m.\u001b[0m\u001b[0mdispatch_one_batch\u001b[0m\u001b[1;33m(\u001b[0m\u001b[0miterator\u001b[0m\u001b[1;33m)\u001b[0m\u001b[1;33m:\u001b[0m\u001b[1;33m\u001b[0m\u001b[1;33m\u001b[0m\u001b[0m\n\u001b[0m\u001b[0;32m   1045\u001b[0m                 \u001b[1;32mpass\u001b[0m\u001b[1;33m\u001b[0m\u001b[1;33m\u001b[0m\u001b[0m\n\u001b[0;32m   1046\u001b[0m \u001b[1;33m\u001b[0m\u001b[0m\n",
      "\u001b[1;32m~\\anaconda3\\lib\\site-packages\\joblib\\parallel.py\u001b[0m in \u001b[0;36mdispatch_one_batch\u001b[1;34m(self, iterator)\u001b[0m\n\u001b[0;32m    857\u001b[0m                 \u001b[1;32mreturn\u001b[0m \u001b[1;32mFalse\u001b[0m\u001b[1;33m\u001b[0m\u001b[1;33m\u001b[0m\u001b[0m\n\u001b[0;32m    858\u001b[0m             \u001b[1;32melse\u001b[0m\u001b[1;33m:\u001b[0m\u001b[1;33m\u001b[0m\u001b[1;33m\u001b[0m\u001b[0m\n\u001b[1;32m--> 859\u001b[1;33m                 \u001b[0mself\u001b[0m\u001b[1;33m.\u001b[0m\u001b[0m_dispatch\u001b[0m\u001b[1;33m(\u001b[0m\u001b[0mtasks\u001b[0m\u001b[1;33m)\u001b[0m\u001b[1;33m\u001b[0m\u001b[1;33m\u001b[0m\u001b[0m\n\u001b[0m\u001b[0;32m    860\u001b[0m                 \u001b[1;32mreturn\u001b[0m \u001b[1;32mTrue\u001b[0m\u001b[1;33m\u001b[0m\u001b[1;33m\u001b[0m\u001b[0m\n\u001b[0;32m    861\u001b[0m \u001b[1;33m\u001b[0m\u001b[0m\n",
      "\u001b[1;32m~\\anaconda3\\lib\\site-packages\\joblib\\parallel.py\u001b[0m in \u001b[0;36m_dispatch\u001b[1;34m(self, batch)\u001b[0m\n\u001b[0;32m    775\u001b[0m         \u001b[1;32mwith\u001b[0m \u001b[0mself\u001b[0m\u001b[1;33m.\u001b[0m\u001b[0m_lock\u001b[0m\u001b[1;33m:\u001b[0m\u001b[1;33m\u001b[0m\u001b[1;33m\u001b[0m\u001b[0m\n\u001b[0;32m    776\u001b[0m             \u001b[0mjob_idx\u001b[0m \u001b[1;33m=\u001b[0m \u001b[0mlen\u001b[0m\u001b[1;33m(\u001b[0m\u001b[0mself\u001b[0m\u001b[1;33m.\u001b[0m\u001b[0m_jobs\u001b[0m\u001b[1;33m)\u001b[0m\u001b[1;33m\u001b[0m\u001b[1;33m\u001b[0m\u001b[0m\n\u001b[1;32m--> 777\u001b[1;33m             \u001b[0mjob\u001b[0m \u001b[1;33m=\u001b[0m \u001b[0mself\u001b[0m\u001b[1;33m.\u001b[0m\u001b[0m_backend\u001b[0m\u001b[1;33m.\u001b[0m\u001b[0mapply_async\u001b[0m\u001b[1;33m(\u001b[0m\u001b[0mbatch\u001b[0m\u001b[1;33m,\u001b[0m \u001b[0mcallback\u001b[0m\u001b[1;33m=\u001b[0m\u001b[0mcb\u001b[0m\u001b[1;33m)\u001b[0m\u001b[1;33m\u001b[0m\u001b[1;33m\u001b[0m\u001b[0m\n\u001b[0m\u001b[0;32m    778\u001b[0m             \u001b[1;31m# A job can complete so quickly than its callback is\u001b[0m\u001b[1;33m\u001b[0m\u001b[1;33m\u001b[0m\u001b[1;33m\u001b[0m\u001b[0m\n\u001b[0;32m    779\u001b[0m             \u001b[1;31m# called before we get here, causing self._jobs to\u001b[0m\u001b[1;33m\u001b[0m\u001b[1;33m\u001b[0m\u001b[1;33m\u001b[0m\u001b[0m\n",
      "\u001b[1;32m~\\anaconda3\\lib\\site-packages\\joblib\\_parallel_backends.py\u001b[0m in \u001b[0;36mapply_async\u001b[1;34m(self, func, callback)\u001b[0m\n\u001b[0;32m    206\u001b[0m     \u001b[1;32mdef\u001b[0m \u001b[0mapply_async\u001b[0m\u001b[1;33m(\u001b[0m\u001b[0mself\u001b[0m\u001b[1;33m,\u001b[0m \u001b[0mfunc\u001b[0m\u001b[1;33m,\u001b[0m \u001b[0mcallback\u001b[0m\u001b[1;33m=\u001b[0m\u001b[1;32mNone\u001b[0m\u001b[1;33m)\u001b[0m\u001b[1;33m:\u001b[0m\u001b[1;33m\u001b[0m\u001b[1;33m\u001b[0m\u001b[0m\n\u001b[0;32m    207\u001b[0m         \u001b[1;34m\"\"\"Schedule a func to be run\"\"\"\u001b[0m\u001b[1;33m\u001b[0m\u001b[1;33m\u001b[0m\u001b[0m\n\u001b[1;32m--> 208\u001b[1;33m         \u001b[0mresult\u001b[0m \u001b[1;33m=\u001b[0m \u001b[0mImmediateResult\u001b[0m\u001b[1;33m(\u001b[0m\u001b[0mfunc\u001b[0m\u001b[1;33m)\u001b[0m\u001b[1;33m\u001b[0m\u001b[1;33m\u001b[0m\u001b[0m\n\u001b[0m\u001b[0;32m    209\u001b[0m         \u001b[1;32mif\u001b[0m \u001b[0mcallback\u001b[0m\u001b[1;33m:\u001b[0m\u001b[1;33m\u001b[0m\u001b[1;33m\u001b[0m\u001b[0m\n\u001b[0;32m    210\u001b[0m             \u001b[0mcallback\u001b[0m\u001b[1;33m(\u001b[0m\u001b[0mresult\u001b[0m\u001b[1;33m)\u001b[0m\u001b[1;33m\u001b[0m\u001b[1;33m\u001b[0m\u001b[0m\n",
      "\u001b[1;32m~\\anaconda3\\lib\\site-packages\\joblib\\_parallel_backends.py\u001b[0m in \u001b[0;36m__init__\u001b[1;34m(self, batch)\u001b[0m\n\u001b[0;32m    570\u001b[0m         \u001b[1;31m# Don't delay the application, to avoid keeping the input\u001b[0m\u001b[1;33m\u001b[0m\u001b[1;33m\u001b[0m\u001b[1;33m\u001b[0m\u001b[0m\n\u001b[0;32m    571\u001b[0m         \u001b[1;31m# arguments in memory\u001b[0m\u001b[1;33m\u001b[0m\u001b[1;33m\u001b[0m\u001b[1;33m\u001b[0m\u001b[0m\n\u001b[1;32m--> 572\u001b[1;33m         \u001b[0mself\u001b[0m\u001b[1;33m.\u001b[0m\u001b[0mresults\u001b[0m \u001b[1;33m=\u001b[0m \u001b[0mbatch\u001b[0m\u001b[1;33m(\u001b[0m\u001b[1;33m)\u001b[0m\u001b[1;33m\u001b[0m\u001b[1;33m\u001b[0m\u001b[0m\n\u001b[0m\u001b[0;32m    573\u001b[0m \u001b[1;33m\u001b[0m\u001b[0m\n\u001b[0;32m    574\u001b[0m     \u001b[1;32mdef\u001b[0m \u001b[0mget\u001b[0m\u001b[1;33m(\u001b[0m\u001b[0mself\u001b[0m\u001b[1;33m)\u001b[0m\u001b[1;33m:\u001b[0m\u001b[1;33m\u001b[0m\u001b[1;33m\u001b[0m\u001b[0m\n",
      "\u001b[1;32m~\\anaconda3\\lib\\site-packages\\joblib\\parallel.py\u001b[0m in \u001b[0;36m__call__\u001b[1;34m(self)\u001b[0m\n\u001b[0;32m    260\u001b[0m         \u001b[1;31m# change the default number of processes to -1\u001b[0m\u001b[1;33m\u001b[0m\u001b[1;33m\u001b[0m\u001b[1;33m\u001b[0m\u001b[0m\n\u001b[0;32m    261\u001b[0m         \u001b[1;32mwith\u001b[0m \u001b[0mparallel_backend\u001b[0m\u001b[1;33m(\u001b[0m\u001b[0mself\u001b[0m\u001b[1;33m.\u001b[0m\u001b[0m_backend\u001b[0m\u001b[1;33m,\u001b[0m \u001b[0mn_jobs\u001b[0m\u001b[1;33m=\u001b[0m\u001b[0mself\u001b[0m\u001b[1;33m.\u001b[0m\u001b[0m_n_jobs\u001b[0m\u001b[1;33m)\u001b[0m\u001b[1;33m:\u001b[0m\u001b[1;33m\u001b[0m\u001b[1;33m\u001b[0m\u001b[0m\n\u001b[1;32m--> 262\u001b[1;33m             return [func(*args, **kwargs)\n\u001b[0m\u001b[0;32m    263\u001b[0m                     for func, args, kwargs in self.items]\n\u001b[0;32m    264\u001b[0m \u001b[1;33m\u001b[0m\u001b[0m\n",
      "\u001b[1;32m~\\anaconda3\\lib\\site-packages\\joblib\\parallel.py\u001b[0m in \u001b[0;36m<listcomp>\u001b[1;34m(.0)\u001b[0m\n\u001b[0;32m    260\u001b[0m         \u001b[1;31m# change the default number of processes to -1\u001b[0m\u001b[1;33m\u001b[0m\u001b[1;33m\u001b[0m\u001b[1;33m\u001b[0m\u001b[0m\n\u001b[0;32m    261\u001b[0m         \u001b[1;32mwith\u001b[0m \u001b[0mparallel_backend\u001b[0m\u001b[1;33m(\u001b[0m\u001b[0mself\u001b[0m\u001b[1;33m.\u001b[0m\u001b[0m_backend\u001b[0m\u001b[1;33m,\u001b[0m \u001b[0mn_jobs\u001b[0m\u001b[1;33m=\u001b[0m\u001b[0mself\u001b[0m\u001b[1;33m.\u001b[0m\u001b[0m_n_jobs\u001b[0m\u001b[1;33m)\u001b[0m\u001b[1;33m:\u001b[0m\u001b[1;33m\u001b[0m\u001b[1;33m\u001b[0m\u001b[0m\n\u001b[1;32m--> 262\u001b[1;33m             return [func(*args, **kwargs)\n\u001b[0m\u001b[0;32m    263\u001b[0m                     for func, args, kwargs in self.items]\n\u001b[0;32m    264\u001b[0m \u001b[1;33m\u001b[0m\u001b[0m\n",
      "\u001b[1;32m~\\anaconda3\\lib\\site-packages\\sklearn\\utils\\fixes.py\u001b[0m in \u001b[0;36m__call__\u001b[1;34m(self, *args, **kwargs)\u001b[0m\n\u001b[0;32m    220\u001b[0m     \u001b[1;32mdef\u001b[0m \u001b[0m__call__\u001b[0m\u001b[1;33m(\u001b[0m\u001b[0mself\u001b[0m\u001b[1;33m,\u001b[0m \u001b[1;33m*\u001b[0m\u001b[0margs\u001b[0m\u001b[1;33m,\u001b[0m \u001b[1;33m**\u001b[0m\u001b[0mkwargs\u001b[0m\u001b[1;33m)\u001b[0m\u001b[1;33m:\u001b[0m\u001b[1;33m\u001b[0m\u001b[1;33m\u001b[0m\u001b[0m\n\u001b[0;32m    221\u001b[0m         \u001b[1;32mwith\u001b[0m \u001b[0mconfig_context\u001b[0m\u001b[1;33m(\u001b[0m\u001b[1;33m**\u001b[0m\u001b[0mself\u001b[0m\u001b[1;33m.\u001b[0m\u001b[0mconfig\u001b[0m\u001b[1;33m)\u001b[0m\u001b[1;33m:\u001b[0m\u001b[1;33m\u001b[0m\u001b[1;33m\u001b[0m\u001b[0m\n\u001b[1;32m--> 222\u001b[1;33m             \u001b[1;32mreturn\u001b[0m \u001b[0mself\u001b[0m\u001b[1;33m.\u001b[0m\u001b[0mfunction\u001b[0m\u001b[1;33m(\u001b[0m\u001b[1;33m*\u001b[0m\u001b[0margs\u001b[0m\u001b[1;33m,\u001b[0m \u001b[1;33m**\u001b[0m\u001b[0mkwargs\u001b[0m\u001b[1;33m)\u001b[0m\u001b[1;33m\u001b[0m\u001b[1;33m\u001b[0m\u001b[0m\n\u001b[0m",
      "\u001b[1;32m~\\anaconda3\\lib\\site-packages\\sklearn\\ensemble\\_forest.py\u001b[0m in \u001b[0;36m_parallel_build_trees\u001b[1;34m(tree, forest, X, y, sample_weight, tree_idx, n_trees, verbose, class_weight, n_samples_bootstrap)\u001b[0m\n\u001b[0;32m    167\u001b[0m                                                         indices=indices)\n\u001b[0;32m    168\u001b[0m \u001b[1;33m\u001b[0m\u001b[0m\n\u001b[1;32m--> 169\u001b[1;33m         \u001b[0mtree\u001b[0m\u001b[1;33m.\u001b[0m\u001b[0mfit\u001b[0m\u001b[1;33m(\u001b[0m\u001b[0mX\u001b[0m\u001b[1;33m,\u001b[0m \u001b[0my\u001b[0m\u001b[1;33m,\u001b[0m \u001b[0msample_weight\u001b[0m\u001b[1;33m=\u001b[0m\u001b[0mcurr_sample_weight\u001b[0m\u001b[1;33m,\u001b[0m \u001b[0mcheck_input\u001b[0m\u001b[1;33m=\u001b[0m\u001b[1;32mFalse\u001b[0m\u001b[1;33m)\u001b[0m\u001b[1;33m\u001b[0m\u001b[1;33m\u001b[0m\u001b[0m\n\u001b[0m\u001b[0;32m    170\u001b[0m     \u001b[1;32melse\u001b[0m\u001b[1;33m:\u001b[0m\u001b[1;33m\u001b[0m\u001b[1;33m\u001b[0m\u001b[0m\n\u001b[0;32m    171\u001b[0m         \u001b[0mtree\u001b[0m\u001b[1;33m.\u001b[0m\u001b[0mfit\u001b[0m\u001b[1;33m(\u001b[0m\u001b[0mX\u001b[0m\u001b[1;33m,\u001b[0m \u001b[0my\u001b[0m\u001b[1;33m,\u001b[0m \u001b[0msample_weight\u001b[0m\u001b[1;33m=\u001b[0m\u001b[0msample_weight\u001b[0m\u001b[1;33m,\u001b[0m \u001b[0mcheck_input\u001b[0m\u001b[1;33m=\u001b[0m\u001b[1;32mFalse\u001b[0m\u001b[1;33m)\u001b[0m\u001b[1;33m\u001b[0m\u001b[1;33m\u001b[0m\u001b[0m\n",
      "\u001b[1;32m~\\anaconda3\\lib\\site-packages\\sklearn\\tree\\_classes.py\u001b[0m in \u001b[0;36mfit\u001b[1;34m(self, X, y, sample_weight, check_input, X_idx_sorted)\u001b[0m\n\u001b[0;32m    896\u001b[0m         \"\"\"\n\u001b[0;32m    897\u001b[0m \u001b[1;33m\u001b[0m\u001b[0m\n\u001b[1;32m--> 898\u001b[1;33m         super().fit(\n\u001b[0m\u001b[0;32m    899\u001b[0m             \u001b[0mX\u001b[0m\u001b[1;33m,\u001b[0m \u001b[0my\u001b[0m\u001b[1;33m,\u001b[0m\u001b[1;33m\u001b[0m\u001b[1;33m\u001b[0m\u001b[0m\n\u001b[0;32m    900\u001b[0m             \u001b[0msample_weight\u001b[0m\u001b[1;33m=\u001b[0m\u001b[0msample_weight\u001b[0m\u001b[1;33m,\u001b[0m\u001b[1;33m\u001b[0m\u001b[1;33m\u001b[0m\u001b[0m\n",
      "\u001b[1;32m~\\anaconda3\\lib\\site-packages\\sklearn\\tree\\_classes.py\u001b[0m in \u001b[0;36mfit\u001b[1;34m(self, X, y, sample_weight, check_input, X_idx_sorted)\u001b[0m\n\u001b[0;32m    387\u001b[0m                                            min_impurity_split)\n\u001b[0;32m    388\u001b[0m \u001b[1;33m\u001b[0m\u001b[0m\n\u001b[1;32m--> 389\u001b[1;33m         \u001b[0mbuilder\u001b[0m\u001b[1;33m.\u001b[0m\u001b[0mbuild\u001b[0m\u001b[1;33m(\u001b[0m\u001b[0mself\u001b[0m\u001b[1;33m.\u001b[0m\u001b[0mtree_\u001b[0m\u001b[1;33m,\u001b[0m \u001b[0mX\u001b[0m\u001b[1;33m,\u001b[0m \u001b[0my\u001b[0m\u001b[1;33m,\u001b[0m \u001b[0msample_weight\u001b[0m\u001b[1;33m)\u001b[0m\u001b[1;33m\u001b[0m\u001b[1;33m\u001b[0m\u001b[0m\n\u001b[0m\u001b[0;32m    390\u001b[0m \u001b[1;33m\u001b[0m\u001b[0m\n\u001b[0;32m    391\u001b[0m         \u001b[1;32mif\u001b[0m \u001b[0mself\u001b[0m\u001b[1;33m.\u001b[0m\u001b[0mn_outputs_\u001b[0m \u001b[1;33m==\u001b[0m \u001b[1;36m1\u001b[0m \u001b[1;32mand\u001b[0m \u001b[0mis_classifier\u001b[0m\u001b[1;33m(\u001b[0m\u001b[0mself\u001b[0m\u001b[1;33m)\u001b[0m\u001b[1;33m:\u001b[0m\u001b[1;33m\u001b[0m\u001b[1;33m\u001b[0m\u001b[0m\n",
      "\u001b[1;31mKeyboardInterrupt\u001b[0m: "
     ]
    }
   ],
   "source": [
    "rf_moodel = RandomForestClassifier()\n",
    "rf_grid = GridSearchCV(estimator=rf_moodel, param_grid=param_grid)\n",
    "rf_grid.fit(X_train, y_train)\n",
    "rf_grid.best_params_"
   ]
  },
  {
   "cell_type": "code",
   "execution_count": 162,
   "id": "e67c66b0",
   "metadata": {
    "slideshow": {
     "slide_type": "skip"
    }
   },
   "outputs": [],
   "source": []
  },
  {
   "cell_type": "code",
   "execution_count": 164,
   "id": "1e550ddf",
   "metadata": {
    "slideshow": {
     "slide_type": "skip"
    }
   },
   "outputs": [
    {
     "ename": "AttributeError",
     "evalue": "'GridSearchCV' object has no attribute 'best_params_'",
     "output_type": "error",
     "traceback": [
      "\u001b[1;31m---------------------------------------------------------------------------\u001b[0m",
      "\u001b[1;31mAttributeError\u001b[0m                            Traceback (most recent call last)",
      "\u001b[1;32m<ipython-input-164-5fca436e917b>\u001b[0m in \u001b[0;36m<module>\u001b[1;34m\u001b[0m\n\u001b[1;32m----> 1\u001b[1;33m \u001b[0mrf_grid\u001b[0m\u001b[1;33m.\u001b[0m\u001b[0mbest_params_\u001b[0m\u001b[1;33m\u001b[0m\u001b[1;33m\u001b[0m\u001b[0m\n\u001b[0m",
      "\u001b[1;31mAttributeError\u001b[0m: 'GridSearchCV' object has no attribute 'best_params_'"
     ]
    }
   ],
   "source": []
  },
  {
   "cell_type": "code",
   "execution_count": 182,
   "id": "0e7aee2c",
   "metadata": {
    "slideshow": {
     "slide_type": "skip"
    }
   },
   "outputs": [
    {
     "name": "stdout",
     "output_type": "stream",
     "text": [
      "0.8711111111111111\n",
      "[[13  0  0  0  0  0  0]\n",
      " [ 0 14  4  0  1  0  3]\n",
      " [ 0  6 46  0  0  0  0]\n",
      " [ 3  0  0 15  0  0  0]\n",
      " [ 0  0  0  0 31  0  0]\n",
      " [ 0  1  0  0  0 52  0]\n",
      " [ 0  7  1  0  1  2 25]]\n",
      "(33,)\n"
     ]
    },
    {
     "data": {
      "text/plain": [
       "<BarContainer object of 33 artists>"
      ]
     },
     "execution_count": 182,
     "metadata": {},
     "output_type": "execute_result"
    },
    {
     "data": {
      "image/png": "[encoded data removed]",
      "text/plain": [
       "<Figure size 576x432 with 1 Axes>"
      ]
     },
     "metadata": {
      "needs_background": "light"
     },
     "output_type": "display_data"
    }
   ],
   "source": [
    "rf_best_model = RandomForestClassifier(n_estimators=70, bootstrap=True,\n",
    "                                       max_features='log2', max_depth=None)\n",
    "rf_best_model.fit(X_train, y_train)\n",
    "print(f\"{rf_best_model.score(X_test, y_test)}\")\n",
    "print(confusion_matrix(rf_best_model.predict(X_test), y_test))\n",
    "importances = rf_best_model.feature_importances_\n",
    "print(importances.shape)\n",
    "fig = plt.figure(figsize=(8,6))\n",
    "plt.bar(range(33),importances)\n",
    "# pd.Series(importances.sort()).plot.bar()\n"
   ]
  },
  {
   "cell_type": "code",
   "execution_count": null,
   "id": "25bb74d6",
   "metadata": {
    "slideshow": {
     "slide_type": "skip"
    }
   },
   "outputs": [],
   "source": [
    "fpr i in range(1,100):\n",
    "    rf_best_model = RandomForestClassifier(n_estimators=70, bootstrap=True,\n",
    "                                           max_features='log2', max_depth=None)\n",
    "    rf_best_model.fit(X_train, y_train)\n",
    "    print(f\"{rf_best_model.score(X_test, y_test)}\")\n",
    "print(confusion_matrix(rf_best_model.predict(X_test), y_test))"
   ]
  },
  {
   "cell_type": "markdown",
   "id": "7852a2ca",
   "metadata": {
    "slideshow": {
     "slide_type": "skip"
    }
   },
   "source": [
    "## LOGISTIC REGRESSION"
   ]
  },
  {
   "cell_type": "code",
   "execution_count": 21,
   "id": "94e5b061",
   "metadata": {
    "slideshow": {
     "slide_type": "skip"
    }
   },
   "outputs": [
    {
     "name": "stderr",
     "output_type": "stream",
     "text": [
      "C:\\Users\\User\\anaconda3\\lib\\site-packages\\sklearn\\linear_model\\_logistic.py:763: ConvergenceWarning: lbfgs failed to converge (status=1):\n",
      "STOP: TOTAL NO. of ITERATIONS REACHED LIMIT.\n",
      "\n",
      "Increase the number of iterations (max_iter) or scale the data as shown in:\n",
      "    https://scikit-learn.org/stable/modules/preprocessing.html\n",
      "Please also refer to the documentation for alternative solver options:\n",
      "    https://scikit-learn.org/stable/modules/linear_model.html#logistic-regression\n",
      "  n_iter_i = _check_optimize_result(\n"
     ]
    }
   ],
   "source": [
    "model = LogisticRegression().fit(X_train, y_train)"
   ]
  },
  {
   "cell_type": "code",
   "execution_count": 20,
   "id": "063eb3f3",
   "metadata": {
    "slideshow": {
     "slide_type": "skip"
    }
   },
   "outputs": [
    {
     "name": "stderr",
     "output_type": "stream",
     "text": [
      "C:\\Users\\User\\anaconda3\\lib\\site-packages\\sklearn\\linear_model\\_logistic.py:763: ConvergenceWarning: lbfgs failed to converge (status=1):\n",
      "STOP: TOTAL NO. of ITERATIONS REACHED LIMIT.\n",
      "\n",
      "Increase the number of iterations (max_iter) or scale the data as shown in:\n",
      "    https://scikit-learn.org/stable/modules/preprocessing.html\n",
      "Please also refer to the documentation for alternative solver options:\n",
      "    https://scikit-learn.org/stable/modules/linear_model.html#logistic-regression\n",
      "  n_iter_i = _check_optimize_result(\n",
      "C:\\Users\\User\\anaconda3\\lib\\site-packages\\sklearn\\linear_model\\_logistic.py:763: ConvergenceWarning: lbfgs failed to converge (status=1):\n",
      "STOP: TOTAL NO. of ITERATIONS REACHED LIMIT.\n",
      "\n",
      "Increase the number of iterations (max_iter) or scale the data as shown in:\n",
      "    https://scikit-learn.org/stable/modules/preprocessing.html\n",
      "Please also refer to the documentation for alternative solver options:\n",
      "    https://scikit-learn.org/stable/modules/linear_model.html#logistic-regression\n",
      "  n_iter_i = _check_optimize_result(\n",
      "C:\\Users\\User\\anaconda3\\lib\\site-packages\\sklearn\\linear_model\\_logistic.py:763: ConvergenceWarning: lbfgs failed to converge (status=1):\n",
      "STOP: TOTAL NO. of ITERATIONS REACHED LIMIT.\n",
      "\n",
      "Increase the number of iterations (max_iter) or scale the data as shown in:\n",
      "    https://scikit-learn.org/stable/modules/preprocessing.html\n",
      "Please also refer to the documentation for alternative solver options:\n",
      "    https://scikit-learn.org/stable/modules/linear_model.html#logistic-regression\n",
      "  n_iter_i = _check_optimize_result(\n",
      "C:\\Users\\User\\anaconda3\\lib\\site-packages\\sklearn\\linear_model\\_logistic.py:763: ConvergenceWarning: lbfgs failed to converge (status=1):\n",
      "STOP: TOTAL NO. of ITERATIONS REACHED LIMIT.\n",
      "\n",
      "Increase the number of iterations (max_iter) or scale the data as shown in:\n",
      "    https://scikit-learn.org/stable/modules/preprocessing.html\n",
      "Please also refer to the documentation for alternative solver options:\n",
      "    https://scikit-learn.org/stable/modules/linear_model.html#logistic-regression\n",
      "  n_iter_i = _check_optimize_result(\n"
     ]
    },
    {
     "name": "stdout",
     "output_type": "stream",
     "text": [
      "Mean Accuracy: 0.560 (0.062)\n"
     ]
    },
    {
     "name": "stderr",
     "output_type": "stream",
     "text": [
      "C:\\Users\\User\\anaconda3\\lib\\site-packages\\sklearn\\linear_model\\_logistic.py:763: ConvergenceWarning: lbfgs failed to converge (status=1):\n",
      "STOP: TOTAL NO. of ITERATIONS REACHED LIMIT.\n",
      "\n",
      "Increase the number of iterations (max_iter) or scale the data as shown in:\n",
      "    https://scikit-learn.org/stable/modules/preprocessing.html\n",
      "Please also refer to the documentation for alternative solver options:\n",
      "    https://scikit-learn.org/stable/modules/linear_model.html#logistic-regression\n",
      "  n_iter_i = _check_optimize_result(\n"
     ]
    }
   ],
   "source": [
    "# evaluate the model and collect the scores\n",
    "n_scores = cross_val_score(model, X_test, y_test, scoring='accuracy')\n",
    "# report the model performance\n",
    "print('Mean Accuracy: %.3f (%.3f)' % (np.mean(n_scores), np.std(n_scores)))"
   ]
  },
  {
   "cell_type": "code",
   "execution_count": 22,
   "id": "2b9dac86",
   "metadata": {
    "slideshow": {
     "slide_type": "skip"
    }
   },
   "outputs": [
    {
     "data": {
      "text/plain": [
       "0.5688888888888889"
      ]
     },
     "execution_count": 22,
     "metadata": {},
     "output_type": "execute_result"
    }
   ],
   "source": [
    "model.score(X_test, y_test)"
   ]
  },
  {
   "cell_type": "code",
   "execution_count": 34,
   "id": "2e84f4e4",
   "metadata": {
    "slideshow": {
     "slide_type": "skip"
    }
   },
   "outputs": [
    {
     "data": {
      "text/plain": [
       "{'BERHI': 'r.',\n",
       " 'DEGLET': 'b.',\n",
       " 'DOKOL': 'g.',\n",
       " 'IRAQI': 'y.',\n",
       " 'ROTANA': 'm.',\n",
       " 'SAFAVI': 'c.',\n",
       " 'SOGAY': 'k.'}"
      ]
     },
     "execution_count": 34,
     "metadata": {},
     "output_type": "execute_result"
    }
   ],
   "source": [
    "date_fruit_target\n",
    "class_dict"
   ]
  },
  {
   "cell_type": "code",
   "execution_count": 38,
   "id": "8e75fb2d",
   "metadata": {
    "slideshow": {
     "slide_type": "skip"
    }
   },
   "outputs": [
    {
     "data": {
      "text/plain": [
       "{'BERHI': array([ True,  True,  True,  True,  True,  True,  True,  True,  True,\n",
       "         True,  True,  True,  True,  True,  True,  True,  True,  True,\n",
       "         True,  True,  True,  True,  True,  True,  True,  True,  True,\n",
       "         True,  True,  True,  True,  True,  True,  True,  True,  True,\n",
       "         True,  True,  True,  True,  True,  True,  True,  True,  True,\n",
       "         True,  True,  True,  True,  True,  True,  True,  True,  True,\n",
       "         True,  True,  True,  True,  True,  True,  True,  True,  True,\n",
       "         True,  True, False, False, False, False, False, False, False,\n",
       "        False, False, False, False, False, False, False, False, False,\n",
       "        False, False, False, False, False, False, False, False, False,\n",
       "        False, False, False, False, False, False, False, False, False,\n",
       "        False, False, False, False, False, False, False, False, False,\n",
       "        False, False, False, False, False, False, False, False, False,\n",
       "        False, False, False, False, False, False, False, False, False,\n",
       "        False, False, False, False, False, False, False, False, False,\n",
       "        False, False, False, False, False, False, False, False, False,\n",
       "        False, False, False, False, False, False, False, False, False,\n",
       "        False, False, False, False, False, False, False, False, False,\n",
       "        False, False, False, False, False, False, False, False, False,\n",
       "        False, False, False, False, False, False, False, False, False,\n",
       "        False, False, False, False, False, False, False, False, False,\n",
       "        False, False, False, False, False, False, False, False, False,\n",
       "        False, False, False, False, False, False, False, False, False,\n",
       "        False, False, False, False, False, False, False, False, False,\n",
       "        False, False, False, False, False, False, False, False, False,\n",
       "        False, False, False, False, False, False, False, False, False,\n",
       "        False, False, False, False, False, False, False, False, False,\n",
       "        False, False, False, False, False, False, False, False, False,\n",
       "        False, False, False, False, False, False, False, False, False,\n",
       "        False, False, False, False, False, False, False, False, False,\n",
       "        False, False, False, False, False, False, False, False, False,\n",
       "        False, False, False, False, False, False, False, False, False,\n",
       "        False, False, False, False, False, False, False, False, False,\n",
       "        False, False, False, False, False, False, False, False, False,\n",
       "        False, False, False, False, False, False, False, False, False,\n",
       "        False, False, False, False, False, False, False, False, False,\n",
       "        False, False, False, False, False, False, False, False, False,\n",
       "        False, False, False, False, False, False, False, False, False,\n",
       "        False, False, False, False, False, False, False, False, False,\n",
       "        False, False, False, False, False, False, False, False, False,\n",
       "        False, False, False, False, False, False, False, False, False,\n",
       "        False, False, False, False, False, False, False, False, False,\n",
       "        False, False, False, False, False, False, False, False, False,\n",
       "        False, False, False, False, False, False, False, False, False,\n",
       "        False, False, False, False, False, False, False, False, False,\n",
       "        False, False, False, False, False, False, False, False, False,\n",
       "        False, False, False, False, False, False, False, False, False,\n",
       "        False, False, False, False, False, False, False, False, False,\n",
       "        False, False, False, False, False, False, False, False, False,\n",
       "        False, False, False, False, False, False, False, False, False,\n",
       "        False, False, False, False, False, False, False, False, False,\n",
       "        False, False, False, False, False, False, False, False, False,\n",
       "        False, False, False, False, False, False, False, False, False,\n",
       "        False, False, False, False, False, False, False, False, False,\n",
       "        False, False, False, False, False, False, False, False, False,\n",
       "        False, False, False, False, False, False, False, False, False,\n",
       "        False, False, False, False, False, False, False, False, False,\n",
       "        False, False, False, False, False, False, False, False, False,\n",
       "        False, False, False, False, False, False, False, False, False,\n",
       "        False, False, False, False, False, False, False, False, False,\n",
       "        False, False, False, False, False, False, False, False, False,\n",
       "        False, False, False, False, False, False, False, False, False,\n",
       "        False, False, False, False, False, False, False, False, False,\n",
       "        False, False, False, False, False, False, False, False, False,\n",
       "        False, False, False, False, False, False, False, False, False,\n",
       "        False, False, False, False, False, False, False, False, False,\n",
       "        False, False, False, False, False, False, False, False, False,\n",
       "        False, False, False, False, False, False, False, False, False,\n",
       "        False, False, False, False, False, False, False, False, False,\n",
       "        False, False, False, False, False, False, False, False, False,\n",
       "        False, False, False, False, False, False, False, False, False,\n",
       "        False, False, False, False, False, False, False, False, False,\n",
       "        False, False, False, False, False, False, False, False, False,\n",
       "        False, False, False, False, False, False, False, False, False,\n",
       "        False, False, False, False, False, False, False, False, False,\n",
       "        False, False, False, False, False, False, False, False, False,\n",
       "        False, False, False, False, False, False, False, False, False,\n",
       "        False, False, False, False, False, False, False, False, False,\n",
       "        False, False, False, False, False, False, False, False, False,\n",
       "        False, False, False, False, False, False, False, False, False,\n",
       "        False, False, False, False, False, False, False, False, False,\n",
       "        False, False, False, False, False, False, False, False, False,\n",
       "        False, False, False, False, False, False, False, False, False,\n",
       "        False, False, False, False, False, False, False, False, False,\n",
       "        False, False, False, False, False, False, False, False, False,\n",
       "        False, False, False, False, False, False, False, False, False,\n",
       "        False, False, False, False, False, False, False, False, False,\n",
       "        False, False, False, False, False, False, False, False, False,\n",
       "        False, False, False, False, False, False, False, False, False,\n",
       "        False, False, False, False, False, False, False, False, False,\n",
       "        False, False, False, False, False, False, False, False, False,\n",
       "        False, False, False, False, False, False, False, False, False,\n",
       "        False, False, False, False, False, False, False, False, False,\n",
       "        False, False, False, False, False, False, False, False, False,\n",
       "        False, False, False, False, False, False, False, False, False,\n",
       "        False, False, False, False, False, False, False, False, False,\n",
       "        False, False, False, False, False, False, False, False, False,\n",
       "        False, False, False, False, False, False, False, False, False,\n",
       "        False, False, False, False, False, False, False, False, False,\n",
       "        False, False, False, False, False, False, False]),\n",
       " 'DEGLET': array([False, False, False, False, False, False, False, False, False,\n",
       "        False, False, False, False, False, False, False, False, False,\n",
       "        False, False, False, False, False, False, False, False, False,\n",
       "        False, False, False, False, False, False, False, False, False,\n",
       "        False, False, False, False, False, False, False, False, False,\n",
       "        False, False, False, False, False, False, False, False, False,\n",
       "        False, False, False, False, False, False, False, False, False,\n",
       "        False, False,  True,  True,  True,  True,  True,  True,  True,\n",
       "         True,  True,  True,  True,  True,  True,  True,  True,  True,\n",
       "         True,  True,  True,  True,  True,  True,  True,  True,  True,\n",
       "         True,  True,  True,  True,  True,  True,  True,  True,  True,\n",
       "         True,  True,  True,  True,  True,  True,  True,  True,  True,\n",
       "         True,  True,  True,  True,  True,  True,  True,  True,  True,\n",
       "         True,  True,  True,  True,  True,  True,  True,  True,  True,\n",
       "         True,  True,  True,  True,  True,  True,  True,  True,  True,\n",
       "         True,  True,  True,  True,  True,  True,  True,  True,  True,\n",
       "         True,  True,  True,  True,  True,  True,  True,  True,  True,\n",
       "         True,  True,  True,  True,  True,  True,  True,  True,  True,\n",
       "         True, False, False, False, False, False, False, False, False,\n",
       "        False, False, False, False, False, False, False, False, False,\n",
       "        False, False, False, False, False, False, False, False, False,\n",
       "        False, False, False, False, False, False, False, False, False,\n",
       "        False, False, False, False, False, False, False, False, False,\n",
       "        False, False, False, False, False, False, False, False, False,\n",
       "        False, False, False, False, False, False, False, False, False,\n",
       "        False, False, False, False, False, False, False, False, False,\n",
       "        False, False, False, False, False, False, False, False, False,\n",
       "        False, False, False, False, False, False, False, False, False,\n",
       "        False, False, False, False, False, False, False, False, False,\n",
       "        False, False, False, False, False, False, False, False, False,\n",
       "        False, False, False, False, False, False, False, False, False,\n",
       "        False, False, False, False, False, False, False, False, False,\n",
       "        False, False, False, False, False, False, False, False, False,\n",
       "        False, False, False, False, False, False, False, False, False,\n",
       "        False, False, False, False, False, False, False, False, False,\n",
       "        False, False, False, False, False, False, False, False, False,\n",
       "        False, False, False, False, False, False, False, False, False,\n",
       "        False, False, False, False, False, False, False, False, False,\n",
       "        False, False, False, False, False, False, False, False, False,\n",
       "        False, False, False, False, False, False, False, False, False,\n",
       "        False, False, False, False, False, False, False, False, False,\n",
       "        False, False, False, False, False, False, False, False, False,\n",
       "        False, False, False, False, False, False, False, False, False,\n",
       "        False, False, False, False, False, False, False, False, False,\n",
       "        False, False, False, False, False, False, False, False, False,\n",
       "        False, False, False, False, False, False, False, False, False,\n",
       "        False, False, False, False, False, False, False, False, False,\n",
       "        False, False, False, False, False, False, False, False, False,\n",
       "        False, False, False, False, False, False, False, False, False,\n",
       "        False, False, False, False, False, False, False, False, False,\n",
       "        False, False, False, False, False, False, False, False, False,\n",
       "        False, False, False, False, False, False, False, False, False,\n",
       "        False, False, False, False, False, False, False, False, False,\n",
       "        False, False, False, False, False, False, False, False, False,\n",
       "        False, False, False, False, False, False, False, False, False,\n",
       "        False, False, False, False, False, False, False, False, False,\n",
       "        False, False, False, False, False, False, False, False, False,\n",
       "        False, False, False, False, False, False, False, False, False,\n",
       "        False, False, False, False, False, False, False, False, False,\n",
       "        False, False, False, False, False, False, False, False, False,\n",
       "        False, False, False, False, False, False, False, False, False,\n",
       "        False, False, False, False, False, False, False, False, False,\n",
       "        False, False, False, False, False, False, False, False, False,\n",
       "        False, False, False, False, False, False, False, False, False,\n",
       "        False, False, False, False, False, False, False, False, False,\n",
       "        False, False, False, False, False, False, False, False, False,\n",
       "        False, False, False, False, False, False, False, False, False,\n",
       "        False, False, False, False, False, False, False, False, False,\n",
       "        False, False, False, False, False, False, False, False, False,\n",
       "        False, False, False, False, False, False, False, False, False,\n",
       "        False, False, False, False, False, False, False, False, False,\n",
       "        False, False, False, False, False, False, False, False, False,\n",
       "        False, False, False, False, False, False, False, False, False,\n",
       "        False, False, False, False, False, False, False, False, False,\n",
       "        False, False, False, False, False, False, False, False, False,\n",
       "        False, False, False, False, False, False, False, False, False,\n",
       "        False, False, False, False, False, False, False, False, False,\n",
       "        False, False, False, False, False, False, False, False, False,\n",
       "        False, False, False, False, False, False, False, False, False,\n",
       "        False, False, False, False, False, False, False, False, False,\n",
       "        False, False, False, False, False, False, False, False, False,\n",
       "        False, False, False, False, False, False, False, False, False,\n",
       "        False, False, False, False, False, False, False, False, False,\n",
       "        False, False, False, False, False, False, False, False, False,\n",
       "        False, False, False, False, False, False, False, False, False,\n",
       "        False, False, False, False, False, False, False, False, False,\n",
       "        False, False, False, False, False, False, False, False, False,\n",
       "        False, False, False, False, False, False, False, False, False,\n",
       "        False, False, False, False, False, False, False, False, False,\n",
       "        False, False, False, False, False, False, False, False, False,\n",
       "        False, False, False, False, False, False, False, False, False,\n",
       "        False, False, False, False, False, False, False, False, False,\n",
       "        False, False, False, False, False, False, False, False, False,\n",
       "        False, False, False, False, False, False, False, False, False,\n",
       "        False, False, False, False, False, False, False, False, False,\n",
       "        False, False, False, False, False, False, False, False, False,\n",
       "        False, False, False, False, False, False, False, False, False,\n",
       "        False, False, False, False, False, False, False, False, False,\n",
       "        False, False, False, False, False, False, False, False, False,\n",
       "        False, False, False, False, False, False, False]),\n",
       " 'DOKOL': array([False, False, False, False, False, False, False, False, False,\n",
       "        False, False, False, False, False, False, False, False, False,\n",
       "        False, False, False, False, False, False, False, False, False,\n",
       "        False, False, False, False, False, False, False, False, False,\n",
       "        False, False, False, False, False, False, False, False, False,\n",
       "        False, False, False, False, False, False, False, False, False,\n",
       "        False, False, False, False, False, False, False, False, False,\n",
       "        False, False, False, False, False, False, False, False, False,\n",
       "        False, False, False, False, False, False, False, False, False,\n",
       "        False, False, False, False, False, False, False, False, False,\n",
       "        False, False, False, False, False, False, False, False, False,\n",
       "        False, False, False, False, False, False, False, False, False,\n",
       "        False, False, False, False, False, False, False, False, False,\n",
       "        False, False, False, False, False, False, False, False, False,\n",
       "        False, False, False, False, False, False, False, False, False,\n",
       "        False, False, False, False, False, False, False, False, False,\n",
       "        False, False, False, False, False, False, False, False, False,\n",
       "        False, False, False, False, False, False, False, False, False,\n",
       "        False,  True,  True,  True,  True,  True,  True,  True,  True,\n",
       "         True,  True,  True,  True,  True,  True,  True,  True,  True,\n",
       "         True,  True,  True,  True,  True,  True,  True,  True,  True,\n",
       "         True,  True,  True,  True,  True,  True,  True,  True,  True,\n",
       "         True,  True,  True,  True,  True,  True,  True,  True,  True,\n",
       "         True,  True,  True,  True,  True,  True,  True,  True,  True,\n",
       "         True,  True,  True,  True,  True,  True,  True,  True,  True,\n",
       "         True,  True,  True,  True,  True,  True,  True,  True,  True,\n",
       "         True,  True,  True,  True,  True,  True,  True,  True,  True,\n",
       "         True,  True,  True,  True,  True,  True,  True,  True,  True,\n",
       "         True,  True,  True,  True,  True,  True,  True,  True,  True,\n",
       "         True,  True,  True,  True,  True,  True,  True,  True,  True,\n",
       "         True,  True,  True,  True,  True,  True,  True,  True,  True,\n",
       "         True,  True,  True,  True,  True,  True,  True,  True,  True,\n",
       "         True,  True,  True,  True,  True,  True,  True,  True,  True,\n",
       "         True,  True,  True,  True,  True,  True,  True,  True,  True,\n",
       "         True,  True,  True,  True,  True,  True,  True,  True,  True,\n",
       "         True,  True,  True,  True,  True,  True,  True,  True,  True,\n",
       "         True,  True,  True,  True,  True,  True,  True,  True,  True,\n",
       "         True,  True,  True,  True,  True,  True,  True,  True,  True,\n",
       "         True,  True,  True,  True,  True,  True,  True,  True,  True,\n",
       "         True,  True,  True,  True,  True,  True,  True,  True,  True,\n",
       "         True,  True,  True,  True,  True,  True,  True, False, False,\n",
       "        False, False, False, False, False, False, False, False, False,\n",
       "        False, False, False, False, False, False, False, False, False,\n",
       "        False, False, False, False, False, False, False, False, False,\n",
       "        False, False, False, False, False, False, False, False, False,\n",
       "        False, False, False, False, False, False, False, False, False,\n",
       "        False, False, False, False, False, False, False, False, False,\n",
       "        False, False, False, False, False, False, False, False, False,\n",
       "        False, False, False, False, False, False, False, False, False,\n",
       "        False, False, False, False, False, False, False, False, False,\n",
       "        False, False, False, False, False, False, False, False, False,\n",
       "        False, False, False, False, False, False, False, False, False,\n",
       "        False, False, False, False, False, False, False, False, False,\n",
       "        False, False, False, False, False, False, False, False, False,\n",
       "        False, False, False, False, False, False, False, False, False,\n",
       "        False, False, False, False, False, False, False, False, False,\n",
       "        False, False, False, False, False, False, False, False, False,\n",
       "        False, False, False, False, False, False, False, False, False,\n",
       "        False, False, False, False, False, False, False, False, False,\n",
       "        False, False, False, False, False, False, False, False, False,\n",
       "        False, False, False, False, False, False, False, False, False,\n",
       "        False, False, False, False, False, False, False, False, False,\n",
       "        False, False, False, False, False, False, False, False, False,\n",
       "        False, False, False, False, False, False, False, False, False,\n",
       "        False, False, False, False, False, False, False, False, False,\n",
       "        False, False, False, False, False, False, False, False, False,\n",
       "        False, False, False, False, False, False, False, False, False,\n",
       "        False, False, False, False, False, False, False, False, False,\n",
       "        False, False, False, False, False, False, False, False, False,\n",
       "        False, False, False, False, False, False, False, False, False,\n",
       "        False, False, False, False, False, False, False, False, False,\n",
       "        False, False, False, False, False, False, False, False, False,\n",
       "        False, False, False, False, False, False, False, False, False,\n",
       "        False, False, False, False, False, False, False, False, False,\n",
       "        False, False, False, False, False, False, False, False, False,\n",
       "        False, False, False, False, False, False, False, False, False,\n",
       "        False, False, False, False, False, False, False, False, False,\n",
       "        False, False, False, False, False, False, False, False, False,\n",
       "        False, False, False, False, False, False, False, False, False,\n",
       "        False, False, False, False, False, False, False, False, False,\n",
       "        False, False, False, False, False, False, False, False, False,\n",
       "        False, False, False, False, False, False, False, False, False,\n",
       "        False, False, False, False, False, False, False, False, False,\n",
       "        False, False, False, False, False, False, False, False, False,\n",
       "        False, False, False, False, False, False, False, False, False,\n",
       "        False, False, False, False, False, False, False, False, False,\n",
       "        False, False, False, False, False, False, False, False, False,\n",
       "        False, False, False, False, False, False, False, False, False,\n",
       "        False, False, False, False, False, False, False, False, False,\n",
       "        False, False, False, False, False, False, False, False, False,\n",
       "        False, False, False, False, False, False, False, False, False,\n",
       "        False, False, False, False, False, False, False, False, False,\n",
       "        False, False, False, False, False, False, False, False, False,\n",
       "        False, False, False, False, False, False, False, False, False,\n",
       "        False, False, False, False, False, False, False, False, False,\n",
       "        False, False, False, False, False, False, False, False, False,\n",
       "        False, False, False, False, False, False, False, False, False,\n",
       "        False, False, False, False, False, False, False, False, False,\n",
       "        False, False, False, False, False, False, False, False, False,\n",
       "        False, False, False, False, False, False, False]),\n",
       " 'IRAQI': array([False, False, False, False, False, False, False, False, False,\n",
       "        False, False, False, False, False, False, False, False, False,\n",
       "        False, False, False, False, False, False, False, False, False,\n",
       "        False, False, False, False, False, False, False, False, False,\n",
       "        False, False, False, False, False, False, False, False, False,\n",
       "        False, False, False, False, False, False, False, False, False,\n",
       "        False, False, False, False, False, False, False, False, False,\n",
       "        False, False, False, False, False, False, False, False, False,\n",
       "        False, False, False, False, False, False, False, False, False,\n",
       "        False, False, False, False, False, False, False, False, False,\n",
       "        False, False, False, False, False, False, False, False, False,\n",
       "        False, False, False, False, False, False, False, False, False,\n",
       "        False, False, False, False, False, False, False, False, False,\n",
       "        False, False, False, False, False, False, False, False, False,\n",
       "        False, False, False, False, False, False, False, False, False,\n",
       "        False, False, False, False, False, False, False, False, False,\n",
       "        False, False, False, False, False, False, False, False, False,\n",
       "        False, False, False, False, False, False, False, False, False,\n",
       "        False, False, False, False, False, False, False, False, False,\n",
       "        False, False, False, False, False, False, False, False, False,\n",
       "        False, False, False, False, False, False, False, False, False,\n",
       "        False, False, False, False, False, False, False, False, False,\n",
       "        False, False, False, False, False, False, False, False, False,\n",
       "        False, False, False, False, False, False, False, False, False,\n",
       "        False, False, False, False, False, False, False, False, False,\n",
       "        False, False, False, False, False, False, False, False, False,\n",
       "        False, False, False, False, False, False, False, False, False,\n",
       "        False, False, False, False, False, False, False, False, False,\n",
       "        False, False, False, False, False, False, False, False, False,\n",
       "        False, False, False, False, False, False, False, False, False,\n",
       "        False, False, False, False, False, False, False, False, False,\n",
       "        False, False, False, False, False, False, False, False, False,\n",
       "        False, False, False, False, False, False, False, False, False,\n",
       "        False, False, False, False, False, False, False, False, False,\n",
       "        False, False, False, False, False, False, False, False, False,\n",
       "        False, False, False, False, False, False, False, False, False,\n",
       "        False, False, False, False, False, False, False, False, False,\n",
       "        False, False, False, False, False, False, False, False, False,\n",
       "        False, False, False, False, False, False, False, False, False,\n",
       "        False, False, False, False, False, False, False, False, False,\n",
       "        False, False, False, False, False, False, False,  True,  True,\n",
       "         True,  True,  True,  True,  True,  True,  True,  True,  True,\n",
       "         True,  True,  True,  True,  True,  True,  True,  True,  True,\n",
       "         True,  True,  True,  True,  True,  True,  True,  True,  True,\n",
       "         True,  True,  True,  True,  True,  True,  True,  True,  True,\n",
       "         True,  True,  True,  True,  True,  True,  True,  True,  True,\n",
       "         True,  True,  True,  True,  True,  True,  True,  True,  True,\n",
       "         True,  True,  True,  True,  True,  True,  True,  True,  True,\n",
       "         True,  True,  True,  True,  True,  True,  True, False, False,\n",
       "        False, False, False, False, False, False, False, False, False,\n",
       "        False, False, False, False, False, False, False, False, False,\n",
       "        False, False, False, False, False, False, False, False, False,\n",
       "        False, False, False, False, False, False, False, False, False,\n",
       "        False, False, False, False, False, False, False, False, False,\n",
       "        False, False, False, False, False, False, False, False, False,\n",
       "        False, False, False, False, False, False, False, False, False,\n",
       "        False, False, False, False, False, False, False, False, False,\n",
       "        False, False, False, False, False, False, False, False, False,\n",
       "        False, False, False, False, False, False, False, False, False,\n",
       "        False, False, False, False, False, False, False, False, False,\n",
       "        False, False, False, False, False, False, False, False, False,\n",
       "        False, False, False, False, False, False, False, False, False,\n",
       "        False, False, False, False, False, False, False, False, False,\n",
       "        False, False, False, False, False, False, False, False, False,\n",
       "        False, False, False, False, False, False, False, False, False,\n",
       "        False, False, False, False, False, False, False, False, False,\n",
       "        False, False, False, False, False, False, False, False, False,\n",
       "        False, False, False, False, False, False, False, False, False,\n",
       "        False, False, False, False, False, False, False, False, False,\n",
       "        False, False, False, False, False, False, False, False, False,\n",
       "        False, False, False, False, False, False, False, False, False,\n",
       "        False, False, False, False, False, False, False, False, False,\n",
       "        False, False, False, False, False, False, False, False, False,\n",
       "        False, False, False, False, False, False, False, False, False,\n",
       "        False, False, False, False, False, False, False, False, False,\n",
       "        False, False, False, False, False, False, False, False, False,\n",
       "        False, False, False, False, False, False, False, False, False,\n",
       "        False, False, False, False, False, False, False, False, False,\n",
       "        False, False, False, False, False, False, False, False, False,\n",
       "        False, False, False, False, False, False, False, False, False,\n",
       "        False, False, False, False, False, False, False, False, False,\n",
       "        False, False, False, False, False, False, False, False, False,\n",
       "        False, False, False, False, False, False, False, False, False,\n",
       "        False, False, False, False, False, False, False, False, False,\n",
       "        False, False, False, False, False, False, False, False, False,\n",
       "        False, False, False, False, False, False, False, False, False,\n",
       "        False, False, False, False, False, False, False, False, False,\n",
       "        False, False, False, False, False, False, False, False, False,\n",
       "        False, False, False, False, False, False, False, False, False,\n",
       "        False, False, False, False, False, False, False, False, False,\n",
       "        False, False, False, False, False, False, False, False, False,\n",
       "        False, False, False, False, False, False, False, False, False,\n",
       "        False, False, False, False, False, False, False, False, False,\n",
       "        False, False, False, False, False, False, False, False, False,\n",
       "        False, False, False, False, False, False, False, False, False,\n",
       "        False, False, False, False, False, False, False, False, False,\n",
       "        False, False, False, False, False, False, False, False, False,\n",
       "        False, False, False, False, False, False, False, False, False,\n",
       "        False, False, False, False, False, False, False, False, False,\n",
       "        False, False, False, False, False, False, False]),\n",
       " 'ROTANA': array([False, False, False, False, False, False, False, False, False,\n",
       "        False, False, False, False, False, False, False, False, False,\n",
       "        False, False, False, False, False, False, False, False, False,\n",
       "        False, False, False, False, False, False, False, False, False,\n",
       "        False, False, False, False, False, False, False, False, False,\n",
       "        False, False, False, False, False, False, False, False, False,\n",
       "        False, False, False, False, False, False, False, False, False,\n",
       "        False, False, False, False, False, False, False, False, False,\n",
       "        False, False, False, False, False, False, False, False, False,\n",
       "        False, False, False, False, False, False, False, False, False,\n",
       "        False, False, False, False, False, False, False, False, False,\n",
       "        False, False, False, False, False, False, False, False, False,\n",
       "        False, False, False, False, False, False, False, False, False,\n",
       "        False, False, False, False, False, False, False, False, False,\n",
       "        False, False, False, False, False, False, False, False, False,\n",
       "        False, False, False, False, False, False, False, False, False,\n",
       "        False, False, False, False, False, False, False, False, False,\n",
       "        False, False, False, False, False, False, False, False, False,\n",
       "        False, False, False, False, False, False, False, False, False,\n",
       "        False, False, False, False, False, False, False, False, False,\n",
       "        False, False, False, False, False, False, False, False, False,\n",
       "        False, False, False, False, False, False, False, False, False,\n",
       "        False, False, False, False, False, False, False, False, False,\n",
       "        False, False, False, False, False, False, False, False, False,\n",
       "        False, False, False, False, False, False, False, False, False,\n",
       "        False, False, False, False, False, False, False, False, False,\n",
       "        False, False, False, False, False, False, False, False, False,\n",
       "        False, False, False, False, False, False, False, False, False,\n",
       "        False, False, False, False, False, False, False, False, False,\n",
       "        False, False, False, False, False, False, False, False, False,\n",
       "        False, False, False, False, False, False, False, False, False,\n",
       "        False, False, False, False, False, False, False, False, False,\n",
       "        False, False, False, False, False, False, False, False, False,\n",
       "        False, False, False, False, False, False, False, False, False,\n",
       "        False, False, False, False, False, False, False, False, False,\n",
       "        False, False, False, False, False, False, False, False, False,\n",
       "        False, False, False, False, False, False, False, False, False,\n",
       "        False, False, False, False, False, False, False, False, False,\n",
       "        False, False, False, False, False, False, False, False, False,\n",
       "        False, False, False, False, False, False, False, False, False,\n",
       "        False, False, False, False, False, False, False, False, False,\n",
       "        False, False, False, False, False, False, False, False, False,\n",
       "        False, False, False, False, False, False, False, False, False,\n",
       "        False, False, False, False, False, False, False, False, False,\n",
       "        False, False, False, False, False, False, False, False, False,\n",
       "        False, False, False, False, False, False, False, False, False,\n",
       "        False, False, False, False, False, False, False, False, False,\n",
       "        False, False, False, False, False, False, False, False, False,\n",
       "        False, False, False, False, False, False, False,  True,  True,\n",
       "         True,  True,  True,  True,  True,  True,  True,  True,  True,\n",
       "         True,  True,  True,  True,  True,  True,  True,  True,  True,\n",
       "         True,  True,  True,  True,  True,  True,  True,  True,  True,\n",
       "         True,  True,  True,  True,  True,  True,  True,  True,  True,\n",
       "         True,  True,  True,  True,  True,  True,  True,  True,  True,\n",
       "         True,  True,  True,  True,  True,  True,  True,  True,  True,\n",
       "         True,  True,  True,  True,  True,  True,  True,  True,  True,\n",
       "         True,  True,  True,  True,  True,  True,  True,  True,  True,\n",
       "         True,  True,  True,  True,  True,  True,  True,  True,  True,\n",
       "         True,  True,  True,  True,  True,  True,  True,  True,  True,\n",
       "         True,  True,  True,  True,  True,  True,  True,  True,  True,\n",
       "         True,  True,  True,  True,  True,  True,  True,  True,  True,\n",
       "         True,  True,  True,  True,  True,  True,  True,  True,  True,\n",
       "         True,  True,  True,  True,  True,  True,  True,  True,  True,\n",
       "         True,  True,  True,  True,  True,  True,  True,  True,  True,\n",
       "         True,  True,  True,  True,  True,  True,  True,  True,  True,\n",
       "         True,  True,  True,  True,  True,  True,  True,  True,  True,\n",
       "         True,  True,  True,  True,  True,  True,  True,  True,  True,\n",
       "         True,  True, False, False, False, False, False, False, False,\n",
       "        False, False, False, False, False, False, False, False, False,\n",
       "        False, False, False, False, False, False, False, False, False,\n",
       "        False, False, False, False, False, False, False, False, False,\n",
       "        False, False, False, False, False, False, False, False, False,\n",
       "        False, False, False, False, False, False, False, False, False,\n",
       "        False, False, False, False, False, False, False, False, False,\n",
       "        False, False, False, False, False, False, False, False, False,\n",
       "        False, False, False, False, False, False, False, False, False,\n",
       "        False, False, False, False, False, False, False, False, False,\n",
       "        False, False, False, False, False, False, False, False, False,\n",
       "        False, False, False, False, False, False, False, False, False,\n",
       "        False, False, False, False, False, False, False, False, False,\n",
       "        False, False, False, False, False, False, False, False, False,\n",
       "        False, False, False, False, False, False, False, False, False,\n",
       "        False, False, False, False, False, False, False, False, False,\n",
       "        False, False, False, False, False, False, False, False, False,\n",
       "        False, False, False, False, False, False, False, False, False,\n",
       "        False, False, False, False, False, False, False, False, False,\n",
       "        False, False, False, False, False, False, False, False, False,\n",
       "        False, False, False, False, False, False, False, False, False,\n",
       "        False, False, False, False, False, False, False, False, False,\n",
       "        False, False, False, False, False, False, False, False, False,\n",
       "        False, False, False, False, False, False, False, False, False,\n",
       "        False, False, False, False, False, False, False, False, False,\n",
       "        False, False, False, False, False, False, False, False, False,\n",
       "        False, False, False, False, False, False, False, False, False,\n",
       "        False, False, False, False, False, False, False, False, False,\n",
       "        False, False, False, False, False, False, False, False, False,\n",
       "        False, False, False, False, False, False, False, False, False,\n",
       "        False, False, False, False, False, False, False, False, False,\n",
       "        False, False, False, False, False, False, False, False, False,\n",
       "        False, False, False, False, False, False, False]),\n",
       " 'SAFAVI': array([False, False, False, False, False, False, False, False, False,\n",
       "        False, False, False, False, False, False, False, False, False,\n",
       "        False, False, False, False, False, False, False, False, False,\n",
       "        False, False, False, False, False, False, False, False, False,\n",
       "        False, False, False, False, False, False, False, False, False,\n",
       "        False, False, False, False, False, False, False, False, False,\n",
       "        False, False, False, False, False, False, False, False, False,\n",
       "        False, False, False, False, False, False, False, False, False,\n",
       "        False, False, False, False, False, False, False, False, False,\n",
       "        False, False, False, False, False, False, False, False, False,\n",
       "        False, False, False, False, False, False, False, False, False,\n",
       "        False, False, False, False, False, False, False, False, False,\n",
       "        False, False, False, False, False, False, False, False, False,\n",
       "        False, False, False, False, False, False, False, False, False,\n",
       "        False, False, False, False, False, False, False, False, False,\n",
       "        False, False, False, False, False, False, False, False, False,\n",
       "        False, False, False, False, False, False, False, False, False,\n",
       "        False, False, False, False, False, False, False, False, False,\n",
       "        False, False, False, False, False, False, False, False, False,\n",
       "        False, False, False, False, False, False, False, False, False,\n",
       "        False, False, False, False, False, False, False, False, False,\n",
       "        False, False, False, False, False, False, False, False, False,\n",
       "        False, False, False, False, False, False, False, False, False,\n",
       "        False, False, False, False, False, False, False, False, False,\n",
       "        False, False, False, False, False, False, False, False, False,\n",
       "        False, False, False, False, False, False, False, False, False,\n",
       "        False, False, False, False, False, False, False, False, False,\n",
       "        False, False, False, False, False, False, False, False, False,\n",
       "        False, False, False, False, False, False, False, False, False,\n",
       "        False, False, False, False, False, False, False, False, False,\n",
       "        False, False, False, False, False, False, False, False, False,\n",
       "        False, False, False, False, False, False, False, False, False,\n",
       "        False, False, False, False, False, False, False, False, False,\n",
       "        False, False, False, False, False, False, False, False, False,\n",
       "        False, False, False, False, False, False, False, False, False,\n",
       "        False, False, False, False, False, False, False, False, False,\n",
       "        False, False, False, False, False, False, False, False, False,\n",
       "        False, False, False, False, False, False, False, False, False,\n",
       "        False, False, False, False, False, False, False, False, False,\n",
       "        False, False, False, False, False, False, False, False, False,\n",
       "        False, False, False, False, False, False, False, False, False,\n",
       "        False, False, False, False, False, False, False, False, False,\n",
       "        False, False, False, False, False, False, False, False, False,\n",
       "        False, False, False, False, False, False, False, False, False,\n",
       "        False, False, False, False, False, False, False, False, False,\n",
       "        False, False, False, False, False, False, False, False, False,\n",
       "        False, False, False, False, False, False, False, False, False,\n",
       "        False, False, False, False, False, False, False, False, False,\n",
       "        False, False, False, False, False, False, False, False, False,\n",
       "        False, False, False, False, False, False, False, False, False,\n",
       "        False, False, False, False, False, False, False, False, False,\n",
       "        False, False, False, False, False, False, False, False, False,\n",
       "        False, False, False, False, False, False, False, False, False,\n",
       "        False, False, False, False, False, False, False, False, False,\n",
       "        False, False, False, False, False, False, False, False, False,\n",
       "        False, False, False, False, False, False, False, False, False,\n",
       "        False, False, False, False, False, False, False, False, False,\n",
       "        False, False, False, False, False, False, False, False, False,\n",
       "        False, False, False, False, False, False, False, False, False,\n",
       "        False, False, False, False, False, False, False, False, False,\n",
       "        False, False, False, False, False, False, False, False, False,\n",
       "        False, False, False, False, False, False, False, False, False,\n",
       "        False, False, False, False, False, False, False, False, False,\n",
       "        False, False, False, False, False, False, False, False, False,\n",
       "        False, False, False, False, False, False, False, False, False,\n",
       "        False, False, False, False, False, False, False, False, False,\n",
       "        False, False, False, False, False, False, False, False, False,\n",
       "        False, False,  True,  True,  True,  True,  True,  True,  True,\n",
       "         True,  True,  True,  True,  True,  True,  True,  True,  True,\n",
       "         True,  True,  True,  True,  True,  True,  True,  True,  True,\n",
       "         True,  True,  True,  True,  True,  True,  True,  True,  True,\n",
       "         True,  True,  True,  True,  True,  True,  True,  True,  True,\n",
       "         True,  True,  True,  True,  True,  True,  True,  True,  True,\n",
       "         True,  True,  True,  True,  True,  True,  True,  True,  True,\n",
       "         True,  True,  True,  True,  True,  True,  True,  True,  True,\n",
       "         True,  True,  True,  True,  True,  True,  True,  True,  True,\n",
       "         True,  True,  True,  True,  True,  True,  True,  True,  True,\n",
       "         True,  True,  True,  True,  True,  True,  True,  True,  True,\n",
       "         True,  True,  True,  True,  True,  True,  True,  True,  True,\n",
       "         True,  True,  True,  True,  True,  True,  True,  True,  True,\n",
       "         True,  True,  True,  True,  True,  True,  True,  True,  True,\n",
       "         True,  True,  True,  True,  True,  True,  True,  True,  True,\n",
       "         True,  True,  True,  True,  True,  True,  True,  True,  True,\n",
       "         True,  True,  True,  True,  True,  True,  True,  True,  True,\n",
       "         True,  True,  True,  True,  True,  True,  True,  True,  True,\n",
       "         True,  True,  True,  True,  True,  True,  True,  True,  True,\n",
       "         True,  True,  True,  True,  True,  True,  True,  True,  True,\n",
       "         True,  True,  True,  True,  True,  True,  True,  True,  True,\n",
       "         True,  True,  True,  True,  True,  True,  True,  True,  True,\n",
       "         True,  True,  True, False, False, False, False, False, False,\n",
       "        False, False, False, False, False, False, False, False, False,\n",
       "        False, False, False, False, False, False, False, False, False,\n",
       "        False, False, False, False, False, False, False, False, False,\n",
       "        False, False, False, False, False, False, False, False, False,\n",
       "        False, False, False, False, False, False, False, False, False,\n",
       "        False, False, False, False, False, False, False, False, False,\n",
       "        False, False, False, False, False, False, False, False, False,\n",
       "        False, False, False, False, False, False, False, False, False,\n",
       "        False, False, False, False, False, False, False, False, False,\n",
       "        False, False, False, False, False, False, False]),\n",
       " 'SOGAY': array([False, False, False, False, False, False, False, False, False,\n",
       "        False, False, False, False, False, False, False, False, False,\n",
       "        False, False, False, False, False, False, False, False, False,\n",
       "        False, False, False, False, False, False, False, False, False,\n",
       "        False, False, False, False, False, False, False, False, False,\n",
       "        False, False, False, False, False, False, False, False, False,\n",
       "        False, False, False, False, False, False, False, False, False,\n",
       "        False, False, False, False, False, False, False, False, False,\n",
       "        False, False, False, False, False, False, False, False, False,\n",
       "        False, False, False, False, False, False, False, False, False,\n",
       "        False, False, False, False, False, False, False, False, False,\n",
       "        False, False, False, False, False, False, False, False, False,\n",
       "        False, False, False, False, False, False, False, False, False,\n",
       "        False, False, False, False, False, False, False, False, False,\n",
       "        False, False, False, False, False, False, False, False, False,\n",
       "        False, False, False, False, False, False, False, False, False,\n",
       "        False, False, False, False, False, False, False, False, False,\n",
       "        False, False, False, False, False, False, False, False, False,\n",
       "        False, False, False, False, False, False, False, False, False,\n",
       "        False, False, False, False, False, False, False, False, False,\n",
       "        False, False, False, False, False, False, False, False, False,\n",
       "        False, False, False, False, False, False, False, False, False,\n",
       "        False, False, False, False, False, False, False, False, False,\n",
       "        False, False, False, False, False, False, False, False, False,\n",
       "        False, False, False, False, False, False, False, False, False,\n",
       "        False, False, False, False, False, False, False, False, False,\n",
       "        False, False, False, False, False, False, False, False, False,\n",
       "        False, False, False, False, False, False, False, False, False,\n",
       "        False, False, False, False, False, False, False, False, False,\n",
       "        False, False, False, False, False, False, False, False, False,\n",
       "        False, False, False, False, False, False, False, False, False,\n",
       "        False, False, False, False, False, False, False, False, False,\n",
       "        False, False, False, False, False, False, False, False, False,\n",
       "        False, False, False, False, False, False, False, False, False,\n",
       "        False, False, False, False, False, False, False, False, False,\n",
       "        False, False, False, False, False, False, False, False, False,\n",
       "        False, False, False, False, False, False, False, False, False,\n",
       "        False, False, False, False, False, False, False, False, False,\n",
       "        False, False, False, False, False, False, False, False, False,\n",
       "        False, False, False, False, False, False, False, False, False,\n",
       "        False, False, False, False, False, False, False, False, False,\n",
       "        False, False, False, False, False, False, False, False, False,\n",
       "        False, False, False, False, False, False, False, False, False,\n",
       "        False, False, False, False, False, False, False, False, False,\n",
       "        False, False, False, False, False, False, False, False, False,\n",
       "        False, False, False, False, False, False, False, False, False,\n",
       "        False, False, False, False, False, False, False, False, False,\n",
       "        False, False, False, False, False, False, False, False, False,\n",
       "        False, False, False, False, False, False, False, False, False,\n",
       "        False, False, False, False, False, False, False, False, False,\n",
       "        False, False, False, False, False, False, False, False, False,\n",
       "        False, False, False, False, False, False, False, False, False,\n",
       "        False, False, False, False, False, False, False, False, False,\n",
       "        False, False, False, False, False, False, False, False, False,\n",
       "        False, False, False, False, False, False, False, False, False,\n",
       "        False, False, False, False, False, False, False, False, False,\n",
       "        False, False, False, False, False, False, False, False, False,\n",
       "        False, False, False, False, False, False, False, False, False,\n",
       "        False, False, False, False, False, False, False, False, False,\n",
       "        False, False, False, False, False, False, False, False, False,\n",
       "        False, False, False, False, False, False, False, False, False,\n",
       "        False, False, False, False, False, False, False, False, False,\n",
       "        False, False, False, False, False, False, False, False, False,\n",
       "        False, False, False, False, False, False, False, False, False,\n",
       "        False, False, False, False, False, False, False, False, False,\n",
       "        False, False, False, False, False, False, False, False, False,\n",
       "        False, False, False, False, False, False, False, False, False,\n",
       "        False, False, False, False, False, False, False, False, False,\n",
       "        False, False, False, False, False, False, False, False, False,\n",
       "        False, False, False, False, False, False, False, False, False,\n",
       "        False, False, False, False, False, False, False, False, False,\n",
       "        False, False, False, False, False, False, False, False, False,\n",
       "        False, False, False, False, False, False, False, False, False,\n",
       "        False, False, False, False, False, False, False, False, False,\n",
       "        False, False, False, False, False, False, False, False, False,\n",
       "        False, False, False, False, False, False, False, False, False,\n",
       "        False, False, False, False, False, False, False, False, False,\n",
       "        False, False, False, False, False, False, False, False, False,\n",
       "        False, False, False, False, False, False, False, False, False,\n",
       "        False, False, False, False, False, False, False, False, False,\n",
       "        False, False, False, False, False, False, False, False, False,\n",
       "        False, False, False, False, False, False, False, False, False,\n",
       "        False, False, False, False, False, False, False, False, False,\n",
       "        False, False, False, False, False, False, False, False, False,\n",
       "        False, False, False, False, False, False, False, False, False,\n",
       "        False, False, False, False, False, False, False, False, False,\n",
       "        False, False, False, False, False, False, False, False, False,\n",
       "        False, False, False, False, False, False, False, False, False,\n",
       "        False, False, False, False, False, False, False, False, False,\n",
       "        False, False, False,  True,  True,  True,  True,  True,  True,\n",
       "         True,  True,  True,  True,  True,  True,  True,  True,  True,\n",
       "         True,  True,  True,  True,  True,  True,  True,  True,  True,\n",
       "         True,  True,  True,  True,  True,  True,  True,  True,  True,\n",
       "         True,  True,  True,  True,  True,  True,  True,  True,  True,\n",
       "         True,  True,  True,  True,  True,  True,  True,  True,  True,\n",
       "         True,  True,  True,  True,  True,  True,  True,  True,  True,\n",
       "         True,  True,  True,  True,  True,  True,  True,  True,  True,\n",
       "         True,  True,  True,  True,  True,  True,  True,  True,  True,\n",
       "         True,  True,  True,  True,  True,  True,  True,  True,  True,\n",
       "         True,  True,  True,  True,  True,  True,  True])}"
      ]
     },
     "execution_count": 38,
     "metadata": {},
     "output_type": "execute_result"
    }
   ],
   "source": [
    "class_index_dict = {}\n",
    "for class_ in class_dict:\n",
    "    class_index_dict[class_] = date_fruit_target == class_\n",
    "    \n",
    "class_index_dict"
   ]
  },
  {
   "cell_type": "code",
   "execution_count": 63,
   "id": "cedebb51",
   "metadata": {
    "slideshow": {
     "slide_type": "skip"
    }
   },
   "outputs": [
    {
     "name": "stderr",
     "output_type": "stream",
     "text": [
      "<ipython-input-63-63eaf93e9497>:2: RuntimeWarning: More than 20 figures have been opened. Figures created through the pyplot interface (`matplotlib.pyplot.figure`) are retained until explicitly closed and may consume too much memory. (To control this warning, see the rcParam `figure.max_open_warning`).\n",
      "  plt.figure()\n"
     ]
    },
    {
     "data": {
      "image/png": "[encoded data removed]",
      "text/plain": [
       "<Figure size 432x288 with 1 Axes>"
      ]
     },
     "metadata": {
      "needs_background": "light"
     },
     "output_type": "display_data"
    },
    {
     "data": {
      "image/png": "[encoded data removed]",
      "text/plain": [
       "<Figure size 432x288 with 1 Axes>"
      ]
     },
     "metadata": {
      "needs_background": "light"
     },
     "output_type": "display_data"
    },
    {
     "data": {
      "image/png": "[encoded data removed]",
      "text/plain": [
       "<Figure size 432x288 with 1 Axes>"
      ]
     },
     "metadata": {
      "needs_background": "light"
     },
     "output_type": "display_data"
    },
    {
     "data": {
      "image/png": "[encoded data removed]",
      "text/plain": [
       "<Figure size 432x288 with 1 Axes>"
      ]
     },
     "metadata": {
      "needs_background": "light"
     },
     "output_type": "display_data"
    },
    {
     "data": {
      "image/png": "[encoded data removed]",
      "text/plain": [
       "<Figure size 432x288 with 1 Axes>"
      ]
     },
     "metadata": {
      "needs_background": "light"
     },
     "output_type": "display_data"
    },
    {
     "data": {
      "image/png": "[encoded data removed]",
      "text/plain": [
       "<Figure size 432x288 with 1 Axes>"
      ]
     },
     "metadata": {
      "needs_background": "light"
     },
     "output_type": "display_data"
    },
    {
     "data": {
      "image/png": "[encoded data removed]",
      "text/plain": [
       "<Figure size 432x288 with 1 Axes>"
      ]
     },
     "metadata": {
      "needs_background": "light"
     },
     "output_type": "display_data"
    },
    {
     "data": {
      "image/png": "[encoded data removed]",
      "text/plain": [
       "<Figure size 432x288 with 1 Axes>"
      ]
     },
     "metadata": {
      "needs_background": "light"
     },
     "output_type": "display_data"
    },
    {
     "data": {
      "image/png": "[encoded data removed]",
      "text/plain": [
       "<Figure size 432x288 with 1 Axes>"
      ]
     },
     "metadata": {
      "needs_background": "light"
     },
     "output_type": "display_data"
    },
    {
     "data": {
      "image/png": "[encoded data removed]",
      "text/plain": [
       "<Figure size 432x288 with 1 Axes>"
      ]
     },
     "metadata": {
      "needs_background": "light"
     },
     "output_type": "display_data"
    },
    {
     "data": {
      "image/png": "[encoded data removed]",
      "text/plain": [
       "<Figure size 432x288 with 1 Axes>"
      ]
     },
     "metadata": {
      "needs_background": "light"
     },
     "output_type": "display_data"
    },
    {
     "data": {
      "image/png": "[encoded data removed]",
      "text/plain": [
       "<Figure size 432x288 with 1 Axes>"
      ]
     },
     "metadata": {
      "needs_background": "light"
     },
     "output_type": "display_data"
    },
    {
     "data": {
      "image/png": "[encoded data removed]",
      "text/plain": [
       "<Figure size 432x288 with 1 Axes>"
      ]
     },
     "metadata": {
      "needs_background": "light"
     },
     "output_type": "display_data"
    },
    {
     "data": {
      "image/png": "[encoded data removed]",
      "text/plain": [
       "<Figure size 432x288 with 1 Axes>"
      ]
     },
     "metadata": {
      "needs_background": "light"
     },
     "output_type": "display_data"
    },
    {
     "data": {
      "image/png": "[encoded data removed]",
      "text/plain": [
       "<Figure size 432x288 with 1 Axes>"
      ]
     },
     "metadata": {
      "needs_background": "light"
     },
     "output_type": "display_data"
    },
    {
     "data": {
      "image/png": "[encoded data removed]",
      "text/plain": [
       "<Figure size 432x288 with 1 Axes>"
      ]
     },
     "metadata": {
      "needs_background": "light"
     },
     "output_type": "display_data"
    },
    {
     "data": {
      "image/png": "[encoded data removed]",
      "text/plain": [
       "<Figure size 432x288 with 1 Axes>"
      ]
     },
     "metadata": {
      "needs_background": "light"
     },
     "output_type": "display_data"
    },
    {
     "data": {
      "image/png": "[encoded data removed]",
      "text/plain": [
       "<Figure size 432x288 with 1 Axes>"
      ]
     },
     "metadata": {
      "needs_background": "light"
     },
     "output_type": "display_data"
    },
    {
     "data": {
      "image/png": "[encoded data removed]",
      "text/plain": [
       "<Figure size 432x288 with 1 Axes>"
      ]
     },
     "metadata": {
      "needs_background": "light"
     },
     "output_type": "display_data"
    },
    {
     "data": {
      "image/png": "[encoded data removed]",
      "text/plain": [
       "<Figure size 432x288 with 1 Axes>"
      ]
     },
     "metadata": {
      "needs_background": "light"
     },
     "output_type": "display_data"
    },
    {
     "data": {
      "image/png": "[encoded data removed]",
      "text/plain": [
       "<Figure size 432x288 with 1 Axes>"
      ]
     },
     "metadata": {
      "needs_background": "light"
     },
     "output_type": "display_data"
    },
    {
     "data": {
      "image/png": "[encoded data removed]",
      "text/plain": [
       "<Figure size 432x288 with 1 Axes>"
      ]
     },
     "metadata": {
      "needs_background": "light"
     },
     "output_type": "display_data"
    },
    {
     "data": {
      "image/png": "[encoded data removed]",
      "text/plain": [
       "<Figure size 432x288 with 1 Axes>"
      ]
     },
     "metadata": {
      "needs_background": "light"
     },
     "output_type": "display_data"
    },
    {
     "data": {
      "image/png": "[encoded data removed]",
      "text/plain": [
       "<Figure size 432x288 with 1 Axes>"
      ]
     },
     "metadata": {
      "needs_background": "light"
     },
     "output_type": "display_data"
    },
    {
     "data": {
      "image/png": "[encoded data removed]",
      "text/plain": [
       "<Figure size 432x288 with 1 Axes>"
      ]
     },
     "metadata": {
      "needs_background": "light"
     },
     "output_type": "display_data"
    },
    {
     "data": {
      "image/png": "[encoded data removed]",
      "text/plain": [
       "<Figure size 432x288 with 1 Axes>"
      ]
     },
     "metadata": {
      "needs_background": "light"
     },
     "output_type": "display_data"
    },
    {
     "data": {
      "image/png": "[encoded data removed]",
      "text/plain": [
       "<Figure size 432x288 with 1 Axes>"
      ]
     },
     "metadata": {
      "needs_background": "light"
     },
     "output_type": "display_data"
    },
    {
     "data": {
      "image/png": "[encoded data removed]",
      "text/plain": [
       "<Figure size 432x288 with 1 Axes>"
      ]
     },
     "metadata": {
      "needs_background": "light"
     },
     "output_type": "display_data"
    },
    {
     "data": {
      "image/png": "[encoded data removed]",
      "text/plain": [
       "<Figure size 432x288 with 1 Axes>"
      ]
     },
     "metadata": {
      "needs_background": "light"
     },
     "output_type": "display_data"
    },
    {
     "data": {
      "image/png": "[encoded data removed]",
      "text/plain": [
       "<Figure size 432x288 with 1 Axes>"
      ]
     },
     "metadata": {
      "needs_background": "light"
     },
     "output_type": "display_data"
    },
    {
     "data": {
      "image/png": "[encoded data removed]",
      "text/plain": [
       "<Figure size 432x288 with 1 Axes>"
      ]
     },
     "metadata": {
      "needs_background": "light"
     },
     "output_type": "display_data"
    },
    {
     "data": {
      "image/png": "[encoded data removed]",
      "text/plain": [
       "<Figure size 432x288 with 1 Axes>"
      ]
     },
     "metadata": {
      "needs_background": "light"
     },
     "output_type": "display_data"
    },
    {
     "data": {
      "image/png": "[encoded data removed]",
      "text/plain": [
       "<Figure size 432x288 with 1 Axes>"
      ]
     },
     "metadata": {
      "needs_background": "light"
     },
     "output_type": "display_data"
    }
   ],
   "source": [
    "for column_index in range(len(column_dict)-2):\n",
    "    plt.figure()\n",
    "    plt.boxplot([date_fruit_data[class_index_dict[class_],column_index] for class_ in class_dict])\n",
    "    plt.title(list(column_dict.keys())[column_index] + \" of different classes\")\n",
    "    # plt.xlabel(range(len(class_dict)))\n",
    "    # plt.xticks(class_dict.keys())\n",
    "plt.show()"
   ]
  },
  {
   "cell_type": "code",
   "execution_count": 59,
   "id": "3c6ef4a6",
   "metadata": {
    "slideshow": {
     "slide_type": "skip"
    }
   },
   "outputs": [
    {
     "data": {
      "text/plain": [
       "35"
      ]
     },
     "execution_count": 59,
     "metadata": {},
     "output_type": "execute_result"
    }
   ],
   "source": [
    "len(column_dict)"
   ]
  },
  {
   "cell_type": "markdown",
   "id": "e613a4dd",
   "metadata": {
    "slideshow": {
     "slide_type": "slide"
    }
   },
   "source": [
    "# REFERENCE\n",
    "DATASET: https://www.muratkoklu.com/datasets/\n",
    "Citation Request :\n",
    "KOKLU, M., KURSUN, R., TASPINAR, Y. S., and CINAR, I. (2021). Classification of Date Fruits into Genetic Varieties Using Image Analysis. Mathematical Problems in Engineering, Vol.2021, Article ID: 4793293, DOI:10.1155/2021/4793293\n",
    "https://www.hindawi.com/journals/mpe/2021/4793293/"
   ]
  },
  {
   "cell_type": "code",
   "execution_count": null,
   "id": "f8c76018",
   "metadata": {},
   "outputs": [],
   "source": []
  }
 ],
 "metadata": {
  "celltoolbar": "Slideshow",
  "kernelspec": {
   "display_name": "Python 3",
   "language": "python",
   "name": "python3"
  },
  "language_info": {
   "codemirror_mode": {
    "name": "ipython",
    "version": 3
   },
   "file_extension": ".py",
   "mimetype": "text/x-python",
   "name": "python",
   "nbconvert_exporter": "python",
   "pygments_lexer": "ipython3",
   "version": "3.8.8"
  }
 },
 "nbformat": 4,
 "nbformat_minor": 5
}
