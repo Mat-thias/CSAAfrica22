{
 "cells": [
  {
   "cell_type": "markdown",
   "id": "wanted-reset",
   "metadata": {},
   "source": [
    "In today's exercises, we'll practice the material that was covered in this morning's lecture.\n",
    "\n",
    "Some problems at the end of the exercise notebook are marked as _optional_. Your progress on those problems won't be assessed: these problems have been provided as an additional challenge for people that have found the earlier problems straightforward."
   ]
  },
  {
   "cell_type": "markdown",
   "id": "commercial-nothing",
   "metadata": {},
   "source": [
    "## 1. Did you solve yesterday's problems?\n",
    "\n",
    "If you haven't already done so, please spend some time attempting to complete yesterday's problems, including the optional problems. We've deliberately set fewer exercises today to give you time for this."
   ]
  },
  {
   "cell_type": "markdown",
   "id": "associate-station",
   "metadata": {},
   "source": [
    "## 2. Flattening lists\n",
    "\n",
    "*This exercise might feel familiar - we set it yesterday too! Today, since we covered recursion, try to find a recursive solution.*\n",
    "\n",
    "Write a function, `flatten`, that \"flattens\" any list. A list is flat if it does not contain any nested list. A list that contains a nested list is flattened when the elements of any nested lists are removed, and put into a flat list.\n",
    "\n",
    "For example, if `a = [[[1, 2, 3], [4, 5, 6], [7], [8, 9], 10]]`, then `flatten(a) = [1, 2, 3, 4, 5, 6, 7, 8, 9, 10]`."
   ]
  },
  {
   "cell_type": "code",
   "execution_count": 14,
   "id": "thermal-fields",
   "metadata": {},
   "outputs": [
    {
     "data": {
      "text/plain": [
       "[1, 2, 3, 4, 5, 6, 7, 8, 9, 10]"
      ]
     },
     "execution_count": 14,
     "metadata": {},
     "output_type": "execute_result"
    }
   ],
   "source": [
    "def flatten(list_):\n",
    "    return_list = []\n",
    "    for element in list_:\n",
    "        if type(element) is not list:\n",
    "            return_list.append(element)\n",
    "        else:\n",
    "            return_list.extend(flatten(element))\n",
    "    return return_list\n",
    "        \n",
    "a = [[[1, 2, 3], [4, 5, 6], [7], [8, 9], 10]]\n",
    "flatten(a)"
   ]
  },
  {
   "cell_type": "code",
   "execution_count": 24,
   "id": "d3a7d1a9",
   "metadata": {},
   "outputs": [
    {
     "data": {
      "text/plain": [
       "[1, 2, 3, 4, 5, 6, 7, 8, 9, 10]"
      ]
     },
     "execution_count": 24,
     "metadata": {},
     "output_type": "execute_result"
    }
   ],
   "source": [
    "result = []\n",
    "\n",
    "def flatten(list_):\n",
    "    for element in list_:\n",
    "        if type(element) is not list:\n",
    "            result.append(element)\n",
    "        else:\n",
    "            flatten(element)\n",
    "    \n",
    "    return result\n",
    "\n",
    "a = [[[1, 2, 3], [4, 5, 6], [7], [8, 9], 10]]\n",
    "flatten(a)\n",
    "# a = [[[1, 2, 3], [4, 5, 6], [7], [8, 9], 10]]\n",
    "# flatten(a)"
   ]
  },
  {
   "cell_type": "markdown",
   "id": "improving-treasurer",
   "metadata": {},
   "source": [
    "## 3. Apply a function to a dictionary\n",
    "\n",
    "Using recursion, write a function, `apply_function`, that takes a function and a dictionary, and applies the function on the integer values of the dictionary. The dictionary can contain nested dictionaries as values, and the function should be apply to any integers contained within those.\n",
    "\n",
    "For example, we might want to apply this function:\n",
    "\n",
    "```\n",
    "def pow_2(n):\n",
    "    return n ** 2\n",
    "```\n",
    "\n",
    "to this dictionary:\n",
    "\n",
    "```\n",
    "fruit_counts = {\"apple\": 12, {\"banana\": {\"cavendish\": 4, \"plantain\": 14}}\n",
    "```\n",
    "\n",
    "This would return:\n",
    "\n",
    "```\n",
    "apply_function(pow_2, fruit_counts) = {\"apple\": 144, {\"banana\": {\"cavendish\": 16, \"plantain\": 196}}\n",
    "```"
   ]
  },
  {
   "cell_type": "code",
   "execution_count": 19,
   "id": "scenic-bangladesh",
   "metadata": {},
   "outputs": [
    {
     "data": {
      "text/plain": [
       "{'apple': 144, 'banana': {'cavendish': 16, 'plantain': 196}}"
      ]
     },
     "execution_count": 19,
     "metadata": {},
     "output_type": "execute_result"
    }
   ],
   "source": [
    "def apply_function(func, dictionary):\n",
    "    for key in dictionary.keys():\n",
    "        if type(dictionary[key]) is int:\n",
    "            dictionary[key] = func(dictionary[key])\n",
    "        elif type(dictionary[key]) is dict:\n",
    "            apply_function(func, dictionary[key])\n",
    "            \n",
    "    return dictionary\n",
    "    \n",
    "    \n",
    "def pow_2(n):\n",
    "    return n ** 2\n",
    "\n",
    "fruit_counts = {\"apple\": 12, \"banana\": {\"cavendish\": 4, \"plantain\": 14}}\n",
    "apply_function(pow_2, fruit_counts)"
   ]
  },
  {
   "cell_type": "markdown",
   "id": "iraqi-correction",
   "metadata": {},
   "source": [
    "## 4. Wherefore art thou, Romeo?\n",
    "\n",
    "We've include a file, `romeo_juliet.txt` (in the `data/` directory), that contains the play _Romeo and Juliet_. Write code that extracts all of the lines for the Romeo character; these start with \"  Rom.\" -- note the two spaces before \"Rom.\". You should output these lines to a file called `romeo.txt`. Repeat this, but this time, extract all of Juliet's first lines to a file called `juliet.txt`.\n",
    "\n",
    "**Hints**:\n",
    "- Make use of the `startswith` method of strings to check if a line begins with a given pattern.\n",
    "- Rather than duplicating your effort, think about writing a function that lets you easily switch characters."
   ]
  },
  {
   "cell_type": "code",
   "execution_count": 26,
   "id": "fifty-jimmy",
   "metadata": {},
   "outputs": [],
   "source": [
    "def extract_character_line(character):\n",
    "    pattern = \"  \" + character[:3] + \".\"\n",
    "    matched_line = []\n",
    "    \n",
    "    output_file_name = character.lower() + \".txt\"\n",
    "    output_file_path = \"data/\" + output_file_name\n",
    "    \n",
    "    with open(\"data/romeo_juliet.txt\", \"r\") as play_file, open(output_file_path, \"w\") as charater_file:\n",
    "        for line in play_file:\n",
    "            if line.startswith(pattern):\n",
    "                print(line, end=\"\", file=charater_file)\n",
    "    \n",
    "\n",
    "extract_character_line(\"Romeo\")\n",
    "extract_character_line(\"Juliet\")"
   ]
  },
  {
   "cell_type": "markdown",
   "id": "placed-grill",
   "metadata": {},
   "source": [
    "## Optional: 4.1 All of the lines\n",
    "\n",
    "Following on from the above problem, extend your solution to that it copies _all_ of the lines of a given character, not just the first line. You'll need to look at the contents of the `romeo_juliet.txt` file to understand how this is structured: a characters first line begins with their name (e.g., `Rom`), and then they continue speaking until there is a blank line."
   ]
  },
  {
   "cell_type": "code",
   "execution_count": 21,
   "id": "waiting-protection",
   "metadata": {},
   "outputs": [],
   "source": [
    "def extract_character_line(character):\n",
    "    pattern = \"  \" + character[:3]\n",
    "    matched_line = []\n",
    "    found_blank_line = True\n",
    "    \n",
    "    with open(\"data/romeo_juliet.txt\", \"r\") as play_file:\n",
    "        for line in play_file:\n",
    "            if line.startswith(pattern):\n",
    "                found_blank_line = False\n",
    "            elif line == \"\\n\":\n",
    "                found_blank_line = True\n",
    "            if not found_blank_line:\n",
    "                matched_line.append(line)\n",
    "                \n",
    "    output_file_name = character.lower() + \".txt\"\n",
    "    output_file_path = \"data/\" + output_file_name\n",
    "    \n",
    "    with open(output_file_path, \"w\") as charater_file:\n",
    "        for line in matched_line:\n",
    "            print(line, end=\"\", file=charater_file)\n",
    "        \n",
    "extract_character_line(\"Romeo\")"
   ]
  },
  {
   "cell_type": "markdown",
   "id": "historical-citizenship",
   "metadata": {},
   "source": [
    "## 5. Give me my sin again\n",
    "\n",
    "We have a function, `calculate_sin`, that is defined as:\n",
    "\n",
    "```\n",
    "import math\n",
    "\n",
    "def calculate_sin(x, n):\n",
    "    return math.sin(x)/n\n",
    "```\n",
    "\n",
    "Write a memoised version of this function: that is, a version that remembers previously calculated values. Use the _time_ module as described in the lectures to demonstrate the savings of the memoised version."
   ]
  },
  {
   "cell_type": "code",
   "execution_count": 56,
   "id": "empirical-disco",
   "metadata": {},
   "outputs": [
    {
     "name": "stdout",
     "output_type": "stream",
     "text": [
      "calculate_sin took 0.0 senconds\n",
      "memoised_calculate_sin took 0.0 senconds\n"
     ]
    }
   ],
   "source": [
    "import math\n",
    "import time\n",
    "\n",
    "def calculate_sin(x, n):\n",
    "    return math.sin(x)/n\n",
    "\n",
    "memoised_calculate_sin_dict = {}\n",
    "\n",
    "def memoised_calculate_sin(x, n):\n",
    "    value_pair = (x, n)\n",
    "    if value_pair in memoised_calculate_sin_dict:\n",
    "        return memoised_calculate_sin_dict[value_pair]\n",
    "    \n",
    "    else:\n",
    "        value = math.sin(x)/n\n",
    "        memoised_calculate_sin_dict[value_pair] = value\n",
    "        return value\n",
    "    \n",
    "start = time.time()\n",
    "calculate_sin(49, 12)\n",
    "end = time.time()\n",
    "print(f\"calculate_sin took {end-start} senconds\")\n",
    "\n",
    "start = time.time()\n",
    "memoised_calculate_sin(49000, 12)\n",
    "end = time.time()\n",
    "print(f\"memoised_calculate_sin took {end-start} senconds\")"
   ]
  }
 ],
 "metadata": {
  "kernelspec": {
   "display_name": "Python 3",
   "language": "python",
   "name": "python3"
  },
  "language_info": {
   "codemirror_mode": {
    "name": "ipython",
    "version": 3
   },
   "file_extension": ".py",
   "mimetype": "text/x-python",
   "name": "python",
   "nbconvert_exporter": "python",
   "pygments_lexer": "ipython3",
   "version": "3.8.8"
  }
 },
 "nbformat": 4,
 "nbformat_minor": 5
}
