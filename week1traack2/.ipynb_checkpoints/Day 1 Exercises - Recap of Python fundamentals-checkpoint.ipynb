{
 "cells": [
  {
   "cell_type": "markdown",
   "id": "sensitive-language",
   "metadata": {
    "slideshow": {
     "slide_type": "slide"
    }
   },
   "source": [
    "# Day 1 - Exercises: Recap of Python fundamentals\n",
    "\n",
    "In today's exercises, we'll practice the material that covered in this morning's lecture.\n",
    "\n",
    "Some problems at the end of the exercise notebook are marked as _optional_. Your progress on those problems won't be assessed: these problems have been provided as an additional challenge for people that have found the earlier problems straightforward."
   ]
  },
  {
   "cell_type": "markdown",
   "id": "commercial-nothing",
   "metadata": {},
   "source": [
    "## 1. Tennis\n",
    "\n",
    "The cost of a tennis racket is £50, while a dozen balls cost £30. How much will it cost Michael if he needs 2 rackets and 4 balls?"
   ]
  },
  {
   "cell_type": "code",
   "execution_count": 3,
   "id": "changed-floating",
   "metadata": {},
   "outputs": [
    {
     "data": {
      "text/plain": [
       "110.0"
      ]
     },
     "execution_count": 3,
     "metadata": {},
     "output_type": "execute_result"
    }
   ],
   "source": [
    "cost_racket = 50\n",
    "cost_ball = 30/12\n",
    "\n",
    "total = 2*cost_racket + 4*cost_ball\n",
    "total\n"
   ]
  },
  {
   "cell_type": "markdown",
   "id": "associate-station",
   "metadata": {},
   "source": [
    "## 2. Even numbers\n",
    "\n",
    "Using a `while` loop, print the first 200 even numbers."
   ]
  },
  {
   "cell_type": "code",
   "execution_count": 7,
   "id": "thermal-fields",
   "metadata": {},
   "outputs": [
    {
     "name": "stdout",
     "output_type": "stream",
     "text": [
      "0 2 4 6 8 10 12 14 16 18 20 22 24 26 28 30 32 34 36 38 40 42 44 46 48 50 52 54 56 58 60 62 64 66 68 70 72 74 76 78 80 82 84 86 88 90 92 94 96 98 100 102 104 106 108 110 112 114 116 118 120 122 124 126 128 130 132 134 136 138 140 142 144 146 148 150 152 154 156 158 160 162 164 166 168 170 172 174 176 178 180 182 184 186 188 190 192 194 196 198 200 202 204 206 208 210 212 214 216 218 220 222 224 226 228 230 232 234 236 238 240 242 244 246 248 250 252 254 256 258 260 262 264 266 268 270 272 274 276 278 280 282 284 286 288 290 292 294 296 298 300 302 304 306 308 310 312 314 316 318 320 322 324 326 328 330 332 334 336 338 340 342 344 346 348 350 352 354 356 358 360 362 364 366 368 370 372 374 376 378 380 382 384 386 388 390 392 394 396 398 "
     ]
    }
   ],
   "source": [
    "count = 0\n",
    "even_no = 0\n",
    "\n",
    "while count < 200:\n",
    "    print(even_no, end=\" \")\n",
    "    count += 1\n",
    "    even_no += 2"
   ]
  },
  {
   "cell_type": "markdown",
   "id": "improving-treasurer",
   "metadata": {},
   "source": [
    "## 2.1 Even numbers, part 2\n",
    "\n",
    "Using a `for` loop, print the first 200 even numbers."
   ]
  },
  {
   "cell_type": "code",
   "execution_count": 9,
   "id": "scenic-bangladesh",
   "metadata": {},
   "outputs": [
    {
     "name": "stdout",
     "output_type": "stream",
     "text": [
      "0 2 4 6 8 10 12 14 16 18 20 22 24 26 28 30 32 34 36 38 40 42 44 46 48 50 52 54 56 58 60 62 64 66 68 70 72 74 76 78 80 82 84 86 88 90 92 94 96 98 100 102 104 106 108 110 112 114 116 118 120 122 124 126 128 130 132 134 136 138 140 142 144 146 148 150 152 154 156 158 160 162 164 166 168 170 172 174 176 178 180 182 184 186 188 190 192 194 196 198 200 202 204 206 208 210 212 214 216 218 220 222 224 226 228 230 232 234 236 238 240 242 244 246 248 250 252 254 256 258 260 262 264 266 268 270 272 274 276 278 280 282 284 286 288 290 292 294 296 298 300 302 304 306 308 310 312 314 316 318 320 322 324 326 328 330 332 334 336 338 340 342 344 346 348 350 352 354 356 358 360 362 364 366 368 370 372 374 376 378 380 382 384 386 388 390 392 394 396 398 "
     ]
    }
   ],
   "source": [
    "for i in range(200):\n",
    "    print(i*2, end=\" \")"
   ]
  },
  {
   "cell_type": "markdown",
   "id": "iraqi-correction",
   "metadata": {},
   "source": [
    "## 3. Data types\n",
    "\n",
    "Given this list:\n",
    "`data_types = [\"a\", \"b\", \"c\", 2, 4, 6, 8, 10, True, True, False, 4.5, 3.87, 11.73]`\n",
    "\n",
    "Print only:\n",
    "- the strings;\n",
    "- the integers;\n",
    "- the floats;\n",
    "- the boolean values.\n",
    "\n",
    "The list of values of each type should be on a separate line."
   ]
  },
  {
   "cell_type": "code",
   "execution_count": 14,
   "id": "fifty-jimmy",
   "metadata": {},
   "outputs": [
    {
     "name": "stdout",
     "output_type": "stream",
     "text": [
      "a\n",
      "b\n",
      "c\n",
      "2\n",
      "4\n",
      "6\n",
      "8\n",
      "10\n",
      "True\n",
      "True\n",
      "False\n",
      "4.5\n",
      "3.87\n",
      "11.73\n"
     ]
    }
   ],
   "source": [
    "data_types = [\"a\", \"b\", \"c\", 2, 4, 6, 8, 10, True, True, False, 4.5, 3.87, 11.73]\n",
    "for i in range(len(data_types)):\n",
    "        print(data_types[i])"
   ]
  },
  {
   "cell_type": "markdown",
   "id": "placed-grill",
   "metadata": {},
   "source": [
    "## 4. Sorted lists\n",
    "\n",
    "   Given this list: \n",
    "   `institutions = [\"University of Glasgow\", \"University of Ibadan\", \"PWSA\", \"University of Rwanda\"]`\n",
    "                    \n",
    "Print the ordered, and reverse ordered, list of institutions."
   ]
  },
  {
   "cell_type": "code",
   "execution_count": 85,
   "id": "waiting-protection",
   "metadata": {},
   "outputs": [
    {
     "name": "stdout",
     "output_type": "stream",
     "text": [
      "PWSA\n",
      "University of Glasgow\n",
      "University of Ibadan\n",
      "University of Rwanda\n",
      "\n",
      "University of Rwanda\n",
      "University of Ibadan\n",
      "University of Glasgow\n",
      "PWSA\n"
     ]
    }
   ],
   "source": [
    "institutions = [\"University of Glasgow\", \"University of Ibadan\", \"PWSA\", \"University of Rwanda\"]\n",
    "#sorting list\n",
    "institutions.sort()\n",
    "\n",
    "#ordered list of institutions\n",
    "for i in range(len(institutions)):\n",
    "    print(institutions[i])\n",
    "\n",
    "print()\n",
    "\n",
    "#reversedordered list of institutions\n",
    "for i in range(len(institutions)-1,-1,-1):\n",
    "    print(institutions[i])"
   ]
  },
  {
   "cell_type": "markdown",
   "id": "historical-citizenship",
   "metadata": {},
   "source": [
    "## 5. Random password\n",
    "\n",
    "Write a function, `random_password`, that generates a random password with the following properties:\n",
    "- each password should have a random length, of between 7 and 12 characters.\n",
    "- each character of the password should be randomly selected from positions 33 to 126 of the ASCII table.\n",
    "\n",
    "_Hints: use the random.randint(x, y) will generate a random number between x and y (inclusive); chr(n) will give you the _n_th character of the ASCII table._"
   ]
  },
  {
   "cell_type": "code",
   "execution_count": 10,
   "id": "empirical-disco",
   "metadata": {},
   "outputs": [],
   "source": [
    "import random\n",
    "\n",
    "def random_password():\n",
    "    #generating a random password length\n",
    "    password_length = random.randint(7, 12)\n",
    "    password = \"\"\n",
    "    \n",
    "    for i in range(password_length):\n",
    "        password += chr(random.randint(33, 126))\n",
    "    \n",
    "    return password"
   ]
  },
  {
   "cell_type": "code",
   "execution_count": 7,
   "id": "0e020375",
   "metadata": {},
   "outputs": [
    {
     "name": "stdout",
     "output_type": "stream",
     "text": [
      "<module 'string' from 'C:\\\\Users\\\\User\\\\anaconda3\\\\lib\\\\string.py'>\n"
     ]
    },
    {
     "data": {
      "text/plain": [
       "['Formatter',\n",
       " 'Template',\n",
       " '_ChainMap',\n",
       " '_TemplateMetaclass',\n",
       " '__all__',\n",
       " '__builtins__',\n",
       " '__cached__',\n",
       " '__doc__',\n",
       " '__file__',\n",
       " '__loader__',\n",
       " '__name__',\n",
       " '__package__',\n",
       " '__spec__',\n",
       " '_re',\n",
       " '_sentinel_dict',\n",
       " '_string',\n",
       " 'ascii_letters',\n",
       " 'ascii_lowercase',\n",
       " 'ascii_uppercase',\n",
       " 'capwords',\n",
       " 'digits',\n",
       " 'hexdigits',\n",
       " 'octdigits',\n",
       " 'printable',\n",
       " 'punctuation',\n",
       " 'whitespace']"
      ]
     },
     "execution_count": 7,
     "metadata": {},
     "output_type": "execute_result"
    }
   ],
   "source": [
    "import string\n",
    "print(string)\n",
    "dir(string)"
   ]
  },
  {
   "cell_type": "markdown",
   "id": "rough-mayor",
   "metadata": {},
   "source": [
    "## 6. Good password\n",
    "\n",
    "Write a function, `good_password` that determines whether or not a given password is \"good\". A password is \"good\" if it is:\n",
    "- at least 8 characters long; and\n",
    "- contains at least one uppercase letter, one lowercase letter, and at least one digit."
   ]
  },
  {
   "cell_type": "code",
   "execution_count": 20,
   "id": "agreed-swing",
   "metadata": {},
   "outputs": [
    {
     "data": {
      "text/plain": [
       "False"
      ]
     },
     "execution_count": 20,
     "metadata": {},
     "output_type": "execute_result"
    }
   ],
   "source": [
    "def good_password(password):\n",
    "    #returns True if it is a good password\n",
    "    if len(password) < 8:\n",
    "        return False\n",
    "    #checking if there is any digit in the password\n",
    "    if not any([char.isdigit() for char in password]):\n",
    "         return False\n",
    "    #checking if there is any uppercase charater in the password\n",
    "    if not any ([char.isupper() for char in password]):\n",
    "         return False\n",
    "    #checking if there is any digit in the password   \n",
    "    if not any([char.islower() for char in password]):\n",
    "         return False\n",
    "        \n",
    "    return True\n",
    "\n",
    "good_password(\"LLLLLL8888\")\n"
   ]
  },
  {
   "cell_type": "markdown",
   "id": "verbal-artwork",
   "metadata": {},
   "source": [
    "## 7. Words from keyboard rows\n",
    "\n",
    "Write a function that, when given a list of words, returns a list containing only those words that can be typed using letters of the alphabet that occur on a single row of the standard English \"qwerty\" keyboard. Characters in each row can be used more than once. You can assume that input strings will only contain letters of the alphabet.\n",
    "\n",
    "- row 1: qwertyuiop\n",
    "- row 2: asdfghjkl\n",
    "- row 3: zxcvbnm\n",
    "\n",
    "For example, the word \"data\" does _not_ satisfy the constraint: \"t\" is not in the same row as \"d\" and \"A\". The word \"type\" _does_ satisfy the condition, since each letter is on the same row."
   ]
  },
  {
   "cell_type": "code",
   "execution_count": 40,
   "id": "5310978e",
   "metadata": {},
   "outputs": [],
   "source": [
    "def keyboard_word(word):\n",
    "    row_1 = \"qwertyuiop\"\n",
    "    row_2 = \"asdfghjkl\"\n",
    "    row_3 = \"zxcvbn\"\n",
    "    \n",
    "    if all(char in row_1 for char in word) or all(char in row_2 for char in word) or all(char in row_3 for char in word):\n",
    "        return True\n",
    "    return False\n",
    "\n",
    "def check_list(word_list):\n",
    "    return_list = []\n",
    "    for word in word_list:\n",
    "        if keyboard_word(word):\n",
    "            return_list.append(word)\n",
    "            "
   ]
  },
  {
   "cell_type": "markdown",
   "id": "competitive-cooperative",
   "metadata": {},
   "source": [
    "## 8. Finding missing numbers\n",
    "\n",
    "Write a function that takes two lists, A and B, and that returns those numbers that do not appear in both lists. If a number occurs in one list, it must occur the same number of times in the other, otherwise the number is \"missing\". The function must return an ordered list of the missing numbers. Each missing number should only be printed once, even if it is \"missing\" multiple times.\n",
    "\n",
    "As an example, suppose `A = [2, 4, 1, 5, 6, 1, 8, 9, 10, 1, 2]` and `B = [4, 6, 1, 2, 8, 9, 1]`. The missing numbers, in order, are `[1, 2, 5, 10]`."
   ]
  },
  {
   "cell_type": "code",
   "execution_count": 24,
   "id": "catholic-penny",
   "metadata": {},
   "outputs": [
    {
     "data": {
      "text/plain": [
       "[1, 2, 5, 10]"
      ]
     },
     "execution_count": 24,
     "metadata": {},
     "output_type": "execute_result"
    }
   ],
   "source": [
    "def find_missing(list1, list2):\n",
    "    combined_set = set(list1 + list2)\n",
    "    return_list = []\n",
    "    \n",
    "    for element in combined_set:\n",
    "        count1 = list1.count(element)\n",
    "        count2 = list2.count(element)\n",
    "        \n",
    "        if count1 != count2:\n",
    "            return_list.append(element)\n",
    "            \n",
    "    return_list.sort()\n",
    "    \n",
    "    return (return_list)\n",
    "    \n",
    "A = [2, 4, 1, 5, 6, 1, 8, 9, 10, 1, 2]\n",
    "B = [4, 6, 1, 2, 8, 9, 1]\n",
    "find_missing(A, B)"
   ]
  },
  {
   "cell_type": "markdown",
   "id": "israeli-authorization",
   "metadata": {},
   "source": [
    "## 9. Flattening lists\n",
    "\n",
    "Write a function, `flatten`, that \"flattens\" any list. A list is flat if it does not contain any nested list. A list that contains a nested list is flattened when the elements of any nested lists are removed, and put into a flat list.\n",
    "\n",
    "For example, if `a = [[[1, 2, 3], [4, 5, 6], [7], [8, 9], 10]]`, then `flatten(a) = [1, 2, 3, 4, 5, 6, 7, 8, 9, 10]`."
   ]
  },
  {
   "cell_type": "code",
   "execution_count": 11,
   "id": "utility-appointment",
   "metadata": {},
   "outputs": [
    {
     "data": {
      "text/plain": [
       "[1, 2, 3, 4, 5, 6, 7, 8, 9, 10, 4, 5]"
      ]
     },
     "execution_count": 11,
     "metadata": {},
     "output_type": "execute_result"
    }
   ],
   "source": [
    "def flatten(list_):\n",
    "    return_list = []\n",
    "    for element in list_:\n",
    "        if type(element) is not list:\n",
    "            return_list.append(element)\n",
    "        else:\n",
    "            return_list.extend(flatten(element))\n",
    "    return return_list\n",
    "\n",
    "a = [[[1, 2, 3], [4, 5, 6], [7], [8, 9], 10], [4, [5]]]\n",
    "flatten(a)"
   ]
  },
  {
   "cell_type": "code",
   "execution_count": 16,
   "id": "81206ed9",
   "metadata": {},
   "outputs": [
    {
     "name": "stdout",
     "output_type": "stream",
     "text": [
      "[1, 2, 3, 4, 5, 6, 7, 8, 9, 10, 4, 5]\n",
      "[1, 2, 3, 4, 5, 6, 7, 8, 9, 10, 4, 5, 1, 2, 3, 4, 5, 6, 7, 8, 9, 10, 4, 5]\n"
     ]
    }
   ],
   "source": [
    "list_i = []\n",
    "def flatten(list_):\n",
    "    for element in list_:\n",
    "        if type(element) is not list:\n",
    "            list_i.append(element)\n",
    "        else:\n",
    "            flatten(element)\n",
    "            \n",
    "    return list_i\n",
    "    \n",
    "a = [[[1, 2, 3], [4, 5, 6], [7], [8, 9], 10], [4, [5]]]\n",
    "print(flatten(a))\n",
    "\n",
    "a = [[[1, 2, 3], [4, 5, 6], [7], [8, 9], 10], [4, [5]]]\n",
    "print(flatten(a))"
   ]
  },
  {
   "cell_type": "markdown",
   "id": "joined-classics",
   "metadata": {},
   "source": [
    "## 10. Identical lists\n",
    "\n",
    "Write a function, `identical`, that checks if two lists are _circularly identical_. A circular list is where we consider the first element as being next to the last element, forming a circle.\n",
    "\n",
    "For example, if `a = [2, 0, 5, 10, 0, 5, 7, 10]` and `b = [10, 2, 0, 5, 10, 0, 5, 7]`, then `identical(a, b)` is `True`, since these lists are circularly identical. However, if `a = [10, 10, 5, 10]` and `b = [10, 10, 10, 0]`, then `identical(a, b)` is `False`."
   ]
  },
  {
   "cell_type": "code",
   "execution_count": 11,
   "id": "neither-tampa",
   "metadata": {},
   "outputs": [
    {
     "name": "stdout",
     "output_type": "stream",
     "text": [
      "True\n"
     ]
    },
    {
     "data": {
      "text/plain": [
       "False"
      ]
     },
     "execution_count": 11,
     "metadata": {},
     "output_type": "execute_result"
    }
   ],
   "source": [
    "def identical(list1, list2):\n",
    "    if len(list1) != len(list2):\n",
    "        return False\n",
    "    \n",
    "    length = len(list1)\n",
    "    \n",
    "    for list2_index in range(length):\n",
    "        list1_index = 0\n",
    "        while list1[list1_index] == list2[list2_index % length]:\n",
    "            list1_index += 1\n",
    "            list2_index += 1\n",
    "            \n",
    "            if list1_index == length:\n",
    "                return True\n",
    "            \n",
    "    return False\n",
    "            \n",
    "\n",
    "a = [2, 0, 5, 10, 0, 5, 7, 10]\n",
    "b = [10, 2, 0, 5, 10, 0, 5, 7]\n",
    "print(identical(a, b))\n",
    "\n",
    "a = [10, 10, 5, 10]\n",
    "b = [10, 10, 10, 0]\n",
    "identical(a, b)"
   ]
  },
  {
   "cell_type": "markdown",
   "id": "third-riding",
   "metadata": {},
   "source": [
    "## Optional: 11. Pattern\n",
    "\n",
    "In this task, you are required to implement a function `detect_pattern` that determines whether two strings have the same pattern of characters. Two strings have the same pattern if they are of the same length, and, there are at least two characters in string `a` that are the same, and that at the same positions in string `b`, those characters are also equal to each other. \n",
    "\n",
    "For example, `aba` and `xyz` do not contain a pattern. Despite being the same length, we have the same characters at positions 0 and 2 in string 1, but the characters at positions 0 and 2 in string 2 are not the same.\n",
    "\n",
    "`aba` and `xyx` _do_ have a pattern: they are the same length, and the characters in 0 and 2 in string 1 are equal, _and_ the characters at those positions in string 2 are also equal."
   ]
  },
  {
   "cell_type": "code",
   "execution_count": 4,
   "id": "distributed-shield",
   "metadata": {},
   "outputs": [
    {
     "data": {
      "text/plain": [
       "True"
      ]
     },
     "execution_count": 4,
     "metadata": {},
     "output_type": "execute_result"
    }
   ],
   "source": [
    "def char_index(string):\n",
    "    \"\"\"returns a dict of chars as key and a set of their corresponding indeces\"\"\"\n",
    "    return_dict = {}\n",
    "    for index, char in enumerate(string):\n",
    "        return_dict[char] = return_dict.get(char, []) + [index]\n",
    "    for char in return_dict.keys():\n",
    "        return_dict[char] = set(return_dict[char])\n",
    "\n",
    "    return return_dict\n",
    "    \n",
    "\n",
    "def detect_pattern(str1, str2):\n",
    "    dict1 = char_index(str1)\n",
    "    dict2 = char_index(str2)\n",
    "    \n",
    "#     checking all the characters in the dict if they have a corresponding intersect \n",
    "    for char1 in dict1.keys():\n",
    "        for char2 in dict2.keys():\n",
    "            new_set = dict1[char1] & dict2[char2]\n",
    "            if len(new_set) >= 2:\n",
    "                return True\n",
    "    return False\n",
    "        \n",
    "    \n",
    "detect_pattern(\"aba\",\"xyx\")"
   ]
  },
  {
   "cell_type": "markdown",
   "id": "checked-lawrence",
   "metadata": {},
   "source": [
    "## Optional: 12. Alphabet rangoli\n",
    "\n",
    "*This one is really challenging!*\n",
    "\n",
    "Write a function `rangoli` that prints an _alphabet rangoli_ of a specified size. Rangoli is a form of Indian folk art based on creating patterns. Different sizes of alphabet rangoli are shown:\n",
    "\n",
    "```\n",
    "rangoli(3)\n",
    "\n",
    "- - - - c - - - -\n",
    "- - c - b - c - -\n",
    "c - b - a - b - c \n",
    "- - c - b - c - -\n",
    "- - - - c - - - -\n",
    "\n",
    "rangoli(4)\n",
    "\n",
    "- - - - - - d - - - - - -\n",
    "- - - - d - c - d - - - -\n",
    "- - d - c - b - c - d - -\n",
    "d - c - b - a - b - c - d\n",
    "- - d - c - b - c - d - -\n",
    "- - - - d - c - d - - - -\n",
    "- - - - - - d - - - - - -\n",
    "```\n",
    "\n",
    "Think about how you can bring this problem down. Talk to the other members of your group, and your tutor for help: solving it together is allowed!"
   ]
  },
  {
   "cell_type": "code",
   "execution_count": 7,
   "id": "better-scheduling",
   "metadata": {},
   "outputs": [
    {
     "name": "stdout",
     "output_type": "stream",
     "text": [
      "- - - - - - - - e - - - - - - - - \n",
      "- - - - - - e - d - e - - - - - - \n",
      "- - - - e - d - c - d - e - - - - \n",
      "- - e - d - c - b - c - d - e - - \n",
      "e - d - c - b - a - b - c - d - e \n",
      "- - e - d - c - b - c - d - e - - \n",
      "- - - - e - d - c - d - e - - - - \n",
      "- - - - - - e - d - e - - - - - - \n",
      "- - - - - - - - e - - - - - - - - \n"
     ]
    }
   ],
   "source": [
    "def rangoli(num):\n",
    "    row = 1+2*(num-1)\n",
    "    col = 1+4*(num-1)\n",
    "    row_mid = row//2\n",
    "    col_mid = col//2\n",
    "    \n",
    "    for i in range(row):\n",
    "        for j in range(col):\n",
    "            #converting a row to be in the first quadrant, since it is all symmetric \n",
    "            row_in_1st_quadrants = abs(row_mid - i)\n",
    "            col_in_1st_quadrants = abs(col_mid - j) // 2\n",
    "            \n",
    "            #all odd numbered columns have \"-\" in them\n",
    "            if j%2 == 1:\n",
    "                print(\"-\", end=\" \")\n",
    "            #if the row value is greater than the column, \"-\" is printed,\n",
    "            #Note: the column is divided by 2 because of the dashed spacing in between\n",
    "            else:\n",
    "                if row_in_1st_quadrants > abs(col_mid//2 - col_in_1st_quadrants):\n",
    "                    print(\"-\", end=\" \")\n",
    "                else:\n",
    "                    \"\"\"\n",
    "                    notice that for each character printed, the difference between the column and row add to the ascii \n",
    "                    value of \"a\"\n",
    "                    \"\"\"\n",
    "                    diff = abs(row_in_1st_quadrants + col_in_1st_quadrants)\n",
    "                    print(chr(97+diff), end=\" \")\n",
    "        print()\n",
    "            \n",
    "rangoli(5)"
   ]
  },
  {
   "cell_type": "code",
   "execution_count": 58,
   "id": "04b1828b",
   "metadata": {},
   "outputs": [
    {
     "name": "stdout",
     "output_type": "stream",
     "text": [
      "- - - - - - - - e - - - - - - - -\n",
      "- - - - - - e - d - e - - - - - -\n",
      "- - - - e - d - c - d - e - - - -\n",
      "- - e - d - c - b - c - d - e - -\n",
      "e - d - c - b - a - b - c - d - e\n",
      "- - e - d - c - b - c - d - e - -\n",
      "- - - - e - d - c - d - e - - - -\n",
      "- - - - - - e - d - e - - - - - -\n",
      "- - - - - - - - e - - - - - - - -\n"
     ]
    }
   ],
   "source": [
    "from string import ascii_lowercase\n",
    "\n",
    "def rangoli(n):\n",
    "    pattern = []\n",
    "    needed_characters = ascii_lowercase[:n]\n",
    "    middle_character = needed_characters[::-1] + needed_characters[1:]\n",
    "    \n",
    "    middle_line = \" - \".join(middle_character)\n",
    "    pattern += [middle_line]\n",
    "    \n",
    "    for i in range(1,n):\n",
    "        next_line_characters = needed_characters[i:]\n",
    "        line_characters = next_line_characters[::-1] + next_line_characters[1:]\n",
    "        line = \" - \".join(line_characters)\n",
    "        dashes = \" \".join(\"-\"*i*2)\n",
    "        \n",
    "        line_with_dashes =  dashes+ \" \" + line + \" \" + dashes\n",
    "        \n",
    "        pattern = [line_with_dashes] + pattern + [line_with_dashes]\n",
    "        \n",
    "    for line in pattern:\n",
    "        print(line)\n",
    "\n",
    "rangoli(5)"
   ]
  },
  {
   "cell_type": "code",
   "execution_count": null,
   "id": "2a475e8c",
   "metadata": {},
   "outputs": [],
   "source": []
  }
 ],
 "metadata": {
  "kernelspec": {
   "display_name": "Python 3",
   "language": "python",
   "name": "python3"
  },
  "language_info": {
   "codemirror_mode": {
    "name": "ipython",
    "version": 3
   },
   "file_extension": ".py",
   "mimetype": "text/x-python",
   "name": "python",
   "nbconvert_exporter": "python",
   "pygments_lexer": "ipython3",
   "version": "3.8.8"
  }
 },
 "nbformat": 4,
 "nbformat_minor": 5
}
